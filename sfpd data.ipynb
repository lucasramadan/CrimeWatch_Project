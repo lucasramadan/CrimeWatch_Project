{
 "cells": [
  {
   "cell_type": "code",
   "execution_count": 2,
   "metadata": {
    "collapsed": true
   },
   "outputs": [],
   "source": [
    "import pandas as pd"
   ]
  },
  {
   "cell_type": "code",
   "execution_count": 3,
   "metadata": {
    "collapsed": true
   },
   "outputs": [],
   "source": [
    "df = pd.read_csv('data/SFPD_Incidents_-_from_1_January_2003.csv')"
   ]
  },
  {
   "cell_type": "code",
   "execution_count": 12,
   "metadata": {
    "collapsed": false
   },
   "outputs": [
    {
     "name": "stdout",
     "output_type": "stream",
     "text": [
      "<class 'pandas.core.frame.DataFrame'>\n",
      "Int64Index: 1407904 entries, 0 to 1407903\n",
      "Data columns (total 14 columns):\n",
      "IncidntNum    1407904 non-null int64\n",
      "Category      1407904 non-null object\n",
      "Descript      1407904 non-null object\n",
      "DayOfWeek     1407904 non-null object\n",
      "Date          1407904 non-null object\n",
      "Time          1407904 non-null object\n",
      "PdDistrict    1407903 non-null object\n",
      "Resolution    1407904 non-null object\n",
      "Address       1407904 non-null object\n",
      "X             1407903 non-null float64\n",
      "Y             1407903 non-null float64\n",
      "Location      1407903 non-null object\n",
      "PdId          1407903 non-null float64\n",
      "Year          1407904 non-null object\n",
      "dtypes: float64(3), int64(1), object(10)\n",
      "memory usage: 161.1+ MB\n"
     ]
    }
   ],
   "source": [
    "df.info()"
   ]
  },
  {
   "cell_type": "code",
   "execution_count": 35,
   "metadata": {
    "collapsed": false
   },
   "outputs": [
    {
     "data": {
      "text/html": [
       "<div>\n",
       "<table border=\"1\" class=\"dataframe\">\n",
       "  <thead>\n",
       "    <tr style=\"text-align: right;\">\n",
       "      <th></th>\n",
       "      <th>IncidntNum</th>\n",
       "      <th>Category</th>\n",
       "      <th>Descript</th>\n",
       "      <th>DayOfWeek</th>\n",
       "      <th>Date</th>\n",
       "      <th>Time</th>\n",
       "      <th>PdDistrict</th>\n",
       "      <th>Resolution</th>\n",
       "      <th>Address</th>\n",
       "      <th>X</th>\n",
       "      <th>Y</th>\n",
       "      <th>Location</th>\n",
       "      <th>PdId</th>\n",
       "      <th>Year</th>\n",
       "    </tr>\n",
       "  </thead>\n",
       "  <tbody>\n",
       "    <tr>\n",
       "      <th>0</th>\n",
       "      <td>160117098</td>\n",
       "      <td>DRIVING UNDER THE INFLUENCE</td>\n",
       "      <td>DRIVING WHILE UNDER THE INFLUENCE OF ALCOHOL</td>\n",
       "      <td>Monday</td>\n",
       "      <td>02/08/2016</td>\n",
       "      <td>23:55</td>\n",
       "      <td>CENTRAL</td>\n",
       "      <td>ARREST, BOOKED</td>\n",
       "      <td>PINE ST / MONTGOMERY ST</td>\n",
       "      <td>-122.402574</td>\n",
       "      <td>37.791898</td>\n",
       "      <td>(37.7918981438883, -122.402573952339)</td>\n",
       "      <td>1.601171e+13</td>\n",
       "      <td>2016</td>\n",
       "    </tr>\n",
       "    <tr>\n",
       "      <th>1</th>\n",
       "      <td>160117098</td>\n",
       "      <td>OTHER OFFENSES</td>\n",
       "      <td>TRAFFIC VIOLATION ARREST</td>\n",
       "      <td>Monday</td>\n",
       "      <td>02/08/2016</td>\n",
       "      <td>23:55</td>\n",
       "      <td>CENTRAL</td>\n",
       "      <td>ARREST, BOOKED</td>\n",
       "      <td>PINE ST / MONTGOMERY ST</td>\n",
       "      <td>-122.402574</td>\n",
       "      <td>37.791898</td>\n",
       "      <td>(37.7918981438883, -122.402573952339)</td>\n",
       "      <td>1.601171e+13</td>\n",
       "      <td>2016</td>\n",
       "    </tr>\n",
       "    <tr>\n",
       "      <th>2</th>\n",
       "      <td>160117010</td>\n",
       "      <td>OTHER OFFENSES</td>\n",
       "      <td>DRIVERS LICENSE, SUSPENDED OR REVOKED</td>\n",
       "      <td>Monday</td>\n",
       "      <td>02/08/2016</td>\n",
       "      <td>23:50</td>\n",
       "      <td>MISSION</td>\n",
       "      <td>ARREST, BOOKED</td>\n",
       "      <td>20TH ST / CHURCH ST</td>\n",
       "      <td>-122.428052</td>\n",
       "      <td>37.758090</td>\n",
       "      <td>(37.7580899767786, -122.428051707644)</td>\n",
       "      <td>1.601170e+13</td>\n",
       "      <td>2016</td>\n",
       "    </tr>\n",
       "    <tr>\n",
       "      <th>3</th>\n",
       "      <td>160117060</td>\n",
       "      <td>ASSAULT</td>\n",
       "      <td>AGGRAVATED ASSAULT ON POLICE OFFICER WITH A KNIFE</td>\n",
       "      <td>Monday</td>\n",
       "      <td>02/08/2016</td>\n",
       "      <td>23:50</td>\n",
       "      <td>BAYVIEW</td>\n",
       "      <td>ARREST, BOOKED</td>\n",
       "      <td>1200 Block of 4TH ST</td>\n",
       "      <td>-122.391397</td>\n",
       "      <td>37.772351</td>\n",
       "      <td>(37.7723509714232, -122.391397033631)</td>\n",
       "      <td>1.601171e+13</td>\n",
       "      <td>2016</td>\n",
       "    </tr>\n",
       "    <tr>\n",
       "      <th>4</th>\n",
       "      <td>160117060</td>\n",
       "      <td>OTHER OFFENSES</td>\n",
       "      <td>RESISTING ARREST</td>\n",
       "      <td>Monday</td>\n",
       "      <td>02/08/2016</td>\n",
       "      <td>23:50</td>\n",
       "      <td>BAYVIEW</td>\n",
       "      <td>ARREST, BOOKED</td>\n",
       "      <td>1200 Block of 4TH ST</td>\n",
       "      <td>-122.391397</td>\n",
       "      <td>37.772351</td>\n",
       "      <td>(37.7723509714232, -122.391397033631)</td>\n",
       "      <td>1.601171e+13</td>\n",
       "      <td>2016</td>\n",
       "    </tr>\n",
       "    <tr>\n",
       "      <th>5</th>\n",
       "      <td>160117060</td>\n",
       "      <td>WEAPON LAWS</td>\n",
       "      <td>EXHIBITING DEADLY WEAPON IN A THREATING MANNER</td>\n",
       "      <td>Monday</td>\n",
       "      <td>02/08/2016</td>\n",
       "      <td>23:50</td>\n",
       "      <td>BAYVIEW</td>\n",
       "      <td>ARREST, BOOKED</td>\n",
       "      <td>1200 Block of 4TH ST</td>\n",
       "      <td>-122.391397</td>\n",
       "      <td>37.772351</td>\n",
       "      <td>(37.7723509714232, -122.391397033631)</td>\n",
       "      <td>1.601171e+13</td>\n",
       "      <td>2016</td>\n",
       "    </tr>\n",
       "    <tr>\n",
       "      <th>6</th>\n",
       "      <td>160116987</td>\n",
       "      <td>OTHER OFFENSES</td>\n",
       "      <td>DRIVERS LICENSE, SUSPENDED OR REVOKED</td>\n",
       "      <td>Monday</td>\n",
       "      <td>02/08/2016</td>\n",
       "      <td>23:35</td>\n",
       "      <td>TARAVAL</td>\n",
       "      <td>ARREST, BOOKED</td>\n",
       "      <td>20TH AV / LINCOLN WY</td>\n",
       "      <td>-122.478325</td>\n",
       "      <td>37.765399</td>\n",
       "      <td>(37.7653988057984, -122.478325183799)</td>\n",
       "      <td>1.601170e+13</td>\n",
       "      <td>2016</td>\n",
       "    </tr>\n",
       "    <tr>\n",
       "      <th>7</th>\n",
       "      <td>160116993</td>\n",
       "      <td>OTHER OFFENSES</td>\n",
       "      <td>TRAFFIC VIOLATION</td>\n",
       "      <td>Monday</td>\n",
       "      <td>02/08/2016</td>\n",
       "      <td>23:34</td>\n",
       "      <td>INGLESIDE</td>\n",
       "      <td>ARREST, BOOKED</td>\n",
       "      <td>GENEVA AV / CAYUGA AV</td>\n",
       "      <td>-122.443697</td>\n",
       "      <td>37.718928</td>\n",
       "      <td>(37.718927976006, -122.443696904615)</td>\n",
       "      <td>1.601170e+13</td>\n",
       "      <td>2016</td>\n",
       "    </tr>\n",
       "    <tr>\n",
       "      <th>8</th>\n",
       "      <td>166034949</td>\n",
       "      <td>LARCENY/THEFT</td>\n",
       "      <td>GRAND THEFT FROM LOCKED AUTO</td>\n",
       "      <td>Monday</td>\n",
       "      <td>02/08/2016</td>\n",
       "      <td>23:19</td>\n",
       "      <td>INGLESIDE</td>\n",
       "      <td>NONE</td>\n",
       "      <td>GENEVA AV / STONERIDGE LN</td>\n",
       "      <td>-122.425893</td>\n",
       "      <td>37.710864</td>\n",
       "      <td>(37.7108641868079, -122.425893256427)</td>\n",
       "      <td>1.660349e+13</td>\n",
       "      <td>2016</td>\n",
       "    </tr>\n",
       "    <tr>\n",
       "      <th>9</th>\n",
       "      <td>166039193</td>\n",
       "      <td>VANDALISM</td>\n",
       "      <td>MALICIOUS MISCHIEF, VANDALISM</td>\n",
       "      <td>Monday</td>\n",
       "      <td>02/08/2016</td>\n",
       "      <td>23:00</td>\n",
       "      <td>SOUTHERN</td>\n",
       "      <td>NONE</td>\n",
       "      <td>BRANNAN ST / 4TH ST</td>\n",
       "      <td>-122.396533</td>\n",
       "      <td>37.778327</td>\n",
       "      <td>(37.7783268978785, -122.396533248456)</td>\n",
       "      <td>1.660392e+13</td>\n",
       "      <td>2016</td>\n",
       "    </tr>\n",
       "  </tbody>\n",
       "</table>\n",
       "</div>"
      ],
      "text/plain": [
       "   IncidntNum                     Category  \\\n",
       "0   160117098  DRIVING UNDER THE INFLUENCE   \n",
       "1   160117098               OTHER OFFENSES   \n",
       "2   160117010               OTHER OFFENSES   \n",
       "3   160117060                      ASSAULT   \n",
       "4   160117060               OTHER OFFENSES   \n",
       "5   160117060                  WEAPON LAWS   \n",
       "6   160116987               OTHER OFFENSES   \n",
       "7   160116993               OTHER OFFENSES   \n",
       "8   166034949                LARCENY/THEFT   \n",
       "9   166039193                    VANDALISM   \n",
       "\n",
       "                                            Descript DayOfWeek        Date  \\\n",
       "0       DRIVING WHILE UNDER THE INFLUENCE OF ALCOHOL    Monday  02/08/2016   \n",
       "1                           TRAFFIC VIOLATION ARREST    Monday  02/08/2016   \n",
       "2              DRIVERS LICENSE, SUSPENDED OR REVOKED    Monday  02/08/2016   \n",
       "3  AGGRAVATED ASSAULT ON POLICE OFFICER WITH A KNIFE    Monday  02/08/2016   \n",
       "4                                   RESISTING ARREST    Monday  02/08/2016   \n",
       "5     EXHIBITING DEADLY WEAPON IN A THREATING MANNER    Monday  02/08/2016   \n",
       "6              DRIVERS LICENSE, SUSPENDED OR REVOKED    Monday  02/08/2016   \n",
       "7                                  TRAFFIC VIOLATION    Monday  02/08/2016   \n",
       "8                       GRAND THEFT FROM LOCKED AUTO    Monday  02/08/2016   \n",
       "9                      MALICIOUS MISCHIEF, VANDALISM    Monday  02/08/2016   \n",
       "\n",
       "    Time PdDistrict      Resolution                    Address           X  \\\n",
       "0  23:55    CENTRAL  ARREST, BOOKED    PINE ST / MONTGOMERY ST -122.402574   \n",
       "1  23:55    CENTRAL  ARREST, BOOKED    PINE ST / MONTGOMERY ST -122.402574   \n",
       "2  23:50    MISSION  ARREST, BOOKED        20TH ST / CHURCH ST -122.428052   \n",
       "3  23:50    BAYVIEW  ARREST, BOOKED       1200 Block of 4TH ST -122.391397   \n",
       "4  23:50    BAYVIEW  ARREST, BOOKED       1200 Block of 4TH ST -122.391397   \n",
       "5  23:50    BAYVIEW  ARREST, BOOKED       1200 Block of 4TH ST -122.391397   \n",
       "6  23:35    TARAVAL  ARREST, BOOKED       20TH AV / LINCOLN WY -122.478325   \n",
       "7  23:34  INGLESIDE  ARREST, BOOKED      GENEVA AV / CAYUGA AV -122.443697   \n",
       "8  23:19  INGLESIDE            NONE  GENEVA AV / STONERIDGE LN -122.425893   \n",
       "9  23:00   SOUTHERN            NONE        BRANNAN ST / 4TH ST -122.396533   \n",
       "\n",
       "           Y                               Location          PdId  Year  \n",
       "0  37.791898  (37.7918981438883, -122.402573952339)  1.601171e+13  2016  \n",
       "1  37.791898  (37.7918981438883, -122.402573952339)  1.601171e+13  2016  \n",
       "2  37.758090  (37.7580899767786, -122.428051707644)  1.601170e+13  2016  \n",
       "3  37.772351  (37.7723509714232, -122.391397033631)  1.601171e+13  2016  \n",
       "4  37.772351  (37.7723509714232, -122.391397033631)  1.601171e+13  2016  \n",
       "5  37.772351  (37.7723509714232, -122.391397033631)  1.601171e+13  2016  \n",
       "6  37.765399  (37.7653988057984, -122.478325183799)  1.601170e+13  2016  \n",
       "7  37.718928   (37.718927976006, -122.443696904615)  1.601170e+13  2016  \n",
       "8  37.710864  (37.7108641868079, -122.425893256427)  1.660349e+13  2016  \n",
       "9  37.778327  (37.7783268978785, -122.396533248456)  1.660392e+13  2016  "
      ]
     },
     "execution_count": 35,
     "metadata": {},
     "output_type": "execute_result"
    }
   ],
   "source": [
    "df.head(10)"
   ]
  },
  {
   "cell_type": "code",
   "execution_count": 8,
   "metadata": {
    "collapsed": false
   },
   "outputs": [],
   "source": [
    "df['Year'] = [d.split('/')[2] for d in df['Date']]"
   ]
  },
  {
   "cell_type": "code",
   "execution_count": 9,
   "metadata": {
    "collapsed": false
   },
   "outputs": [
    {
     "data": {
      "text/html": [
       "<div>\n",
       "<table border=\"1\" class=\"dataframe\">\n",
       "  <thead>\n",
       "    <tr style=\"text-align: right;\">\n",
       "      <th></th>\n",
       "      <th>IncidntNum</th>\n",
       "      <th>Category</th>\n",
       "      <th>Descript</th>\n",
       "      <th>DayOfWeek</th>\n",
       "      <th>Date</th>\n",
       "      <th>Time</th>\n",
       "      <th>PdDistrict</th>\n",
       "      <th>Resolution</th>\n",
       "      <th>Address</th>\n",
       "      <th>X</th>\n",
       "      <th>Y</th>\n",
       "      <th>Location</th>\n",
       "      <th>PdId</th>\n",
       "      <th>Year</th>\n",
       "    </tr>\n",
       "  </thead>\n",
       "  <tbody>\n",
       "    <tr>\n",
       "      <th>0</th>\n",
       "      <td>160117098</td>\n",
       "      <td>DRIVING UNDER THE INFLUENCE</td>\n",
       "      <td>DRIVING WHILE UNDER THE INFLUENCE OF ALCOHOL</td>\n",
       "      <td>Monday</td>\n",
       "      <td>02/08/2016</td>\n",
       "      <td>23:55</td>\n",
       "      <td>CENTRAL</td>\n",
       "      <td>ARREST, BOOKED</td>\n",
       "      <td>PINE ST / MONTGOMERY ST</td>\n",
       "      <td>-122.402574</td>\n",
       "      <td>37.791898</td>\n",
       "      <td>(37.7918981438883, -122.402573952339)</td>\n",
       "      <td>1.601171e+13</td>\n",
       "      <td>2016</td>\n",
       "    </tr>\n",
       "    <tr>\n",
       "      <th>1</th>\n",
       "      <td>160117098</td>\n",
       "      <td>OTHER OFFENSES</td>\n",
       "      <td>TRAFFIC VIOLATION ARREST</td>\n",
       "      <td>Monday</td>\n",
       "      <td>02/08/2016</td>\n",
       "      <td>23:55</td>\n",
       "      <td>CENTRAL</td>\n",
       "      <td>ARREST, BOOKED</td>\n",
       "      <td>PINE ST / MONTGOMERY ST</td>\n",
       "      <td>-122.402574</td>\n",
       "      <td>37.791898</td>\n",
       "      <td>(37.7918981438883, -122.402573952339)</td>\n",
       "      <td>1.601171e+13</td>\n",
       "      <td>2016</td>\n",
       "    </tr>\n",
       "    <tr>\n",
       "      <th>2</th>\n",
       "      <td>160117010</td>\n",
       "      <td>OTHER OFFENSES</td>\n",
       "      <td>DRIVERS LICENSE, SUSPENDED OR REVOKED</td>\n",
       "      <td>Monday</td>\n",
       "      <td>02/08/2016</td>\n",
       "      <td>23:50</td>\n",
       "      <td>MISSION</td>\n",
       "      <td>ARREST, BOOKED</td>\n",
       "      <td>20TH ST / CHURCH ST</td>\n",
       "      <td>-122.428052</td>\n",
       "      <td>37.758090</td>\n",
       "      <td>(37.7580899767786, -122.428051707644)</td>\n",
       "      <td>1.601170e+13</td>\n",
       "      <td>2016</td>\n",
       "    </tr>\n",
       "    <tr>\n",
       "      <th>3</th>\n",
       "      <td>160117060</td>\n",
       "      <td>ASSAULT</td>\n",
       "      <td>AGGRAVATED ASSAULT ON POLICE OFFICER WITH A KNIFE</td>\n",
       "      <td>Monday</td>\n",
       "      <td>02/08/2016</td>\n",
       "      <td>23:50</td>\n",
       "      <td>BAYVIEW</td>\n",
       "      <td>ARREST, BOOKED</td>\n",
       "      <td>1200 Block of 4TH ST</td>\n",
       "      <td>-122.391397</td>\n",
       "      <td>37.772351</td>\n",
       "      <td>(37.7723509714232, -122.391397033631)</td>\n",
       "      <td>1.601171e+13</td>\n",
       "      <td>2016</td>\n",
       "    </tr>\n",
       "    <tr>\n",
       "      <th>4</th>\n",
       "      <td>160117060</td>\n",
       "      <td>OTHER OFFENSES</td>\n",
       "      <td>RESISTING ARREST</td>\n",
       "      <td>Monday</td>\n",
       "      <td>02/08/2016</td>\n",
       "      <td>23:50</td>\n",
       "      <td>BAYVIEW</td>\n",
       "      <td>ARREST, BOOKED</td>\n",
       "      <td>1200 Block of 4TH ST</td>\n",
       "      <td>-122.391397</td>\n",
       "      <td>37.772351</td>\n",
       "      <td>(37.7723509714232, -122.391397033631)</td>\n",
       "      <td>1.601171e+13</td>\n",
       "      <td>2016</td>\n",
       "    </tr>\n",
       "  </tbody>\n",
       "</table>\n",
       "</div>"
      ],
      "text/plain": [
       "   IncidntNum                     Category  \\\n",
       "0   160117098  DRIVING UNDER THE INFLUENCE   \n",
       "1   160117098               OTHER OFFENSES   \n",
       "2   160117010               OTHER OFFENSES   \n",
       "3   160117060                      ASSAULT   \n",
       "4   160117060               OTHER OFFENSES   \n",
       "\n",
       "                                            Descript DayOfWeek        Date  \\\n",
       "0       DRIVING WHILE UNDER THE INFLUENCE OF ALCOHOL    Monday  02/08/2016   \n",
       "1                           TRAFFIC VIOLATION ARREST    Monday  02/08/2016   \n",
       "2              DRIVERS LICENSE, SUSPENDED OR REVOKED    Monday  02/08/2016   \n",
       "3  AGGRAVATED ASSAULT ON POLICE OFFICER WITH A KNIFE    Monday  02/08/2016   \n",
       "4                                   RESISTING ARREST    Monday  02/08/2016   \n",
       "\n",
       "    Time PdDistrict      Resolution                  Address           X  \\\n",
       "0  23:55    CENTRAL  ARREST, BOOKED  PINE ST / MONTGOMERY ST -122.402574   \n",
       "1  23:55    CENTRAL  ARREST, BOOKED  PINE ST / MONTGOMERY ST -122.402574   \n",
       "2  23:50    MISSION  ARREST, BOOKED      20TH ST / CHURCH ST -122.428052   \n",
       "3  23:50    BAYVIEW  ARREST, BOOKED     1200 Block of 4TH ST -122.391397   \n",
       "4  23:50    BAYVIEW  ARREST, BOOKED     1200 Block of 4TH ST -122.391397   \n",
       "\n",
       "           Y                               Location          PdId  Year  \n",
       "0  37.791898  (37.7918981438883, -122.402573952339)  1.601171e+13  2016  \n",
       "1  37.791898  (37.7918981438883, -122.402573952339)  1.601171e+13  2016  \n",
       "2  37.758090  (37.7580899767786, -122.428051707644)  1.601170e+13  2016  \n",
       "3  37.772351  (37.7723509714232, -122.391397033631)  1.601171e+13  2016  \n",
       "4  37.772351  (37.7723509714232, -122.391397033631)  1.601171e+13  2016  "
      ]
     },
     "execution_count": 9,
     "metadata": {},
     "output_type": "execute_result"
    }
   ],
   "source": [
    "df.head()"
   ]
  },
  {
   "cell_type": "code",
   "execution_count": 13,
   "metadata": {
    "collapsed": true
   },
   "outputs": [],
   "source": [
    "df_2016 = df[df['Year']=='2016']"
   ]
  },
  {
   "cell_type": "code",
   "execution_count": 14,
   "metadata": {
    "collapsed": false
   },
   "outputs": [
    {
     "name": "stdout",
     "output_type": "stream",
     "text": [
      "<class 'pandas.core.frame.DataFrame'>\n",
      "Int64Index: 15053 entries, 0 to 15052\n",
      "Data columns (total 14 columns):\n",
      "IncidntNum    15053 non-null int64\n",
      "Category      15053 non-null object\n",
      "Descript      15053 non-null object\n",
      "DayOfWeek     15053 non-null object\n",
      "Date          15053 non-null object\n",
      "Time          15053 non-null object\n",
      "PdDistrict    15052 non-null object\n",
      "Resolution    15053 non-null object\n",
      "Address       15053 non-null object\n",
      "X             15053 non-null float64\n",
      "Y             15053 non-null float64\n",
      "Location      15053 non-null object\n",
      "PdId          15053 non-null float64\n",
      "Year          15053 non-null object\n",
      "dtypes: float64(3), int64(1), object(10)\n",
      "memory usage: 1.7+ MB\n"
     ]
    }
   ],
   "source": [
    "df_2016.info()"
   ]
  },
  {
   "cell_type": "code",
   "execution_count": 16,
   "metadata": {
    "collapsed": true
   },
   "outputs": [],
   "source": [
    "from collections import Counter"
   ]
  },
  {
   "cell_type": "code",
   "execution_count": 18,
   "metadata": {
    "collapsed": false
   },
   "outputs": [
    {
     "data": {
      "text/plain": [
       "Counter({'2006': 109691,\n",
       "         '2007': 137639,\n",
       "         '2008': 141311,\n",
       "         '2009': 139861,\n",
       "         '2010': 133525,\n",
       "         '2011': 132699,\n",
       "         '2012': 140858,\n",
       "         '2013': 152812,\n",
       "         '2014': 150161,\n",
       "         '2015': 154294,\n",
       "         '2016': 15053})"
      ]
     },
     "execution_count": 18,
     "metadata": {},
     "output_type": "execute_result"
    }
   ],
   "source": [
    "years = Counter(df['Year'])\n",
    "years"
   ]
  },
  {
   "cell_type": "markdown",
   "metadata": {},
   "source": [
    "### What about actual crime descriptions"
   ]
  },
  {
   "cell_type": "code",
   "execution_count": 19,
   "metadata": {
    "collapsed": true
   },
   "outputs": [],
   "source": [
    "words = [d.lower().split() for d in df['Descript']]"
   ]
  },
  {
   "cell_type": "code",
   "execution_count": 21,
   "metadata": {
    "collapsed": false
   },
   "outputs": [
    {
     "data": {
      "text/plain": [
       "['driving', 'while', 'under', 'the', 'influence', 'of', 'alcohol']"
      ]
     },
     "execution_count": 21,
     "metadata": {},
     "output_type": "execute_result"
    }
   ],
   "source": [
    "words[0]"
   ]
  },
  {
   "cell_type": "code",
   "execution_count": 24,
   "metadata": {
    "collapsed": true
   },
   "outputs": [],
   "source": [
    "word_count = Counter()"
   ]
  },
  {
   "cell_type": "code",
   "execution_count": 25,
   "metadata": {
    "collapsed": true
   },
   "outputs": [],
   "source": [
    "for l in words:\n",
    "    word_count.update(l)"
   ]
  },
  {
   "cell_type": "code",
   "execution_count": 26,
   "metadata": {
    "collapsed": false
   },
   "outputs": [
    {
     "data": {
      "text/plain": [
       "[('theft', 319451),\n",
       " ('of', 278365),\n",
       " ('from', 201425),\n",
       " ('grand', 188019),\n",
       " ('auto', 154724),\n",
       " ('locked', 142508),\n",
       " ('property', 134316),\n",
       " ('petty', 108195),\n",
       " ('a', 85560),\n",
       " ('or', 84917)]"
      ]
     },
     "execution_count": 26,
     "metadata": {},
     "output_type": "execute_result"
    }
   ],
   "source": [
    "word_count.most_common(10)"
   ]
  },
  {
   "cell_type": "code",
   "execution_count": 27,
   "metadata": {
    "collapsed": true
   },
   "outputs": [],
   "source": [
    "Counter.pop?"
   ]
  },
  {
   "cell_type": "code",
   "execution_count": 28,
   "metadata": {
    "collapsed": true
   },
   "outputs": [],
   "source": [
    "from nltk.corpus import stopwords"
   ]
  },
  {
   "cell_type": "code",
   "execution_count": 29,
   "metadata": {
    "collapsed": true
   },
   "outputs": [],
   "source": [
    "sw = stopwords.words('english')"
   ]
  },
  {
   "cell_type": "code",
   "execution_count": 32,
   "metadata": {
    "collapsed": true
   },
   "outputs": [],
   "source": [
    "for stwrd in sw:\n",
    "    try: \n",
    "        word_count.pop(stwrd)\n",
    "    except:\n",
    "        pass"
   ]
  },
  {
   "cell_type": "code",
   "execution_count": 34,
   "metadata": {
    "collapsed": false
   },
   "outputs": [
    {
     "data": {
      "text/plain": [
       "[('theft', 319451),\n",
       " ('grand', 188019),\n",
       " ('auto', 154724),\n",
       " ('locked', 142508),\n",
       " ('property', 134316),\n",
       " ('petty', 108195),\n",
       " ('possession', 77179),\n",
       " ('stolen', 74342),\n",
       " ('malicious', 73226),\n",
       " ('mischief,', 72602),\n",
       " ('violation', 70358),\n",
       " ('arrest', 59410),\n",
       " ('vandalism', 57241),\n",
       " ('entry', 54606),\n",
       " ('aided', 53808),\n",
       " ('lost', 49890),\n",
       " ('battery', 48542),\n",
       " ('drivers', 47398),\n",
       " ('license,', 44980),\n",
       " ('suspended', 44980)]"
      ]
     },
     "execution_count": 34,
     "metadata": {},
     "output_type": "execute_result"
    }
   ],
   "source": [
    "word_count.most_common(20)"
   ]
  },
  {
   "cell_type": "code",
   "execution_count": null,
   "metadata": {
    "collapsed": true
   },
   "outputs": [],
   "source": []
  }
 ],
 "metadata": {
  "kernelspec": {
   "display_name": "Python 2",
   "language": "python",
   "name": "python2"
  },
  "language_info": {
   "codemirror_mode": {
    "name": "ipython",
    "version": 2
   },
   "file_extension": ".py",
   "mimetype": "text/x-python",
   "name": "python",
   "nbconvert_exporter": "python",
   "pygments_lexer": "ipython2",
   "version": "2.7.11"
  }
 },
 "nbformat": 4,
 "nbformat_minor": 0
}
