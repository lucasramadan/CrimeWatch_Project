{
 "cells": [
  {
   "cell_type": "code",
   "execution_count": 1,
   "metadata": {
    "collapsed": true
   },
   "outputs": [],
   "source": [
    "from IPython.lib.display import IFrame\n",
    "import pandas as pd\n",
    "import json\n",
    "import os\n",
    "from pprint import pprint\n",
    "from ftfy import ftfy\n",
    "import datetime\n",
    "import time\n",
    "import matplotlib.pyplot as plt\n",
    "import seaborn as sns\n",
    "%matplotlib inline"
   ]
  },
  {
   "cell_type": "markdown",
   "metadata": {},
   "source": [
    "# Introducing ..."
   ]
  },
  {
   "cell_type": "code",
   "execution_count": 2,
   "metadata": {
    "collapsed": false
   },
   "outputs": [
    {
     "data": {
      "text/html": [
       "\n",
       "        <iframe\n",
       "            width=\"300\"\n",
       "            height=\"180\"\n",
       "            src=\"imgs/CWlogo.png\"\n",
       "            frameborder=\"0\"\n",
       "            allowfullscreen\n",
       "        ></iframe>\n",
       "        "
      ],
      "text/plain": [
       "<IPython.lib.display.IFrame at 0x11140d0d0>"
      ]
     },
     "execution_count": 2,
     "metadata": {},
     "output_type": "execute_result"
    }
   ],
   "source": [
    "IFrame('imgs/CWlogo.png', 300, 180)"
   ]
  },
  {
   "cell_type": "markdown",
   "metadata": {},
   "source": [
    "# Why?"
   ]
  },
  {
   "cell_type": "code",
   "execution_count": 3,
   "metadata": {
    "collapsed": false
   },
   "outputs": [
    {
     "data": {
      "text/html": [
       "\n",
       "        <iframe\n",
       "            width=\"500\"\n",
       "            height=\"340\"\n",
       "            src=\"imgs/old_comp.jpg\"\n",
       "            frameborder=\"0\"\n",
       "            allowfullscreen\n",
       "        ></iframe>\n",
       "        "
      ],
      "text/plain": [
       "<IPython.lib.display.IFrame at 0x1170a8f10>"
      ]
     },
     "execution_count": 3,
     "metadata": {},
     "output_type": "execute_result"
    }
   ],
   "source": [
    "IFrame('imgs/old_comp.jpg', 500, 340)"
   ]
  },
  {
   "cell_type": "code",
   "execution_count": 4,
   "metadata": {
    "collapsed": false
   },
   "outputs": [
    {
     "data": {
      "text/html": [
       "\n",
       "        <iframe\n",
       "            width=\"600\"\n",
       "            height=\"350\"\n",
       "            src=\"imgs/Screen Shot 2016-03-07 at 4.44.21 PM.png\"\n",
       "            frameborder=\"0\"\n",
       "            allowfullscreen\n",
       "        ></iframe>\n",
       "        "
      ],
      "text/plain": [
       "<IPython.lib.display.IFrame at 0x1170a8e90>"
      ]
     },
     "execution_count": 4,
     "metadata": {},
     "output_type": "execute_result"
    }
   ],
   "source": [
    "IFrame('imgs/Screen Shot 2016-03-07 at 4.44.21 PM.png', 600, 350)"
   ]
  },
  {
   "cell_type": "markdown",
   "metadata": {},
   "source": [
    "# What?"
   ]
  },
  {
   "cell_type": "code",
   "execution_count": 5,
   "metadata": {
    "collapsed": false
   },
   "outputs": [
    {
     "data": {
      "text/html": [
       "\n",
       "        <iframe\n",
       "            width=\"950\"\n",
       "            height=\"650\"\n",
       "            src=\"imgs/6007 Project Diagram 80.png\"\n",
       "            frameborder=\"0\"\n",
       "            allowfullscreen\n",
       "        ></iframe>\n",
       "        "
      ],
      "text/plain": [
       "<IPython.lib.display.IFrame at 0x1170a8dd0>"
      ]
     },
     "execution_count": 5,
     "metadata": {},
     "output_type": "execute_result"
    }
   ],
   "source": [
    "IFrame('imgs/6007 Project Diagram 80.png', 950, 650)"
   ]
  },
  {
   "cell_type": "markdown",
   "metadata": {},
   "source": [
    "# How?"
   ]
  },
  {
   "cell_type": "markdown",
   "metadata": {},
   "source": [
    "### Batch Data - Daily from SFPD"
   ]
  },
  {
   "cell_type": "code",
   "execution_count": 6,
   "metadata": {
    "collapsed": true
   },
   "outputs": [],
   "source": [
    "police = pd.read_csv('data/SFPD_Incidents_-_from_1_January_2003.csv')"
   ]
  },
  {
   "cell_type": "code",
   "execution_count": 7,
   "metadata": {
    "collapsed": false
   },
   "outputs": [
    {
     "data": {
      "text/html": [
       "<div>\n",
       "<table border=\"1\" class=\"dataframe\">\n",
       "  <thead>\n",
       "    <tr style=\"text-align: right;\">\n",
       "      <th></th>\n",
       "      <th>IncidntNum</th>\n",
       "      <th>Category</th>\n",
       "      <th>Descript</th>\n",
       "      <th>DayOfWeek</th>\n",
       "      <th>Date</th>\n",
       "      <th>Time</th>\n",
       "      <th>PdDistrict</th>\n",
       "      <th>Resolution</th>\n",
       "      <th>Address</th>\n",
       "      <th>X</th>\n",
       "      <th>Y</th>\n",
       "      <th>Location</th>\n",
       "      <th>PdId</th>\n",
       "    </tr>\n",
       "  </thead>\n",
       "  <tbody>\n",
       "    <tr>\n",
       "      <th>0</th>\n",
       "      <td>160117098</td>\n",
       "      <td>DRIVING UNDER THE INFLUENCE</td>\n",
       "      <td>DRIVING WHILE UNDER THE INFLUENCE OF ALCOHOL</td>\n",
       "      <td>Monday</td>\n",
       "      <td>02/08/2016</td>\n",
       "      <td>23:55</td>\n",
       "      <td>CENTRAL</td>\n",
       "      <td>ARREST, BOOKED</td>\n",
       "      <td>PINE ST / MONTGOMERY ST</td>\n",
       "      <td>-122.402574</td>\n",
       "      <td>37.791898</td>\n",
       "      <td>(37.7918981438883, -122.402573952339)</td>\n",
       "      <td>1.601171e+13</td>\n",
       "    </tr>\n",
       "    <tr>\n",
       "      <th>1</th>\n",
       "      <td>160117098</td>\n",
       "      <td>OTHER OFFENSES</td>\n",
       "      <td>TRAFFIC VIOLATION ARREST</td>\n",
       "      <td>Monday</td>\n",
       "      <td>02/08/2016</td>\n",
       "      <td>23:55</td>\n",
       "      <td>CENTRAL</td>\n",
       "      <td>ARREST, BOOKED</td>\n",
       "      <td>PINE ST / MONTGOMERY ST</td>\n",
       "      <td>-122.402574</td>\n",
       "      <td>37.791898</td>\n",
       "      <td>(37.7918981438883, -122.402573952339)</td>\n",
       "      <td>1.601171e+13</td>\n",
       "    </tr>\n",
       "    <tr>\n",
       "      <th>2</th>\n",
       "      <td>160117010</td>\n",
       "      <td>OTHER OFFENSES</td>\n",
       "      <td>DRIVERS LICENSE, SUSPENDED OR REVOKED</td>\n",
       "      <td>Monday</td>\n",
       "      <td>02/08/2016</td>\n",
       "      <td>23:50</td>\n",
       "      <td>MISSION</td>\n",
       "      <td>ARREST, BOOKED</td>\n",
       "      <td>20TH ST / CHURCH ST</td>\n",
       "      <td>-122.428052</td>\n",
       "      <td>37.758090</td>\n",
       "      <td>(37.7580899767786, -122.428051707644)</td>\n",
       "      <td>1.601170e+13</td>\n",
       "    </tr>\n",
       "    <tr>\n",
       "      <th>3</th>\n",
       "      <td>160117060</td>\n",
       "      <td>ASSAULT</td>\n",
       "      <td>AGGRAVATED ASSAULT ON POLICE OFFICER WITH A KNIFE</td>\n",
       "      <td>Monday</td>\n",
       "      <td>02/08/2016</td>\n",
       "      <td>23:50</td>\n",
       "      <td>BAYVIEW</td>\n",
       "      <td>ARREST, BOOKED</td>\n",
       "      <td>1200 Block of 4TH ST</td>\n",
       "      <td>-122.391397</td>\n",
       "      <td>37.772351</td>\n",
       "      <td>(37.7723509714232, -122.391397033631)</td>\n",
       "      <td>1.601171e+13</td>\n",
       "    </tr>\n",
       "    <tr>\n",
       "      <th>4</th>\n",
       "      <td>160117060</td>\n",
       "      <td>OTHER OFFENSES</td>\n",
       "      <td>RESISTING ARREST</td>\n",
       "      <td>Monday</td>\n",
       "      <td>02/08/2016</td>\n",
       "      <td>23:50</td>\n",
       "      <td>BAYVIEW</td>\n",
       "      <td>ARREST, BOOKED</td>\n",
       "      <td>1200 Block of 4TH ST</td>\n",
       "      <td>-122.391397</td>\n",
       "      <td>37.772351</td>\n",
       "      <td>(37.7723509714232, -122.391397033631)</td>\n",
       "      <td>1.601171e+13</td>\n",
       "    </tr>\n",
       "  </tbody>\n",
       "</table>\n",
       "</div>"
      ],
      "text/plain": [
       "   IncidntNum                     Category  \\\n",
       "0   160117098  DRIVING UNDER THE INFLUENCE   \n",
       "1   160117098               OTHER OFFENSES   \n",
       "2   160117010               OTHER OFFENSES   \n",
       "3   160117060                      ASSAULT   \n",
       "4   160117060               OTHER OFFENSES   \n",
       "\n",
       "                                            Descript DayOfWeek        Date  \\\n",
       "0       DRIVING WHILE UNDER THE INFLUENCE OF ALCOHOL    Monday  02/08/2016   \n",
       "1                           TRAFFIC VIOLATION ARREST    Monday  02/08/2016   \n",
       "2              DRIVERS LICENSE, SUSPENDED OR REVOKED    Monday  02/08/2016   \n",
       "3  AGGRAVATED ASSAULT ON POLICE OFFICER WITH A KNIFE    Monday  02/08/2016   \n",
       "4                                   RESISTING ARREST    Monday  02/08/2016   \n",
       "\n",
       "    Time PdDistrict      Resolution                  Address           X  \\\n",
       "0  23:55    CENTRAL  ARREST, BOOKED  PINE ST / MONTGOMERY ST -122.402574   \n",
       "1  23:55    CENTRAL  ARREST, BOOKED  PINE ST / MONTGOMERY ST -122.402574   \n",
       "2  23:50    MISSION  ARREST, BOOKED      20TH ST / CHURCH ST -122.428052   \n",
       "3  23:50    BAYVIEW  ARREST, BOOKED     1200 Block of 4TH ST -122.391397   \n",
       "4  23:50    BAYVIEW  ARREST, BOOKED     1200 Block of 4TH ST -122.391397   \n",
       "\n",
       "           Y                               Location          PdId  \n",
       "0  37.791898  (37.7918981438883, -122.402573952339)  1.601171e+13  \n",
       "1  37.791898  (37.7918981438883, -122.402573952339)  1.601171e+13  \n",
       "2  37.758090  (37.7580899767786, -122.428051707644)  1.601170e+13  \n",
       "3  37.772351  (37.7723509714232, -122.391397033631)  1.601171e+13  \n",
       "4  37.772351  (37.7723509714232, -122.391397033631)  1.601171e+13  "
      ]
     },
     "execution_count": 7,
     "metadata": {},
     "output_type": "execute_result"
    }
   ],
   "source": [
    "police.head()"
   ]
  },
  {
   "cell_type": "code",
   "execution_count": 8,
   "metadata": {
    "collapsed": true
   },
   "outputs": [],
   "source": [
    "def conv_hours(s):\n",
    "    hour, mins = map(float, s.split(':'))\n",
    "    return hour + mins/60.0"
   ]
  },
  {
   "cell_type": "code",
   "execution_count": 9,
   "metadata": {
    "collapsed": true
   },
   "outputs": [],
   "source": [
    "times = police['Time'].apply(conv_hours)"
   ]
  },
  {
   "cell_type": "code",
   "execution_count": 10,
   "metadata": {
    "collapsed": false
   },
   "outputs": [
    {
     "data": {
      "image/png": "[encoded data removed]",
      "text/plain": [
       "<matplotlib.figure.Figure at 0x124dd9c50>"
      ]
     },
     "metadata": {},
     "output_type": "display_data"
    }
   ],
   "source": [
    "# Distribution of the times\n",
    "plt.hist(times)\n",
    "plt.title('Crime by Hour')\n",
    "plt.xlabel('Hour')\n",
    "plt.ylabel('Counts')\n",
    "sns.despine();"
   ]
  },
  {
   "cell_type": "markdown",
   "metadata": {},
   "source": [
    "### Streaming Data - Twitter"
   ]
  },
  {
   "cell_type": "markdown",
   "metadata": {},
   "source": [
    "##### Locally"
   ]
  },
  {
   "cell_type": "code",
   "execution_count": 11,
   "metadata": {
    "collapsed": true
   },
   "outputs": [],
   "source": [
    "tweets = []\n",
    "rootdir = '/Users/LucasRamadan/DSCI6007-student/Final-Project/tweets/'"
   ]
  },
  {
   "cell_type": "code",
   "execution_count": 12,
   "metadata": {
    "collapsed": true
   },
   "outputs": [],
   "source": [
    "for subdir, dirs, files in os.walk(rootdir):\n",
    "    # skip the .DS_store\n",
    "    for f in files[1:]:\n",
    "        with open(subdir+f, 'r') as t:\n",
    "            data = json.load(t)\n",
    "            tweet = data.replace('\\n', '').replace('\\r', '').replace('false', 'False').replace('true', 'True').replace('null', 'None')\n",
    "            tweets.append(eval(tweet))"
   ]
  },
  {
   "cell_type": "code",
   "execution_count": 13,
   "metadata": {
    "collapsed": true
   },
   "outputs": [],
   "source": [
    "clean_data = []\n",
    "\n",
    "for tweet in tweets:\n",
    "    clean_data.append((tweet['created_at'], tweet['id'], tweet['text'], tweet['user']['name'], tweet['user']['location']))"
   ]
  },
  {
   "cell_type": "code",
   "execution_count": 14,
   "metadata": {
    "collapsed": true
   },
   "outputs": [],
   "source": [
    "twitter = pd.DataFrame(clean_data, columns=['Date', 'Tweet_ID', 'Content', 'Username', 'Location'])"
   ]
  },
  {
   "cell_type": "code",
   "execution_count": 15,
   "metadata": {
    "collapsed": false
   },
   "outputs": [
    {
     "data": {
      "text/html": [
       "<div>\n",
       "<table border=\"1\" class=\"dataframe\">\n",
       "  <thead>\n",
       "    <tr style=\"text-align: right;\">\n",
       "      <th></th>\n",
       "      <th>Date</th>\n",
       "      <th>Tweet_ID</th>\n",
       "      <th>Content</th>\n",
       "      <th>Username</th>\n",
       "      <th>Location</th>\n",
       "    </tr>\n",
       "  </thead>\n",
       "  <tbody>\n",
       "    <tr>\n",
       "      <th>0</th>\n",
       "      <td>Wed Mar 02 20:17:02 +0000 2016</td>\n",
       "      <td>705124779842383872</td>\n",
       "      <td>Klemzig: Police have arrested a 33y\\/o man aft...</td>\n",
       "      <td>7 News Adelaide</td>\n",
       "      <td>Adelaide, South Australia</td>\n",
       "    </tr>\n",
       "    <tr>\n",
       "      <th>1</th>\n",
       "      <td>Wed Mar 02 20:17:03 +0000 2016</td>\n",
       "      <td>705124782358994945</td>\n",
       "      <td>Come to #MobileMakers Demo Day tomorrow 5\\u201...</td>\n",
       "      <td>Steve Uffelman</td>\n",
       "      <td>San Francisco, CA</td>\n",
       "    </tr>\n",
       "    <tr>\n",
       "      <th>2</th>\n",
       "      <td>Wed Mar 02 20:17:03 +0000 2016</td>\n",
       "      <td>705124782522630145</td>\n",
       "      <td>RT @BeardedBearce: My mind is dangerous so don...</td>\n",
       "      <td>Candi</td>\n",
       "      <td>in a world of my own</td>\n",
       "    </tr>\n",
       "    <tr>\n",
       "      <th>3</th>\n",
       "      <td>Wed Mar 02 20:17:03 +0000 2016</td>\n",
       "      <td>705124783072092160</td>\n",
       "      <td>RT @WSJ: Indicted ex-CEO Aubrey McClendon foun...</td>\n",
       "      <td>CG</td>\n",
       "      <td>None</td>\n",
       "    </tr>\n",
       "    <tr>\n",
       "      <th>4</th>\n",
       "      <td>Wed Mar 02 20:17:03 +0000 2016</td>\n",
       "      <td>705124783114100737</td>\n",
       "      <td>RT @WritersofColour: .@1500ANDcounting is an u...</td>\n",
       "      <td>1500ANDcounting.</td>\n",
       "      <td>Very Much Outside the Box.</td>\n",
       "    </tr>\n",
       "  </tbody>\n",
       "</table>\n",
       "</div>"
      ],
      "text/plain": [
       "                             Date            Tweet_ID  \\\n",
       "0  Wed Mar 02 20:17:02 +0000 2016  705124779842383872   \n",
       "1  Wed Mar 02 20:17:03 +0000 2016  705124782358994945   \n",
       "2  Wed Mar 02 20:17:03 +0000 2016  705124782522630145   \n",
       "3  Wed Mar 02 20:17:03 +0000 2016  705124783072092160   \n",
       "4  Wed Mar 02 20:17:03 +0000 2016  705124783114100737   \n",
       "\n",
       "                                             Content          Username  \\\n",
       "0  Klemzig: Police have arrested a 33y\\/o man aft...   7 News Adelaide   \n",
       "1  Come to #MobileMakers Demo Day tomorrow 5\\u201...    Steve Uffelman   \n",
       "2  RT @BeardedBearce: My mind is dangerous so don...             Candi   \n",
       "3  RT @WSJ: Indicted ex-CEO Aubrey McClendon foun...                CG   \n",
       "4  RT @WritersofColour: .@1500ANDcounting is an u...  1500ANDcounting.   \n",
       "\n",
       "                     Location  \n",
       "0   Adelaide, South Australia  \n",
       "1           San Francisco, CA  \n",
       "2       in a world of my own   \n",
       "3                        None  \n",
       "4  Very Much Outside the Box.  "
      ]
     },
     "execution_count": 15,
     "metadata": {},
     "output_type": "execute_result"
    }
   ],
   "source": [
    "twitter.head()"
   ]
  },
  {
   "cell_type": "code",
   "execution_count": 16,
   "metadata": {
    "collapsed": false
   },
   "outputs": [
    {
     "name": "stdout",
     "output_type": "stream",
     "text": [
      "<class 'pandas.core.frame.DataFrame'>\n",
      "Int64Index: 4416 entries, 0 to 4415\n",
      "Data columns (total 5 columns):\n",
      "Date        4416 non-null object\n",
      "Tweet_ID    4416 non-null int64\n",
      "Content     4416 non-null object\n",
      "Username    4416 non-null object\n",
      "Location    2977 non-null object\n",
      "dtypes: int64(1), object(4)\n",
      "memory usage: 207.0+ KB\n"
     ]
    }
   ],
   "source": [
    "twitter.info()"
   ]
  },
  {
   "cell_type": "markdown",
   "metadata": {},
   "source": [
    "##### Spark"
   ]
  },
  {
   "cell_type": "code",
   "execution_count": 17,
   "metadata": {
    "collapsed": false
   },
   "outputs": [
    {
     "data": {
      "text/plain": [
       "<pyspark.context.SparkContext at 0x10900e0d0>"
      ]
     },
     "execution_count": 17,
     "metadata": {},
     "output_type": "execute_result"
    }
   ],
   "source": [
    "sc"
   ]
  },
  {
   "cell_type": "code",
   "execution_count": 18,
   "metadata": {
    "collapsed": true
   },
   "outputs": [],
   "source": [
    "tweet_rdd = sc.parallelize(tweets)"
   ]
  },
  {
   "cell_type": "code",
   "execution_count": 19,
   "metadata": {
    "collapsed": false,
    "scrolled": true
   },
   "outputs": [
    {
     "data": {
      "text/plain": [
       "[{'contributors': None,\n",
       "  'coordinates': None,\n",
       "  'created_at': 'Wed Mar 02 20:17:02 +0000 2016',\n",
       "  'entities': {'hashtags': [{'indices': [109, 115], 'text': '7News'}],\n",
       "   'media': [{'display_url': 'pic.twitter.com\\\\/630Wujra1e',\n",
       "     'expanded_url': 'http:\\\\/\\\\/twitter.com\\\\/7NewsAdelaide\\\\/status\\\\/705124779842383872\\\\/photo\\\\/1',\n",
       "     'id': 705124465869348864,\n",
       "     'id_str': '705124465869348864',\n",
       "     'indices': [116, 139],\n",
       "     'media_url': 'http:\\\\/\\\\/pbs.twimg.com\\\\/media\\\\/Ccka9z6UYAAq--D.jpg',\n",
       "     'media_url_https': 'https:\\\\/\\\\/pbs.twimg.com\\\\/media\\\\/Ccka9z6UYAAq--D.jpg',\n",
       "     'sizes': {'large': {'h': 492, 'resize': 'fit', 'w': 1024},\n",
       "      'medium': {'h': 288, 'resize': 'fit', 'w': 600},\n",
       "      'small': {'h': 163, 'resize': 'fit', 'w': 340},\n",
       "      'thumb': {'h': 150, 'resize': 'crop', 'w': 150}},\n",
       "     'type': 'photo',\n",
       "     'url': 'https:\\\\/\\\\/t.co\\\\/630Wujra1e'}],\n",
       "   'symbols': [],\n",
       "   'urls': [],\n",
       "   'user_mentions': []},\n",
       "  'extended_entities': {'media': [{'display_url': 'pic.twitter.com\\\\/630Wujra1e',\n",
       "     'expanded_url': 'http:\\\\/\\\\/twitter.com\\\\/7NewsAdelaide\\\\/status\\\\/705124779842383872\\\\/photo\\\\/1',\n",
       "     'id': 705124465869348864,\n",
       "     'id_str': '705124465869348864',\n",
       "     'indices': [116, 139],\n",
       "     'media_url': 'http:\\\\/\\\\/pbs.twimg.com\\\\/media\\\\/Ccka9z6UYAAq--D.jpg',\n",
       "     'media_url_https': 'https:\\\\/\\\\/pbs.twimg.com\\\\/media\\\\/Ccka9z6UYAAq--D.jpg',\n",
       "     'sizes': {'large': {'h': 492, 'resize': 'fit', 'w': 1024},\n",
       "      'medium': {'h': 288, 'resize': 'fit', 'w': 600},\n",
       "      'small': {'h': 163, 'resize': 'fit', 'w': 340},\n",
       "      'thumb': {'h': 150, 'resize': 'crop', 'w': 150}},\n",
       "     'type': 'photo',\n",
       "     'url': 'https:\\\\/\\\\/t.co\\\\/630Wujra1e'}]},\n",
       "  'favorite_count': 0,\n",
       "  'favorited': False,\n",
       "  'filter_level': 'low',\n",
       "  'geo': None,\n",
       "  'id': 705124779842383872,\n",
       "  'id_str': '705124779842383872',\n",
       "  'in_reply_to_screen_name': None,\n",
       "  'in_reply_to_status_id': None,\n",
       "  'in_reply_to_status_id_str': None,\n",
       "  'in_reply_to_user_id': None,\n",
       "  'in_reply_to_user_id_str': None,\n",
       "  'is_quote_status': False,\n",
       "  'lang': 'en',\n",
       "  'place': None,\n",
       "  'possibly_sensitive': False,\n",
       "  'retweet_count': 0,\n",
       "  'retweeted': False,\n",
       "  'source': '\\\\u003ca href=\"https:\\\\/\\\\/about.twitter.com\\\\/products\\\\/tweetdeck\" rel=\"nofollow\"\\\\u003eTweetDeck\\\\u003c\\\\/a\\\\u003e',\n",
       "  'text': 'Klemzig: Police have arrested a 33y\\\\/o man after an attempted robbery at a service station on OG Rd overnight #7News https:\\\\/\\\\/t.co\\\\/630Wujra1e',\n",
       "  'timestamp_ms': '1456949822756',\n",
       "  'truncated': False,\n",
       "  'user': {'contributors_enabled': False,\n",
       "   'created_at': 'Mon Mar 21 02:16:21 +0000 2011',\n",
       "   'default_profile': False,\n",
       "   'default_profile_image': False,\n",
       "   'description': \"Seven News is Adelaide's leading news service, put together by a team of award winning journalists and cameramen.\\nhttps:\\\\/\\\\/www.facebook.com\\\\/7NewsAdelaide\",\n",
       "   'favourites_count': 5490,\n",
       "   'follow_request_sent': None,\n",
       "   'followers_count': 25105,\n",
       "   'following': None,\n",
       "   'friends_count': 1531,\n",
       "   'geo_enabled': False,\n",
       "   'id': 269581619,\n",
       "   'id_str': '269581619',\n",
       "   'is_translator': False,\n",
       "   'lang': 'en',\n",
       "   'listed_count': 310,\n",
       "   'location': 'Adelaide, South Australia',\n",
       "   'name': '7 News Adelaide',\n",
       "   'notifications': None,\n",
       "   'profile_background_color': 'C0DEED',\n",
       "   'profile_background_image_url': 'http:\\\\/\\\\/pbs.twimg.com\\\\/profile_background_images\\\\/690478587\\\\/ac47d972d68a2b30c30ff5ec376ce553.png',\n",
       "   'profile_background_image_url_https': 'https:\\\\/\\\\/pbs.twimg.com\\\\/profile_background_images\\\\/690478587\\\\/ac47d972d68a2b30c30ff5ec376ce553.png',\n",
       "   'profile_background_tile': True,\n",
       "   'profile_banner_url': 'https:\\\\/\\\\/pbs.twimg.com\\\\/profile_banners\\\\/269581619\\\\/1404366477',\n",
       "   'profile_image_url': 'http:\\\\/\\\\/pbs.twimg.com\\\\/profile_images\\\\/609213140614549504\\\\/IqYQFQTq_normal.jpg',\n",
       "   'profile_image_url_https': 'https:\\\\/\\\\/pbs.twimg.com\\\\/profile_images\\\\/609213140614549504\\\\/IqYQFQTq_normal.jpg',\n",
       "   'profile_link_color': '0084B4',\n",
       "   'profile_sidebar_border_color': 'FFFFFF',\n",
       "   'profile_sidebar_fill_color': 'DDEEF6',\n",
       "   'profile_text_color': '333333',\n",
       "   'profile_use_background_image': True,\n",
       "   'protected': False,\n",
       "   'screen_name': '7NewsAdelaide',\n",
       "   'statuses_count': 46277,\n",
       "   'time_zone': 'Adelaide',\n",
       "   'url': 'http:\\\\/\\\\/www.7news.com.au\\\\/Adelaide',\n",
       "   'utc_offset': 37800,\n",
       "   'verified': True}}]"
      ]
     },
     "execution_count": 19,
     "metadata": {},
     "output_type": "execute_result"
    }
   ],
   "source": [
    "tweet_rdd.take(1)"
   ]
  },
  {
   "cell_type": "code",
   "execution_count": 20,
   "metadata": {
    "collapsed": false
   },
   "outputs": [
    {
     "data": {
      "text/plain": [
       "[[705124782358994945,\n",
       "  'Come to #MobileMakers Demo Day tomorrow 5\\\\u20138pm at 180 Montgomery St, SF. Food, drinks, and launching new apps! https:\\\\/\\\\/t.co\\\\/rTmN7acSsL',\n",
       "  34693158,\n",
       "  'Steve Uffelman',\n",
       "  'San Francisco, CA',\n",
       "  'Wed Mar 02 20:17:03 +0000 2016']]"
      ]
     },
     "execution_count": 20,
     "metadata": {},
     "output_type": "execute_result"
    }
   ],
   "source": [
    "tweet_rdd.map(lambda t: [t['id'], t['text'], t['user']['id'], t['user']['name'], t['user']['location'], t['created_at']]) \\\n",
    "         .filter(lambda (t_id, text, user_id, user_name, user_loc, datetime): 'San Fran' in user_loc) \\\n",
    "         .take(1)"
   ]
  },
  {
   "cell_type": "markdown",
   "metadata": {},
   "source": [
    "### Data Cleaning"
   ]
  },
  {
   "cell_type": "markdown",
   "metadata": {},
   "source": [
    "##### Twitter"
   ]
  },
  {
   "cell_type": "code",
   "execution_count": 21,
   "metadata": {
    "collapsed": true
   },
   "outputs": [],
   "source": [
    "import calendar"
   ]
  },
  {
   "cell_type": "code",
   "execution_count": 22,
   "metadata": {
    "collapsed": true
   },
   "outputs": [],
   "source": [
    "month_abbr = {month: i for i, month in enumerate(calendar.month_abbr)}"
   ]
  },
  {
   "cell_type": "code",
   "execution_count": 23,
   "metadata": {
    "collapsed": true
   },
   "outputs": [],
   "source": [
    "def twitter_datetime(s):\n",
    "    dow, month, day, time, _, year = s.split()\n",
    "    hour, mins, sec = map(int, time.split(':'))\n",
    "    return datetime.datetime(int(year), month_abbr[month], int(day),  hour, mins, sec, 0)"
   ]
  },
  {
   "cell_type": "code",
   "execution_count": 24,
   "metadata": {
    "collapsed": true
   },
   "outputs": [],
   "source": [
    "twitter['datetime'] = twitter['Date'].apply(twitter_datetime)\n",
    "twitter.drop(\"Date\", axis=1, inplace=True);"
   ]
  },
  {
   "cell_type": "code",
   "execution_count": 25,
   "metadata": {
    "collapsed": false
   },
   "outputs": [
    {
     "data": {
      "text/html": [
       "<div>\n",
       "<table border=\"1\" class=\"dataframe\">\n",
       "  <thead>\n",
       "    <tr style=\"text-align: right;\">\n",
       "      <th></th>\n",
       "      <th>Tweet_ID</th>\n",
       "      <th>Content</th>\n",
       "      <th>Username</th>\n",
       "      <th>Location</th>\n",
       "      <th>datetime</th>\n",
       "    </tr>\n",
       "  </thead>\n",
       "  <tbody>\n",
       "    <tr>\n",
       "      <th>0</th>\n",
       "      <td>705124779842383872</td>\n",
       "      <td>Klemzig: Police have arrested a 33y\\/o man aft...</td>\n",
       "      <td>7 News Adelaide</td>\n",
       "      <td>Adelaide, South Australia</td>\n",
       "      <td>2016-03-02 20:17:02</td>\n",
       "    </tr>\n",
       "    <tr>\n",
       "      <th>1</th>\n",
       "      <td>705124782358994945</td>\n",
       "      <td>Come to #MobileMakers Demo Day tomorrow 5\\u201...</td>\n",
       "      <td>Steve Uffelman</td>\n",
       "      <td>San Francisco, CA</td>\n",
       "      <td>2016-03-02 20:17:03</td>\n",
       "    </tr>\n",
       "    <tr>\n",
       "      <th>2</th>\n",
       "      <td>705124782522630145</td>\n",
       "      <td>RT @BeardedBearce: My mind is dangerous so don...</td>\n",
       "      <td>Candi</td>\n",
       "      <td>in a world of my own</td>\n",
       "      <td>2016-03-02 20:17:03</td>\n",
       "    </tr>\n",
       "    <tr>\n",
       "      <th>3</th>\n",
       "      <td>705124783072092160</td>\n",
       "      <td>RT @WSJ: Indicted ex-CEO Aubrey McClendon foun...</td>\n",
       "      <td>CG</td>\n",
       "      <td>None</td>\n",
       "      <td>2016-03-02 20:17:03</td>\n",
       "    </tr>\n",
       "    <tr>\n",
       "      <th>4</th>\n",
       "      <td>705124783114100737</td>\n",
       "      <td>RT @WritersofColour: .@1500ANDcounting is an u...</td>\n",
       "      <td>1500ANDcounting.</td>\n",
       "      <td>Very Much Outside the Box.</td>\n",
       "      <td>2016-03-02 20:17:03</td>\n",
       "    </tr>\n",
       "  </tbody>\n",
       "</table>\n",
       "</div>"
      ],
      "text/plain": [
       "             Tweet_ID                                            Content  \\\n",
       "0  705124779842383872  Klemzig: Police have arrested a 33y\\/o man aft...   \n",
       "1  705124782358994945  Come to #MobileMakers Demo Day tomorrow 5\\u201...   \n",
       "2  705124782522630145  RT @BeardedBearce: My mind is dangerous so don...   \n",
       "3  705124783072092160  RT @WSJ: Indicted ex-CEO Aubrey McClendon foun...   \n",
       "4  705124783114100737  RT @WritersofColour: .@1500ANDcounting is an u...   \n",
       "\n",
       "           Username                    Location            datetime  \n",
       "0   7 News Adelaide   Adelaide, South Australia 2016-03-02 20:17:02  \n",
       "1    Steve Uffelman           San Francisco, CA 2016-03-02 20:17:03  \n",
       "2             Candi       in a world of my own  2016-03-02 20:17:03  \n",
       "3                CG                        None 2016-03-02 20:17:03  \n",
       "4  1500ANDcounting.  Very Much Outside the Box. 2016-03-02 20:17:03  "
      ]
     },
     "execution_count": 25,
     "metadata": {},
     "output_type": "execute_result"
    }
   ],
   "source": [
    "twitter.head()"
   ]
  },
  {
   "cell_type": "code",
   "execution_count": 26,
   "metadata": {
    "collapsed": true
   },
   "outputs": [],
   "source": [
    "# use to filter on SF \n",
    "def in_sf(s):\n",
    "    if s != None:\n",
    "        if 'San Fran' in s:\n",
    "            return 1\n",
    "        else: \n",
    "            return 0\n",
    "    else:\n",
    "        return 0"
   ]
  },
  {
   "cell_type": "code",
   "execution_count": 27,
   "metadata": {
    "collapsed": true
   },
   "outputs": [],
   "source": [
    "twitter['In_SF'] = twitter['Location'].apply(in_sf)"
   ]
  },
  {
   "cell_type": "code",
   "execution_count": 28,
   "metadata": {
    "collapsed": true
   },
   "outputs": [],
   "source": [
    "twitter_sf = twitter.loc[twitter.In_SF==1]"
   ]
  },
  {
   "cell_type": "code",
   "execution_count": 29,
   "metadata": {
    "collapsed": false
   },
   "outputs": [
    {
     "name": "stdout",
     "output_type": "stream",
     "text": [
      "<class 'pandas.core.frame.DataFrame'>\n",
      "Int64Index: 42 entries, 1 to 4331\n",
      "Data columns (total 6 columns):\n",
      "Tweet_ID    42 non-null int64\n",
      "Content     42 non-null object\n",
      "Username    42 non-null object\n",
      "Location    42 non-null object\n",
      "datetime    42 non-null datetime64[ns]\n",
      "In_SF       42 non-null int64\n",
      "dtypes: datetime64[ns](1), int64(2), object(3)\n",
      "memory usage: 2.3+ KB\n"
     ]
    }
   ],
   "source": [
    "twitter_sf.info()"
   ]
  },
  {
   "cell_type": "markdown",
   "metadata": {},
   "source": [
    "##### Police"
   ]
  },
  {
   "cell_type": "code",
   "execution_count": 30,
   "metadata": {
    "collapsed": true
   },
   "outputs": [],
   "source": [
    "def sfpd_datetime(t):\n",
    "    hour, mins = map(int, t.split(':'))\n",
    "    year, month, day = datetime.date.today().timetuple()[:3]\n",
    "    return datetime.datetime(year, month, day, hour, mins)"
   ]
  },
  {
   "cell_type": "code",
   "execution_count": 31,
   "metadata": {
    "collapsed": false
   },
   "outputs": [],
   "source": [
    "police['datetime'] = police['Time'].apply(sfpd_datetime)\n",
    "police.drop(['Date', 'Time'], axis=1, inplace=True)"
   ]
  },
  {
   "cell_type": "code",
   "execution_count": 32,
   "metadata": {
    "collapsed": false
   },
   "outputs": [
    {
     "data": {
      "text/html": [
       "<div>\n",
       "<table border=\"1\" class=\"dataframe\">\n",
       "  <thead>\n",
       "    <tr style=\"text-align: right;\">\n",
       "      <th></th>\n",
       "      <th>IncidntNum</th>\n",
       "      <th>Category</th>\n",
       "      <th>Descript</th>\n",
       "      <th>DayOfWeek</th>\n",
       "      <th>PdDistrict</th>\n",
       "      <th>Resolution</th>\n",
       "      <th>Address</th>\n",
       "      <th>X</th>\n",
       "      <th>Y</th>\n",
       "      <th>Location</th>\n",
       "      <th>PdId</th>\n",
       "      <th>datetime</th>\n",
       "    </tr>\n",
       "  </thead>\n",
       "  <tbody>\n",
       "    <tr>\n",
       "      <th>0</th>\n",
       "      <td>160117098</td>\n",
       "      <td>DRIVING UNDER THE INFLUENCE</td>\n",
       "      <td>DRIVING WHILE UNDER THE INFLUENCE OF ALCOHOL</td>\n",
       "      <td>Monday</td>\n",
       "      <td>CENTRAL</td>\n",
       "      <td>ARREST, BOOKED</td>\n",
       "      <td>PINE ST / MONTGOMERY ST</td>\n",
       "      <td>-122.402574</td>\n",
       "      <td>37.791898</td>\n",
       "      <td>(37.7918981438883, -122.402573952339)</td>\n",
       "      <td>1.601171e+13</td>\n",
       "      <td>2016-03-07 23:55:00</td>\n",
       "    </tr>\n",
       "    <tr>\n",
       "      <th>1</th>\n",
       "      <td>160117098</td>\n",
       "      <td>OTHER OFFENSES</td>\n",
       "      <td>TRAFFIC VIOLATION ARREST</td>\n",
       "      <td>Monday</td>\n",
       "      <td>CENTRAL</td>\n",
       "      <td>ARREST, BOOKED</td>\n",
       "      <td>PINE ST / MONTGOMERY ST</td>\n",
       "      <td>-122.402574</td>\n",
       "      <td>37.791898</td>\n",
       "      <td>(37.7918981438883, -122.402573952339)</td>\n",
       "      <td>1.601171e+13</td>\n",
       "      <td>2016-03-07 23:55:00</td>\n",
       "    </tr>\n",
       "    <tr>\n",
       "      <th>2</th>\n",
       "      <td>160117010</td>\n",
       "      <td>OTHER OFFENSES</td>\n",
       "      <td>DRIVERS LICENSE, SUSPENDED OR REVOKED</td>\n",
       "      <td>Monday</td>\n",
       "      <td>MISSION</td>\n",
       "      <td>ARREST, BOOKED</td>\n",
       "      <td>20TH ST / CHURCH ST</td>\n",
       "      <td>-122.428052</td>\n",
       "      <td>37.758090</td>\n",
       "      <td>(37.7580899767786, -122.428051707644)</td>\n",
       "      <td>1.601170e+13</td>\n",
       "      <td>2016-03-07 23:50:00</td>\n",
       "    </tr>\n",
       "    <tr>\n",
       "      <th>3</th>\n",
       "      <td>160117060</td>\n",
       "      <td>ASSAULT</td>\n",
       "      <td>AGGRAVATED ASSAULT ON POLICE OFFICER WITH A KNIFE</td>\n",
       "      <td>Monday</td>\n",
       "      <td>BAYVIEW</td>\n",
       "      <td>ARREST, BOOKED</td>\n",
       "      <td>1200 Block of 4TH ST</td>\n",
       "      <td>-122.391397</td>\n",
       "      <td>37.772351</td>\n",
       "      <td>(37.7723509714232, -122.391397033631)</td>\n",
       "      <td>1.601171e+13</td>\n",
       "      <td>2016-03-07 23:50:00</td>\n",
       "    </tr>\n",
       "    <tr>\n",
       "      <th>4</th>\n",
       "      <td>160117060</td>\n",
       "      <td>OTHER OFFENSES</td>\n",
       "      <td>RESISTING ARREST</td>\n",
       "      <td>Monday</td>\n",
       "      <td>BAYVIEW</td>\n",
       "      <td>ARREST, BOOKED</td>\n",
       "      <td>1200 Block of 4TH ST</td>\n",
       "      <td>-122.391397</td>\n",
       "      <td>37.772351</td>\n",
       "      <td>(37.7723509714232, -122.391397033631)</td>\n",
       "      <td>1.601171e+13</td>\n",
       "      <td>2016-03-07 23:50:00</td>\n",
       "    </tr>\n",
       "  </tbody>\n",
       "</table>\n",
       "</div>"
      ],
      "text/plain": [
       "   IncidntNum                     Category  \\\n",
       "0   160117098  DRIVING UNDER THE INFLUENCE   \n",
       "1   160117098               OTHER OFFENSES   \n",
       "2   160117010               OTHER OFFENSES   \n",
       "3   160117060                      ASSAULT   \n",
       "4   160117060               OTHER OFFENSES   \n",
       "\n",
       "                                            Descript DayOfWeek PdDistrict  \\\n",
       "0       DRIVING WHILE UNDER THE INFLUENCE OF ALCOHOL    Monday    CENTRAL   \n",
       "1                           TRAFFIC VIOLATION ARREST    Monday    CENTRAL   \n",
       "2              DRIVERS LICENSE, SUSPENDED OR REVOKED    Monday    MISSION   \n",
       "3  AGGRAVATED ASSAULT ON POLICE OFFICER WITH A KNIFE    Monday    BAYVIEW   \n",
       "4                                   RESISTING ARREST    Monday    BAYVIEW   \n",
       "\n",
       "       Resolution                  Address           X          Y  \\\n",
       "0  ARREST, BOOKED  PINE ST / MONTGOMERY ST -122.402574  37.791898   \n",
       "1  ARREST, BOOKED  PINE ST / MONTGOMERY ST -122.402574  37.791898   \n",
       "2  ARREST, BOOKED      20TH ST / CHURCH ST -122.428052  37.758090   \n",
       "3  ARREST, BOOKED     1200 Block of 4TH ST -122.391397  37.772351   \n",
       "4  ARREST, BOOKED     1200 Block of 4TH ST -122.391397  37.772351   \n",
       "\n",
       "                                Location          PdId            datetime  \n",
       "0  (37.7918981438883, -122.402573952339)  1.601171e+13 2016-03-07 23:55:00  \n",
       "1  (37.7918981438883, -122.402573952339)  1.601171e+13 2016-03-07 23:55:00  \n",
       "2  (37.7580899767786, -122.428051707644)  1.601170e+13 2016-03-07 23:50:00  \n",
       "3  (37.7723509714232, -122.391397033631)  1.601171e+13 2016-03-07 23:50:00  \n",
       "4  (37.7723509714232, -122.391397033631)  1.601171e+13 2016-03-07 23:50:00  "
      ]
     },
     "execution_count": 32,
     "metadata": {},
     "output_type": "execute_result"
    }
   ],
   "source": [
    "police.head()"
   ]
  },
  {
   "cell_type": "markdown",
   "metadata": {},
   "source": [
    "# Matching"
   ]
  },
  {
   "cell_type": "markdown",
   "metadata": {},
   "source": [
    "##### Twitter"
   ]
  },
  {
   "cell_type": "code",
   "execution_count": 33,
   "metadata": {
    "collapsed": false
   },
   "outputs": [],
   "source": [
    "ex_tweet = {'Tweet_ID': 'EXAMPLE', \n",
    "            'Content': \"Saw a guy with a knife coming at a police officer. Luckily they got him before anything bad happened. #blessed\", \n",
    "            'Username': 'Thomas Bayes', \n",
    "            'Location': 'San Francisco, CA', \n",
    "            'datetime': datetime.datetime(2016, 03, 07, 23, 49)}"
   ]
  },
  {
   "cell_type": "code",
   "execution_count": 34,
   "metadata": {
    "collapsed": true
   },
   "outputs": [],
   "source": [
    "ex_tweet = pd.Series(ex_tweet)"
   ]
  },
  {
   "cell_type": "code",
   "execution_count": 35,
   "metadata": {
    "collapsed": false
   },
   "outputs": [],
   "source": [
    "twitter_sf = twitter_sf.append(ex_tweet, ignore_index=True)"
   ]
  },
  {
   "cell_type": "code",
   "execution_count": 36,
   "metadata": {
    "collapsed": false
   },
   "outputs": [
    {
     "name": "stdout",
     "output_type": "stream",
     "text": [
      "160117098 --- DRIVING WHILE UNDER THE INFLUENCE OF ALCOHOL\n",
      "160117098 --- TRAFFIC VIOLATION ARREST\n",
      "160117010 --- DRIVERS LICENSE, SUSPENDED OR REVOKED\n",
      "160117060 --- AGGRAVATED ASSAULT ON POLICE OFFICER WITH A KNIFE\n",
      "160117060 --- RESISTING ARREST\n",
      "160117060 --- EXHIBITING DEADLY WEAPON IN A THREATING MANNER\n",
      "160113795 --- DRIVERS LICENSE, SUSPENDED OR REVOKED\n",
      "160113773 --- INFLICT INJURY ON COHABITEE\n",
      "160113773 --- AGGRAVATED ASSAULT WITH BODILY FORCE\n",
      "160113864 --- GRAND THEFT FROM PERSON\n",
      "160113789 --- BATTERY\n",
      "160113739 --- PETTY THEFT FROM LOCKED AUTO\n",
      "160113739 --- ROBBERY ON THE STREET WITH A GUN\n",
      "160113745 --- AGGRAVATED ASSAULT WITH BODILY FORCE\n",
      "160113723 --- BURGLARY, HOT PROWL, UNLAWFUL ENTRY\n",
      "160113911 --- DOMESTIC VIOLENCE\n",
      "160113911 --- VIOLATION OF RESTRAINING ORDER\n",
      "160111006 --- DRIVERS LICENSE, SUSPENDED OR REVOKED\n",
      "160111062 --- GRAND THEFT FROM LOCKED AUTO\n",
      "160116357 --- BATTERY WITH SERIOUS INJURIES\n",
      "166032410 --- GRAND THEFT OF PROPERTY\n",
      "160111959 --- STOLEN AUTOMOBILE\n",
      "166034319 --- PETTY THEFT OF PROPERTY\n",
      "166031456 --- LOST PROPERTY\n",
      "160112515 --- BATTERY\n",
      "160111175 --- CREDIT CARD, THEFT BY USE OF\n",
      "160111692 --- MALICIOUS MISCHIEF, VANDALISM OF VEHICLES\n",
      "160112565 --- AIDED CASE, MENTAL DISTURBED\n",
      "160112515 --- THREATS AGAINST LIFE\n",
      "160111175 --- GRAND THEFT FROM PERSON\n",
      "166031478 --- GRAND THEFT FROM LOCKED AUTO\n",
      "160110901 --- SOLICITS FOR ACT OF PROSTITUTION\n",
      "166031161 --- PETTY THEFT BICYCLE\n"
     ]
    }
   ],
   "source": [
    "for i in xrange(1000):\n",
    "    time_diff = police.ix[i]['datetime'] - twitter_sf.ix[42]['datetime']\n",
    "    # ie the tweet was within an hour of the crime\n",
    "    if time_diff.seconds <= 3600:\n",
    "        print police.ix[i]['IncidntNum'], '---', police.ix[i]['Descript']"
   ]
  },
  {
   "cell_type": "markdown",
   "metadata": {},
   "source": [
    "##### Police"
   ]
  },
  {
   "cell_type": "code",
   "execution_count": 37,
   "metadata": {
    "collapsed": true
   },
   "outputs": [],
   "source": [
    "ex_incident = police.ix[3]"
   ]
  },
  {
   "cell_type": "code",
   "execution_count": 38,
   "metadata": {
    "collapsed": false
   },
   "outputs": [
    {
     "name": "stdout",
     "output_type": "stream",
     "text": [
      "Thomas Bayes\n",
      "--------------------\n",
      "Saw a guy with a knife coming at a police officer. Luckily they got him before anything bad happened. #blessed\n"
     ]
    }
   ],
   "source": [
    "for i in xrange(twitter_sf.shape[0]):\n",
    "    time_diff = ex_incident['datetime'] - twitter_sf.ix[i]['datetime']\n",
    "    if time_diff.seconds <= 3600:\n",
    "        print twitter_sf.ix[i]['Username']\n",
    "        print '-'*20\n",
    "        print twitter_sf.ix[i]['Content']"
   ]
  },
  {
   "cell_type": "markdown",
   "metadata": {},
   "source": [
    "##### This user's details would then be sent to the specific officer for the given incident "
   ]
  },
  {
   "cell_type": "markdown",
   "metadata": {},
   "source": [
    "### Streaming"
   ]
  },
  {
   "cell_type": "code",
   "execution_count": 39,
   "metadata": {
    "collapsed": false
   },
   "outputs": [
    {
     "data": {
      "text/html": [
       "\n",
       "        <iframe\n",
       "            width=\"900\"\n",
       "            height=\"250\"\n",
       "            src=\"imgs/tweepy.png\"\n",
       "            frameborder=\"0\"\n",
       "            allowfullscreen\n",
       "        ></iframe>\n",
       "        "
      ],
      "text/plain": [
       "<IPython.lib.display.IFrame at 0x11719fc10>"
      ]
     },
     "execution_count": 39,
     "metadata": {},
     "output_type": "execute_result"
    }
   ],
   "source": [
    "IFrame('imgs/tweepy.png', 900, 250)"
   ]
  },
  {
   "cell_type": "code",
   "execution_count": 40,
   "metadata": {
    "collapsed": false
   },
   "outputs": [],
   "source": [
    "import twitter_streaming\n",
    "%psource twitter_streaming"
   ]
  },
  {
   "cell_type": "code",
   "execution_count": 41,
   "metadata": {
    "collapsed": false
   },
   "outputs": [
    {
     "data": {
      "text/html": [
       "\n",
       "        <iframe\n",
       "            width=\"550\"\n",
       "            height=\"120\"\n",
       "            src=\"imgs/kafka.png\"\n",
       "            frameborder=\"0\"\n",
       "            allowfullscreen\n",
       "        ></iframe>\n",
       "        "
      ],
      "text/plain": [
       "<IPython.lib.display.IFrame at 0x1222f8150>"
      ]
     },
     "execution_count": 41,
     "metadata": {},
     "output_type": "execute_result"
    }
   ],
   "source": [
    "IFrame(\"imgs/kafka.png\", 550, 120)"
   ]
  },
  {
   "cell_type": "code",
   "execution_count": 42,
   "metadata": {
    "collapsed": false
   },
   "outputs": [
    {
     "data": {
      "text/html": [
       "\n",
       "        <iframe\n",
       "            width=\"650\"\n",
       "            height=\"400\"\n",
       "            src=\"imgs/Twitter Kafka .png\"\n",
       "            frameborder=\"0\"\n",
       "            allowfullscreen\n",
       "        ></iframe>\n",
       "        "
      ],
      "text/plain": [
       "<IPython.lib.display.IFrame at 0x1222f8290>"
      ]
     },
     "execution_count": 42,
     "metadata": {},
     "output_type": "execute_result"
    }
   ],
   "source": [
    "IFrame('imgs/Twitter Kafka .png', 650, 400)"
   ]
  },
  {
   "cell_type": "markdown",
   "metadata": {},
   "source": [
    "# Version 2.0"
   ]
  },
  {
   "cell_type": "markdown",
   "metadata": {},
   "source": [
    "- Have a Kafka consumer for EACH new police incident, which will consume from the twitter stream producer <br><br>\n",
    "- Running on EC2 <br><br>\n",
    "- Get Police Incidents each day (ex. with a Cron job, or directly from SFPD) <br><br>\n",
    "- Persist police data in Cassandra <br><br>\n",
    "- Store twitter data<br><br>\n",
    "- Utilize SparkStreaming between Producer & Consumers for matching <br><br>\n",
    "- Incorporate Geo data from Tweets with matching process <br><br>\n",
    "- Topic Modeling for crimes, to allow further matching on tweet & crime contents <br><br>\n",
    "- Gather \"helpfulness\" data from Police, to allow Machine Learning techniques for connections <br><br>\n",
    "- Implement "
   ]
  },
  {
   "cell_type": "code",
   "execution_count": 43,
   "metadata": {
    "collapsed": false
   },
   "outputs": [
    {
     "data": {
      "text/html": [
       "\n",
       "        <iframe\n",
       "            width=\"700\"\n",
       "            height=\"600\"\n",
       "            src=\"imgs/g_dog.jpg\"\n",
       "            frameborder=\"0\"\n",
       "            allowfullscreen\n",
       "        ></iframe>\n",
       "        "
      ],
      "text/plain": [
       "<IPython.lib.display.IFrame at 0x1222f8250>"
      ]
     },
     "execution_count": 43,
     "metadata": {},
     "output_type": "execute_result"
    }
   ],
   "source": [
    "IFrame('imgs/g_dog.jpg', 700, 600)"
   ]
  },
  {
   "cell_type": "markdown",
   "metadata": {},
   "source": [
    "- Architecture for old cases (batch) and new (streaming)"
   ]
  },
  {
   "cell_type": "code",
   "execution_count": null,
   "metadata": {
    "collapsed": true
   },
   "outputs": [],
   "source": []
  }
 ],
 "metadata": {
  "kernelspec": {
   "display_name": "Python 2",
   "language": "python",
   "name": "python2"
  },
  "language_info": {
   "codemirror_mode": {
    "name": "ipython",
    "version": 2
   },
   "file_extension": ".py",
   "mimetype": "text/x-python",
   "name": "python",
   "nbconvert_exporter": "python",
   "pygments_lexer": "ipython2",
   "version": "2.7.11"
  }
 },
 "nbformat": 4,
 "nbformat_minor": 0
}
