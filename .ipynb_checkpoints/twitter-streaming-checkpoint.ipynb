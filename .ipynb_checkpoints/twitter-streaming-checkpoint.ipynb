{
 "cells": [
  {
   "cell_type": "markdown",
   "metadata": {},
   "source": [
    "### Playing with Tweepy Streaming"
   ]
  },
  {
   "cell_type": "markdown",
   "metadata": {},
   "source": [
    "http://docs.tweepy.org/en/v3.5.0/"
   ]
  },
  {
   "cell_type": "code",
   "execution_count": 1,
   "metadata": {
    "collapsed": true
   },
   "outputs": [],
   "source": [
    "import tweepy"
   ]
  },
  {
   "cell_type": "code",
   "execution_count": 2,
   "metadata": {
    "collapsed": true
   },
   "outputs": [],
   "source": [
    "# Code from http://adilmoujahid.com/posts/2014/07/twitter-analytics/\n",
    "from tweepy.streaming import StreamListener\n",
    "from tweepy import OAuthHandler\n",
    "from tweepy import Stream\n",
    "\n",
    "# Create variables to hold my credentials\n",
    "access_token = \"4264444814-6NL7EBoxH3uLDAR5ui6OsCC3xq2ba38M7ZjUDFQ\"\n",
    "access_token_secret = \"KfLqfQi4llqBinZFLUnaPozg2CrubmHs8vy0PsmrT4CXy\"\n",
    "consumer_key = \"BUFnkoDJxoxLCkJue0WPtqSK1\"\n",
    "consumer_secret = \"fo298tDkfm4FgmuIja3o7qpR8KPRqkxEsAc2VItl4KMc2hBAr7\"\n",
    "\n",
    "#Basic listener to print the received tweets to stdout\n",
    "\n",
    "class StdOutListener(StreamListener):\n",
    "\n",
    "\tdef on_data(self,data):\n",
    "\t\tprint data\n",
    "\t\treturn True\n",
    "\n",
    "\tdef on_error(self,status):\n",
    "\t\tprint status\n",
    "\n",
    "\n",
    "# Handles Twitter authentification and the connection to Twitter Streaming API\n",
    "s_listen = StdOutListener()\n",
    "auth = OAuthHandler(consumer_key,consumer_secret)\n",
    "auth.set_access_token(access_token, access_token_secret)\n",
    "stream = Stream(auth, s_listen)"
   ]
  },
  {
   "cell_type": "code",
   "execution_count": 21,
   "metadata": {
    "collapsed": false
   },
   "outputs": [
    {
     "name": "stdout",
     "output_type": "stream",
     "text": [
      "{\"created_at\":\"Tue Mar 01 01:56:50 +0000 2016\",\"id\":704485517929263104,\"id_str\":\"704485517929263104\",\"text\":\"Monads are to Haskell what curly braces are to Python.\",\"source\":\"\\u003ca href=\\\"http:\\/\\/twitter.com\\\" rel=\\\"nofollow\\\"\\u003eTwitter Web Client\\u003c\\/a\\u003e\",\"truncated\":false,\"in_reply_to_status_id\":null,\"in_reply_to_status_id_str\":null,\"in_reply_to_user_id\":null,\"in_reply_to_user_id_str\":null,\"in_reply_to_screen_name\":null,\"user\":{\"id\":701794590156787713,\"id_str\":\"701794590156787713\",\"name\":\"10x NIHilist\",\"screen_name\":\"theunixman\",\"location\":\"This Mad Mad World\",\"url\":\"http:\\/\\/www.theunixman.com\\/\",\"description\":\"Free hosting and advice to people with little or no privilege.\",\"protected\":false,\"verified\":false,\"followers_count\":39,\"friends_count\":290,\"listed_count\":1,\"favourites_count\":41,\"statuses_count\":91,\"created_at\":\"Mon Feb 22 15:44:03 +0000 2016\",\"utc_offset\":null,\"time_zone\":null,\"geo_enabled\":false,\"lang\":\"en\",\"contributors_enabled\":false,\"is_translator\":false,\"profile_background_color\":\"F5F8FA\",\"profile_background_image_url\":\"\",\"profile_background_image_url_https\":\"\",\"profile_background_tile\":false,\"profile_link_color\":\"2B7BB9\",\"profile_sidebar_border_color\":\"C0DEED\",\"profile_sidebar_fill_color\":\"DDEEF6\",\"profile_text_color\":\"333333\",\"profile_use_background_image\":true,\"profile_image_url\":\"http:\\/\\/pbs.twimg.com\\/profile_images\\/701794779307364353\\/zHqdIDfT_normal.jpg\",\"profile_image_url_https\":\"https:\\/\\/pbs.twimg.com\\/profile_images\\/701794779307364353\\/zHqdIDfT_normal.jpg\",\"default_profile\":true,\"default_profile_image\":false,\"following\":null,\"follow_request_sent\":null,\"notifications\":null},\"geo\":null,\"coordinates\":null,\"place\":null,\"contributors\":null,\"is_quote_status\":false,\"retweet_count\":0,\"favorite_count\":0,\"entities\":{\"hashtags\":[],\"urls\":[],\"user_mentions\":[],\"symbols\":[]},\"favorited\":false,\"retweeted\":false,\"filter_level\":\"low\",\"lang\":\"en\",\"timestamp_ms\":\"1456797410839\"}\r\n",
      "\n"
     ]
    },
    {
     "ename": "AttributeError",
     "evalue": "'Stream' object has no attribute 'stop'",
     "output_type": "error",
     "traceback": [
      "\u001b[0;31m---------------------------------------------------------------------------\u001b[0m",
      "\u001b[0;31mAttributeError\u001b[0m                            Traceback (most recent call last)",
      "\u001b[0;32m<ipython-input-21-aca6912a0763>\u001b[0m in \u001b[0;36m<module>\u001b[0;34m()\u001b[0m\n\u001b[0;32m----> 1\u001b[0;31m \u001b[0mstream\u001b[0m\u001b[0;34m.\u001b[0m\u001b[0mstop\u001b[0m\u001b[0;34m(\u001b[0m\u001b[0;34m)\u001b[0m\u001b[0;34m\u001b[0m\u001b[0m\n\u001b[0m",
      "\u001b[0;31mAttributeError\u001b[0m: 'Stream' object has no attribute 'stop'"
     ]
    }
   ],
   "source": [
    "stream.stop()"
   ]
  },
  {
   "cell_type": "code",
   "execution_count": 20,
   "metadata": {
    "collapsed": false
   },
   "outputs": [
    {
     "ename": "TweepError",
     "evalue": "Stream object already connected!",
     "output_type": "error",
     "traceback": [
      "\u001b[0;31m---------------------------------------------------------------------------\u001b[0m",
      "\u001b[0;31mTweepError\u001b[0m                                Traceback (most recent call last)",
      "\u001b[0;32m<ipython-input-20-756ace2cf07c>\u001b[0m in \u001b[0;36m<module>\u001b[0;34m()\u001b[0m\n\u001b[0;32m----> 1\u001b[0;31m \u001b[0mstream\u001b[0m\u001b[0;34m.\u001b[0m\u001b[0mfilter\u001b[0m\u001b[0;34m(\u001b[0m\u001b[0mtrack\u001b[0m\u001b[0;34m=\u001b[0m\u001b[0;34m[\u001b[0m\u001b[0;34m'python'\u001b[0m\u001b[0;34m]\u001b[0m\u001b[0;34m,\u001b[0m \u001b[0masync\u001b[0m\u001b[0;34m=\u001b[0m\u001b[0mFalse\u001b[0m\u001b[0;34m)\u001b[0m\u001b[0;34m\u001b[0m\u001b[0m\n\u001b[0m",
      "\u001b[0;32m/Users/LucasRamadan/anaconda/lib/python2.7/site-packages/tweepy/streaming.pyc\u001b[0m in \u001b[0;36mfilter\u001b[0;34m(self, follow, track, async, locations, stall_warnings, languages, encoding, filter_level)\u001b[0m\n\u001b[1;32m    424\u001b[0m         \u001b[0mself\u001b[0m\u001b[0;34m.\u001b[0m\u001b[0msession\u001b[0m\u001b[0;34m.\u001b[0m\u001b[0mheaders\u001b[0m\u001b[0;34m[\u001b[0m\u001b[0;34m'Content-type'\u001b[0m\u001b[0;34m]\u001b[0m \u001b[0;34m=\u001b[0m \u001b[0;34m\"application/x-www-form-urlencoded\"\u001b[0m\u001b[0;34m\u001b[0m\u001b[0m\n\u001b[1;32m    425\u001b[0m         \u001b[0;32mif\u001b[0m \u001b[0mself\u001b[0m\u001b[0;34m.\u001b[0m\u001b[0mrunning\u001b[0m\u001b[0;34m:\u001b[0m\u001b[0;34m\u001b[0m\u001b[0m\n\u001b[0;32m--> 426\u001b[0;31m             \u001b[0;32mraise\u001b[0m \u001b[0mTweepError\u001b[0m\u001b[0;34m(\u001b[0m\u001b[0;34m'Stream object already connected!'\u001b[0m\u001b[0;34m)\u001b[0m\u001b[0;34m\u001b[0m\u001b[0m\n\u001b[0m\u001b[1;32m    427\u001b[0m         \u001b[0mself\u001b[0m\u001b[0;34m.\u001b[0m\u001b[0murl\u001b[0m \u001b[0;34m=\u001b[0m \u001b[0;34m'/%s/statuses/filter.json'\u001b[0m \u001b[0;34m%\u001b[0m \u001b[0mSTREAM_VERSION\u001b[0m\u001b[0;34m\u001b[0m\u001b[0m\n\u001b[1;32m    428\u001b[0m         \u001b[0;32mif\u001b[0m \u001b[0mfollow\u001b[0m\u001b[0;34m:\u001b[0m\u001b[0;34m\u001b[0m\u001b[0m\n",
      "\u001b[0;31mTweepError\u001b[0m: Stream object already connected!"
     ]
    }
   ],
   "source": [
    "stream.filter(track=['python'], async=False)"
   ]
  },
  {
   "cell_type": "code",
   "execution_count": 3,
   "metadata": {
    "collapsed": true
   },
   "outputs": [],
   "source": [
    "from io import TextIOBase"
   ]
  },
  {
   "cell_type": "code",
   "execution_count": 22,
   "metadata": {
    "collapsed": false
   },
   "outputs": [
    {
     "name": "stdout",
     "output_type": "stream",
     "text": [
      "{\"created_at\":\"Tue Mar 01 01:57:04 +0000 2016\",\"id\":704485576322347008,\"id_str\":\"704485576322347008\",\"text\":\"Lots of nice open #software tools available today at @SPIEevents #MedicalImaging such as https:\\/\\/t.co\\/xdcG8Hrvvr and https:\\/\\/t.co\\/4v1OH7sMM8\",\"source\":\"\\u003ca href=\\\"http:\\/\\/twitter.com\\\" rel=\\\"nofollow\\\"\\u003eTwitter Web Client\\u003c\\/a\\u003e\",\"truncated\":false,\"in_reply_to_status_id\":null,\"in_reply_to_status_id_str\":null,\"in_reply_to_user_id\":null,\"in_reply_to_user_id_str\":null,\"in_reply_to_screen_name\":null,\"user\":{\"id\":368766127,\"id_str\":\"368766127\",\"name\":\"Mark Basham\",\"screen_name\":\"basham_mark\",\"location\":\"Reading, UK\",\"url\":null,\"description\":\"I work as a software scientist @diamondlightsou in the UK, but my opinions are my own. Inventor\\/designer of the #legobeamline. @softwaresaved fellow.\",\"protected\":false,\"verified\":false,\"followers_count\":309,\"friends_count\":757,\"listed_count\":20,\"favourites_count\":284,\"statuses_count\":872,\"created_at\":\"Tue Sep 06 05:52:11 +0000 2011\",\"utc_offset\":null,\"time_zone\":null,\"geo_enabled\":true,\"lang\":\"en\",\"contributors_enabled\":false,\"is_translator\":false,\"profile_background_color\":\"C0DEED\",\"profile_background_image_url\":\"http:\\/\\/pbs.twimg.com\\/profile_background_images\\/540198266\\/Diamond_aerial.jpg\",\"profile_background_image_url_https\":\"https:\\/\\/pbs.twimg.com\\/profile_background_images\\/540198266\\/Diamond_aerial.jpg\",\"profile_background_tile\":false,\"profile_link_color\":\"0084B4\",\"profile_sidebar_border_color\":\"C0DEED\",\"profile_sidebar_fill_color\":\"DDEEF6\",\"profile_text_color\":\"333333\",\"profile_use_background_image\":true,\"profile_image_url\":\"http:\\/\\/pbs.twimg.com\\/profile_images\\/2548774740\\/yw6g1ext1kup9lgkjdvp_normal.jpeg\",\"profile_image_url_https\":\"https:\\/\\/pbs.twimg.com\\/profile_images\\/2548774740\\/yw6g1ext1kup9lgkjdvp_normal.jpeg\",\"default_profile\":false,\"default_profile_image\":false,\"following\":null,\"follow_request_sent\":null,\"notifications\":null},\"geo\":null,\"coordinates\":null,\"place\":null,\"contributors\":null,\"is_quote_status\":false,\"retweet_count\":0,\"favorite_count\":0,\"entities\":{\"hashtags\":[{\"text\":\"software\",\"indices\":[18,27]},{\"text\":\"MedicalImaging\",\"indices\":[65,80]}],\"urls\":[{\"url\":\"https:\\/\\/t.co\\/xdcG8Hrvvr\",\"expanded_url\":\"https:\\/\\/github.com\\/hannes-brt\\/cudnn-python-wrappers\",\"display_url\":\"github.com\\/hannes-brt\\/cud\\u2026\",\"indices\":[89,112]},{\"url\":\"https:\\/\\/t.co\\/4v1OH7sMM8\",\"expanded_url\":\"https:\\/\\/github.com\\/nroduit\\/Weasis\",\"display_url\":\"github.com\\/nroduit\\/Weasis\",\"indices\":[117,140]}],\"user_mentions\":[{\"screen_name\":\"SPIEevents\",\"name\":\"SPIE Events\",\"id\":20698196,\"id_str\":\"20698196\",\"indices\":[53,64]}],\"symbols\":[]},\"favorited\":false,\"retweeted\":false,\"possibly_sensitive\":false,\"filter_level\":\"low\",\"lang\":\"en\",\"timestamp_ms\":\"1456797424761\"}\r\n",
      "\n"
     ]
    },
    {
     "ename": "TweepError",
     "evalue": "Stream object already connected!",
     "output_type": "error",
     "traceback": [
      "\u001b[0;31m---------------------------------------------------------------------------\u001b[0m",
      "\u001b[0;31mTweepError\u001b[0m                                Traceback (most recent call last)",
      "\u001b[0;32m<ipython-input-22-bcb51f671802>\u001b[0m in \u001b[0;36m<module>\u001b[0;34m()\u001b[0m\n\u001b[0;32m----> 1\u001b[0;31m \u001b[0mt\u001b[0m \u001b[0;34m=\u001b[0m \u001b[0mTextIOBase\u001b[0m\u001b[0;34m(\u001b[0m\u001b[0mstream\u001b[0m\u001b[0;34m.\u001b[0m\u001b[0mfilter\u001b[0m\u001b[0;34m(\u001b[0m\u001b[0mtrack\u001b[0m\u001b[0;34m=\u001b[0m\u001b[0;34m[\u001b[0m\u001b[0;34m'python'\u001b[0m\u001b[0;34m]\u001b[0m\u001b[0;34m,\u001b[0m \u001b[0masync\u001b[0m\u001b[0;34m=\u001b[0m\u001b[0mFalse\u001b[0m\u001b[0;34m)\u001b[0m\u001b[0;34m)\u001b[0m\u001b[0;34m\u001b[0m\u001b[0m\n\u001b[0m",
      "\u001b[0;32m/Users/LucasRamadan/anaconda/lib/python2.7/site-packages/tweepy/streaming.pyc\u001b[0m in \u001b[0;36mfilter\u001b[0;34m(self, follow, track, async, locations, stall_warnings, languages, encoding, filter_level)\u001b[0m\n\u001b[1;32m    424\u001b[0m         \u001b[0mself\u001b[0m\u001b[0;34m.\u001b[0m\u001b[0msession\u001b[0m\u001b[0;34m.\u001b[0m\u001b[0mheaders\u001b[0m\u001b[0;34m[\u001b[0m\u001b[0;34m'Content-type'\u001b[0m\u001b[0;34m]\u001b[0m \u001b[0;34m=\u001b[0m \u001b[0;34m\"application/x-www-form-urlencoded\"\u001b[0m\u001b[0;34m\u001b[0m\u001b[0m\n\u001b[1;32m    425\u001b[0m         \u001b[0;32mif\u001b[0m \u001b[0mself\u001b[0m\u001b[0;34m.\u001b[0m\u001b[0mrunning\u001b[0m\u001b[0;34m:\u001b[0m\u001b[0;34m\u001b[0m\u001b[0m\n\u001b[0;32m--> 426\u001b[0;31m             \u001b[0;32mraise\u001b[0m \u001b[0mTweepError\u001b[0m\u001b[0;34m(\u001b[0m\u001b[0;34m'Stream object already connected!'\u001b[0m\u001b[0;34m)\u001b[0m\u001b[0;34m\u001b[0m\u001b[0m\n\u001b[0m\u001b[1;32m    427\u001b[0m         \u001b[0mself\u001b[0m\u001b[0;34m.\u001b[0m\u001b[0murl\u001b[0m \u001b[0;34m=\u001b[0m \u001b[0;34m'/%s/statuses/filter.json'\u001b[0m \u001b[0;34m%\u001b[0m \u001b[0mSTREAM_VERSION\u001b[0m\u001b[0;34m\u001b[0m\u001b[0m\n\u001b[1;32m    428\u001b[0m         \u001b[0;32mif\u001b[0m \u001b[0mfollow\u001b[0m\u001b[0;34m:\u001b[0m\u001b[0;34m\u001b[0m\u001b[0m\n",
      "\u001b[0;31mTweepError\u001b[0m: Stream object already connected!"
     ]
    }
   ],
   "source": [
    "t = TextIOBase(stream.filter(track=['python'], async=False))"
   ]
  },
  {
   "cell_type": "code",
   "execution_count": 30,
   "metadata": {
    "collapsed": false
   },
   "outputs": [
    {
     "data": {
      "text/plain": [
       "NoneType"
      ]
     },
     "execution_count": 30,
     "metadata": {},
     "output_type": "execute_result"
    },
    {
     "name": "stdout",
     "output_type": "stream",
     "text": [
      "{\"created_at\":\"Tue Mar 01 01:59:54 +0000 2016\",\"id\":704486288066519040,\"id_str\":\"704486288066519040\",\"text\":\"I have two statistics homeworks due over spring break and a Python project due the day after spring break WOW I love college \\ud83d\\ude43\",\"source\":\"\\u003ca href=\\\"http:\\/\\/twitter.com\\/download\\/iphone\\\" rel=\\\"nofollow\\\"\\u003eTwitter for iPhone\\u003c\\/a\\u003e\",\"truncated\":false,\"in_reply_to_status_id\":null,\"in_reply_to_status_id_str\":null,\"in_reply_to_user_id\":null,\"in_reply_to_user_id_str\":null,\"in_reply_to_screen_name\":null,\"user\":{\"id\":291381263,\"id_str\":\"291381263\",\"name\":\"Madi Lee\",\"screen_name\":\"madileeee\",\"location\":\"910\\/919\",\"url\":null,\"description\":\"ncsu civil engineering & pi beta phi \\u27b5\",\"protected\":false,\"verified\":false,\"followers_count\":521,\"friends_count\":388,\"listed_count\":0,\"favourites_count\":2857,\"statuses_count\":8060,\"created_at\":\"Sun May 01 22:34:53 +0000 2011\",\"utc_offset\":-21600,\"time_zone\":\"Central Time (US & Canada)\",\"geo_enabled\":false,\"lang\":\"en\",\"contributors_enabled\":false,\"is_translator\":false,\"profile_background_color\":\"FFCBA4\",\"profile_background_image_url\":\"http:\\/\\/pbs.twimg.com\\/profile_background_images\\/378800000153227144\\/hUVSTHy2.jpeg\",\"profile_background_image_url_https\":\"https:\\/\\/pbs.twimg.com\\/profile_background_images\\/378800000153227144\\/hUVSTHy2.jpeg\",\"profile_background_tile\":false,\"profile_link_color\":\"C36241\",\"profile_sidebar_border_color\":\"FFFFFF\",\"profile_sidebar_fill_color\":\"DDFFCC\",\"profile_text_color\":\"333333\",\"profile_use_background_image\":true,\"profile_image_url\":\"http:\\/\\/pbs.twimg.com\\/profile_images\\/701742608549281795\\/IWji9Bpq_normal.jpg\",\"profile_image_url_https\":\"https:\\/\\/pbs.twimg.com\\/profile_images\\/701742608549281795\\/IWji9Bpq_normal.jpg\",\"profile_banner_url\":\"https:\\/\\/pbs.twimg.com\\/profile_banners\\/291381263\\/1410397919\",\"default_profile\":false,\"default_profile_image\":false,\"following\":null,\"follow_request_sent\":null,\"notifications\":null},\"geo\":null,\"coordinates\":null,\"place\":null,\"contributors\":null,\"is_quote_status\":false,\"retweet_count\":0,\"favorite_count\":0,\"entities\":{\"hashtags\":[],\"urls\":[],\"user_mentions\":[],\"symbols\":[]},\"favorited\":false,\"retweeted\":false,\"filter_level\":\"low\",\"lang\":\"en\",\"timestamp_ms\":\"1456797594454\"}\n",
      "\n",
      "{\"created_at\":\"Tue Mar 01 02:00:01 +0000 2016\",\"id\":704486317380476928,\"id_str\":\"704486317380476928\",\"text\":\"pydle 0.8.2: A compact, flexible and standards-abiding IRC library for Python 3. https:\\/\\/t.co\\/N2tIZyCAo6\",\"source\":\"\\u003ca href=\\\"https:\\/\\/twitter.com\\/pypi_updates\\\" rel=\\\"nofollow\\\"\\u003ePyPI Recent Updates Bot\\u003c\\/a\\u003e\",\"truncated\":false,\"in_reply_to_status_id\":null,\"in_reply_to_status_id_str\":null,\"in_reply_to_user_id\":null,\"in_reply_to_user_id_str\":null,\"in_reply_to_screen_name\":null,\"user\":{\"id\":2842108694,\"id_str\":\"2842108694\",\"name\":\"PyPI Recent Updates\",\"screen_name\":\"pypi_updates\",\"location\":null,\"url\":\"https:\\/\\/github.com\\/tell-k\\/pypi-updates-bot\",\"description\":\"Unofficial bot to flow PyPI recent updates.\",\"protected\":false,\"verified\":false,\"followers_count\":624,\"friends_count\":0,\"listed_count\":151,\"favourites_count\":3,\"statuses_count\":220950,\"created_at\":\"Mon Oct 06 07:55:44 +0000 2014\",\"utc_offset\":32400,\"time_zone\":\"Tokyo\",\"geo_enabled\":false,\"lang\":\"ja\",\"contributors_enabled\":false,\"is_translator\":false,\"profile_background_color\":\"1A1B1F\",\"profile_background_image_url\":\"http:\\/\\/abs.twimg.com\\/images\\/themes\\/theme9\\/bg.gif\",\"profile_background_image_url_https\":\"https:\\/\\/abs.twimg.com\\/images\\/themes\\/theme9\\/bg.gif\",\"profile_background_tile\":false,\"profile_link_color\":\"2FC2EF\",\"profile_sidebar_border_color\":\"181A1E\",\"profile_sidebar_fill_color\":\"252429\",\"profile_text_color\":\"666666\",\"profile_use_background_image\":true,\"profile_image_url\":\"http:\\/\\/pbs.twimg.com\\/profile_images\\/519502406711660545\\/-NxCjP2O_normal.png\",\"profile_image_url_https\":\"https:\\/\\/pbs.twimg.com\\/profile_images\\/519502406711660545\\/-NxCjP2O_normal.png\",\"profile_banner_url\":\"https:\\/\\/pbs.twimg.com\\/profile_banners\\/2842108694\\/1412694286\",\"default_profile\":false,\"default_profile_image\":false,\"following\":null,\"follow_request_sent\":null,\"notifications\":null},\"geo\":null,\"coordinates\":null,\"place\":null,\"contributors\":null,\"is_quote_status\":false,\"retweet_count\":0,\"favorite_count\":0,\"entities\":{\"hashtags\":[],\"urls\":[{\"url\":\"https:\\/\\/t.co\\/N2tIZyCAo6\",\"expanded_url\":\"http:\\/\\/bit.ly\\/1XWzV1o\",\"display_url\":\"bit.ly\\/1XWzV1o\",\"indices\":[81,104]}],\"user_mentions\":[],\"symbols\":[]},\"favorited\":false,\"retweeted\":false,\"possibly_sensitive\":false,\"filter_level\":\"low\",\"lang\":\"en\",\"timestamp_ms\":\"1456797601443\"}\n",
      "\n",
      "{\"created_at\":\"Tue Mar 01 02:00:02 +0000 2016\",\"id\":704486321604136960,\"id_str\":\"704486321604136960\",\"text\":\"RT @n4th4n2003: Comment construire #Database pilot\\u00e9 par API RESTFUL en #Python avec #Flask https:\\/\\/t.co\\/K6eUMguNzn https:\\/\\/t.co\\/S0usdgd6RN\",\"source\":\"\\u003ca href=\\\"http:\\/\\/www.jeromefiot.fr\\\" rel=\\\"nofollow\\\"\\u003einterpellation\\u003c\\/a\\u003e\",\"truncated\":false,\"in_reply_to_status_id\":null,\"in_reply_to_status_id_str\":null,\"in_reply_to_user_id\":null,\"in_reply_to_user_id_str\":null,\"in_reply_to_screen_name\":null,\"user\":{\"id\":2469227040,\"id_str\":\"2469227040\",\"name\":\"tweetpoke\",\"screen_name\":\"tweet_poke_\",\"location\":null,\"url\":null,\"description\":\"Twitto-Bot python (#twython) ... I seek tweets with #FLASK &  #python inside. Person behind [Made by @grominet]\",\"protected\":false,\"verified\":false,\"followers_count\":107,\"friends_count\":282,\"listed_count\":111,\"favourites_count\":1,\"statuses_count\":630,\"created_at\":\"Tue Apr 29 12:40:47 +0000 2014\",\"utc_offset\":3600,\"time_zone\":\"Belgrade\",\"geo_enabled\":false,\"lang\":\"en\",\"contributors_enabled\":false,\"is_translator\":false,\"profile_background_color\":\"4175A4\",\"profile_background_image_url\":\"http:\\/\\/abs.twimg.com\\/images\\/themes\\/theme1\\/bg.png\",\"profile_background_image_url_https\":\"https:\\/\\/abs.twimg.com\\/images\\/themes\\/theme1\\/bg.png\",\"profile_background_tile\":false,\"profile_link_color\":\"0084B4\",\"profile_sidebar_border_color\":\"C0DEED\",\"profile_sidebar_fill_color\":\"DDEEF6\",\"profile_text_color\":\"333333\",\"profile_use_background_image\":true,\"profile_image_url\":\"http:\\/\\/pbs.twimg.com\\/profile_images\\/578537216823144448\\/GW-4L7Mg_normal.png\",\"profile_image_url_https\":\"https:\\/\\/pbs.twimg.com\\/profile_images\\/578537216823144448\\/GW-4L7Mg_normal.png\",\"default_profile\":false,\"default_profile_image\":false,\"following\":null,\"follow_request_sent\":null,\"notifications\":null},\"geo\":null,\"coordinates\":null,\"place\":null,\"contributors\":null,\"retweeted_status\":{\"created_at\":\"Mon Feb 29 18:04:42 +0000 2016\",\"id\":704366700418961412,\"id_str\":\"704366700418961412\",\"text\":\"Comment construire #Database pilot\\u00e9 par API RESTFUL en #Python avec #Flask https:\\/\\/t.co\\/K6eUMguNzn https:\\/\\/t.co\\/S0usdgd6RN\",\"source\":\"\\u003ca href=\\\"http:\\/\\/twitter.com\\/#!\\/download\\/ipad\\\" rel=\\\"nofollow\\\"\\u003eTwitter for iPad\\u003c\\/a\\u003e\",\"truncated\":false,\"in_reply_to_status_id\":null,\"in_reply_to_status_id_str\":null,\"in_reply_to_user_id\":null,\"in_reply_to_user_id_str\":null,\"in_reply_to_screen_name\":null,\"user\":{\"id\":4665448103,\"id_str\":\"4665448103\",\"name\":\"Futura-Geek\",\"screen_name\":\"n4th4n2003\",\"location\":null,\"url\":null,\"description\":\"Futura-Geek tout sur les cultures de Geek et de gaming avec des actualit\\u00e9s sur les nouvelles technologies et sur les jeux vid\\u00e9o n'h\\u00e9sitez \\u00e0 nous suivre.\",\"protected\":false,\"verified\":false,\"followers_count\":31,\"friends_count\":34,\"listed_count\":2,\"favourites_count\":86,\"statuses_count\":746,\"created_at\":\"Thu Dec 31 14:37:57 +0000 2015\",\"utc_offset\":null,\"time_zone\":null,\"geo_enabled\":false,\"lang\":\"fr\",\"contributors_enabled\":false,\"is_translator\":false,\"profile_background_color\":\"F5F8FA\",\"profile_background_image_url\":\"\",\"profile_background_image_url_https\":\"\",\"profile_background_tile\":false,\"profile_link_color\":\"2B7BB9\",\"profile_sidebar_border_color\":\"C0DEED\",\"profile_sidebar_fill_color\":\"DDEEF6\",\"profile_text_color\":\"333333\",\"profile_use_background_image\":true,\"profile_image_url\":\"http:\\/\\/pbs.twimg.com\\/profile_images\\/696427153911586816\\/Egf9ZZkg_normal.jpg\",\"profile_image_url_https\":\"https:\\/\\/pbs.twimg.com\\/profile_images\\/696427153911586816\\/Egf9ZZkg_normal.jpg\",\"profile_banner_url\":\"https:\\/\\/pbs.twimg.com\\/profile_banners\\/4665448103\\/1454876148\",\"default_profile\":true,\"default_profile_image\":false,\"following\":null,\"follow_request_sent\":null,\"notifications\":null},\"geo\":null,\"coordinates\":null,\"place\":null,\"contributors\":null,\"is_quote_status\":false,\"retweet_count\":1,\"favorite_count\":0,\"entities\":{\"hashtags\":[{\"text\":\"Database\",\"indices\":[19,28]},{\"text\":\"Python\",\"indices\":[55,62]},{\"text\":\"Flask\",\"indices\":[68,74]}],\"urls\":[{\"url\":\"https:\\/\\/t.co\\/K6eUMguNzn\",\"expanded_url\":\"http:\\/\\/bit.ly\\/1KOiH4s\",\"display_url\":\"bit.ly\\/1KOiH4s\",\"indices\":[75,98]}],\"user_mentions\":[],\"symbols\":[],\"media\":[{\"id\":704366655024058369,\"id_str\":\"704366655024058369\",\"indices\":[99,122],\"media_url\":\"http:\\/\\/pbs.twimg.com\\/media\\/CcZpvahW0AEx3sG.jpg\",\"media_url_https\":\"https:\\/\\/pbs.twimg.com\\/media\\/CcZpvahW0AEx3sG.jpg\",\"url\":\"https:\\/\\/t.co\\/S0usdgd6RN\",\"display_url\":\"pic.twitter.com\\/S0usdgd6RN\",\"expanded_url\":\"http:\\/\\/twitter.com\\/n4th4n2003\\/status\\/704366700418961412\\/photo\\/1\",\"type\":\"photo\",\"sizes\":{\"large\":{\"w\":1024,\"h\":768,\"resize\":\"fit\"},\"thumb\":{\"w\":150,\"h\":150,\"resize\":\"crop\"},\"medium\":{\"w\":600,\"h\":450,\"resize\":\"fit\"},\"small\":{\"w\":340,\"h\":255,\"resize\":\"fit\"}}}]},\"extended_entities\":{\"media\":[{\"id\":704366655024058369,\"id_str\":\"704366655024058369\",\"indices\":[99,122],\"media_url\":\"http:\\/\\/pbs.twimg.com\\/media\\/CcZpvahW0AEx3sG.jpg\",\"media_url_https\":\"https:\\/\\/pbs.twimg.com\\/media\\/CcZpvahW0AEx3sG.jpg\",\"url\":\"https:\\/\\/t.co\\/S0usdgd6RN\",\"display_url\":\"pic.twitter.com\\/S0usdgd6RN\",\"expanded_url\":\"http:\\/\\/twitter.com\\/n4th4n2003\\/status\\/704366700418961412\\/photo\\/1\",\"type\":\"photo\",\"sizes\":{\"large\":{\"w\":1024,\"h\":768,\"resize\":\"fit\"},\"thumb\":{\"w\":150,\"h\":150,\"resize\":\"crop\"},\"medium\":{\"w\":600,\"h\":450,\"resize\":\"fit\"},\"small\":{\"w\":340,\"h\":255,\"resize\":\"fit\"}}}]},\"favorited\":false,\"retweeted\":false,\"possibly_sensitive\":false,\"filter_level\":\"low\",\"lang\":\"fr\"},\"is_quote_status\":false,\"retweet_count\":0,\"favorite_count\":0,\"entities\":{\"hashtags\":[{\"text\":\"Database\",\"indices\":[35,44]},{\"text\":\"Python\",\"indices\":[71,78]},{\"text\":\"Flask\",\"indices\":[84,90]}],\"urls\":[{\"url\":\"https:\\/\\/t.co\\/K6eUMguNzn\",\"expanded_url\":\"http:\\/\\/bit.ly\\/1KOiH4s\",\"display_url\":\"bit.ly\\/1KOiH4s\",\"indices\":[91,114]}],\"user_mentions\":[{\"screen_name\":\"n4th4n2003\",\"name\":\"Futura-Geek\",\"id\":4665448103,\"id_str\":\"4665448103\",\"indices\":[3,14]}],\"symbols\":[],\"media\":[{\"id\":704366655024058369,\"id_str\":\"704366655024058369\",\"indices\":[115,138],\"media_url\":\"http:\\/\\/pbs.twimg.com\\/media\\/CcZpvahW0AEx3sG.jpg\",\"media_url_https\":\"https:\\/\\/pbs.twimg.com\\/media\\/CcZpvahW0AEx3sG.jpg\",\"url\":\"https:\\/\\/t.co\\/S0usdgd6RN\",\"display_url\":\"pic.twitter.com\\/S0usdgd6RN\",\"expanded_url\":\"http:\\/\\/twitter.com\\/n4th4n2003\\/status\\/704366700418961412\\/photo\\/1\",\"type\":\"photo\",\"sizes\":{\"large\":{\"w\":1024,\"h\":768,\"resize\":\"fit\"},\"thumb\":{\"w\":150,\"h\":150,\"resize\":\"crop\"},\"medium\":{\"w\":600,\"h\":450,\"resize\":\"fit\"},\"small\":{\"w\":340,\"h\":255,\"resize\":\"fit\"}},\"source_status_id\":704366700418961412,\"source_status_id_str\":\"704366700418961412\",\"source_user_id\":4665448103,\"source_user_id_str\":\"4665448103\"}]},\"extended_entities\":{\"media\":[{\"id\":704366655024058369,\"id_str\":\"704366655024058369\",\"indices\":[115,138],\"media_url\":\"http:\\/\\/pbs.twimg.com\\/media\\/CcZpvahW0AEx3sG.jpg\",\"media_url_https\":\"https:\\/\\/pbs.twimg.com\\/media\\/CcZpvahW0AEx3sG.jpg\",\"url\":\"https:\\/\\/t.co\\/S0usdgd6RN\",\"display_url\":\"pic.twitter.com\\/S0usdgd6RN\",\"expanded_url\":\"http:\\/\\/twitter.com\\/n4th4n2003\\/status\\/704366700418961412\\/photo\\/1\",\"type\":\"photo\",\"sizes\":{\"large\":{\"w\":1024,\"h\":768,\"resize\":\"fit\"},\"thumb\":{\"w\":150,\"h\":150,\"resize\":\"crop\"},\"medium\":{\"w\":600,\"h\":450,\"resize\":\"fit\"},\"small\":{\"w\":340,\"h\":255,\"resize\":\"fit\"}},\"source_status_id\":704366700418961412,\"source_status_id_str\":\"704366700418961412\",\"source_user_id\":4665448103,\"source_user_id_str\":\"4665448103\"}]},\"favorited\":false,\"retweeted\":false,\"possibly_sensitive\":false,\"filter_level\":\"low\",\"lang\":\"fr\",\"timestamp_ms\":\"1456797602450\"}\n",
      "\n",
      "{\"created_at\":\"Tue Mar 01 02:00:03 +0000 2016\",\"id\":704486328075886592,\"id_str\":\"704486328075886592\",\"text\":\"python\\u3067\\u306eGUI\\uff1aTkInter\\u3068PIL - \\u30b5\\u30a4\\u30d0\\u30fc\\u30ef\\u30fc\\u30eb\\u30c9\\u30fb\\u30e1\\u30e2\\u30e9\\u30f3\\u30c0\\u30e0 https:\\/\\/t.co\\/mtLbQPhszR\",\"source\":\"\\u003ca href=\\\"http:\\/\\/wakamenews.mydns.jp\\/programming.php\\\" rel=\\\"nofollow\\\"\\u003e\\u308f\\u304b\\u3081\\u306b\\u3085\\u30fc\\u3059BOT\\uff08Python\\uff09\\u003c\\/a\\u003e\",\"truncated\":false,\"in_reply_to_status_id\":null,\"in_reply_to_status_id_str\":null,\"in_reply_to_user_id\":null,\"in_reply_to_user_id_str\":null,\"in_reply_to_screen_name\":null,\"user\":{\"id\":205780132,\"id_str\":\"205780132\",\"name\":\"\\u308f\\u304b\\u3081\\u306b\\u3085\\u30fc\\u3059(Python)\",\"screen_name\":\"wPythonnews\",\"location\":\"\\u6d77\\u5e95\",\"url\":\"http:\\/\\/wakamenews.mydns.jp\\/programming.php\",\"description\":\"Python\\u306e\\u60c5\\u5831\\u3068Python\\u95a2\\u9023\\u306e\\u66f8\\u7c4d\\u306e\\u767a\\u58f2\\u65e5\\u3092\\u62fe\\u3063\\u3066\\u304f\\u308bbot\\u3067\\u3059\\u3002\\u8a73\\u3057\\u304f\\u306f\\u672c\\u30b5\\u30a4\\u30c8\\u3078\\u3002\\u8a00\\u8a9e\\u5225bot\\u3082\\u3042\\u308b\\u3088\\u2606\",\"protected\":false,\"verified\":false,\"followers_count\":150,\"friends_count\":0,\"listed_count\":39,\"favourites_count\":0,\"statuses_count\":21967,\"created_at\":\"Thu Oct 21 15:53:47 +0000 2010\",\"utc_offset\":null,\"time_zone\":null,\"geo_enabled\":false,\"lang\":\"ja\",\"contributors_enabled\":false,\"is_translator\":false,\"profile_background_color\":\"C0DEED\",\"profile_background_image_url\":\"http:\\/\\/abs.twimg.com\\/images\\/themes\\/theme1\\/bg.png\",\"profile_background_image_url_https\":\"https:\\/\\/abs.twimg.com\\/images\\/themes\\/theme1\\/bg.png\",\"profile_background_tile\":false,\"profile_link_color\":\"0084B4\",\"profile_sidebar_border_color\":\"C0DEED\",\"profile_sidebar_fill_color\":\"DDEEF6\",\"profile_text_color\":\"333333\",\"profile_use_background_image\":true,\"profile_image_url\":\"http:\\/\\/pbs.twimg.com\\/profile_images\\/1152146837\\/twipython_normal.gif\",\"profile_image_url_https\":\"https:\\/\\/pbs.twimg.com\\/profile_images\\/1152146837\\/twipython_normal.gif\",\"default_profile\":true,\"default_profile_image\":false,\"following\":null,\"follow_request_sent\":null,\"notifications\":null},\"geo\":null,\"coordinates\":null,\"place\":null,\"contributors\":null,\"is_quote_status\":false,\"retweet_count\":0,\"favorite_count\":0,\"entities\":{\"hashtags\":[],\"urls\":[{\"url\":\"https:\\/\\/t.co\\/mtLbQPhszR\",\"expanded_url\":\"http:\\/\\/bit.ly\\/1ndUWHz\",\"display_url\":\"bit.ly\\/1ndUWHz\",\"indices\":[42,65]}],\"user_mentions\":[],\"symbols\":[]},\"favorited\":false,\"retweeted\":false,\"possibly_sensitive\":false,\"filter_level\":\"low\",\"lang\":\"ja\",\"timestamp_ms\":\"1456797603993\"}\n",
      "\n"
     ]
    }
   ],
   "source": [
    "type(t.encoding)"
   ]
  },
  {
   "cell_type": "code",
   "execution_count": null,
   "metadata": {
    "collapsed": true
   },
   "outputs": [],
   "source": []
  },
  {
   "cell_type": "code",
   "execution_count": null,
   "metadata": {
    "collapsed": true
   },
   "outputs": [],
   "source": []
  },
  {
   "cell_type": "code",
   "execution_count": null,
   "metadata": {
    "collapsed": true
   },
   "outputs": [],
   "source": []
  },
  {
   "cell_type": "code",
   "execution_count": null,
   "metadata": {
    "collapsed": true
   },
   "outputs": [],
   "source": []
  },
  {
   "cell_type": "markdown",
   "metadata": {},
   "source": [
    "### Get Spark Streaming going"
   ]
  },
  {
   "cell_type": "code",
   "execution_count": 36,
   "metadata": {
    "collapsed": false
   },
   "outputs": [],
   "source": [
    "from pyspark import SparkContext\n",
    "from pyspark.streaming import StreamingContext"
   ]
  },
  {
   "cell_type": "code",
   "execution_count": 37,
   "metadata": {
    "collapsed": false
   },
   "outputs": [],
   "source": [
    "scc = StreamingContext(sc, 1)"
   ]
  },
  {
   "cell_type": "code",
   "execution_count": 42,
   "metadata": {
    "collapsed": false
   },
   "outputs": [
    {
     "ename": "IndexError",
     "evalue": "list index out of range",
     "output_type": "error",
     "traceback": [
      "\u001b[0;31m---------------------------------------------------------------------------\u001b[0m",
      "\u001b[0;31mIndexError\u001b[0m                                Traceback (most recent call last)",
      "\u001b[0;32m<ipython-input-42-4f449e9afa06>\u001b[0m in \u001b[0;36m<module>\u001b[0;34m()\u001b[0m\n\u001b[0;32m----> 1\u001b[0;31m \u001b[0mscc\u001b[0m\u001b[0;34m.\u001b[0m\u001b[0mqueueStream\u001b[0m\u001b[0;34m(\u001b[0m\u001b[0mlist\u001b[0m\u001b[0;34m(\u001b[0m\u001b[0mcrimes\u001b[0m\u001b[0;34m)\u001b[0m\u001b[0;34m)\u001b[0m\u001b[0;34m\u001b[0m\u001b[0m\n\u001b[0m",
      "\u001b[0;32m/usr/local/Cellar/apache-spark/1.6.0/libexec/python/pyspark/streaming/context.pyc\u001b[0m in \u001b[0;36mqueueStream\u001b[0;34m(self, rdds, oneAtATime, default)\u001b[0m\n\u001b[1;32m    330\u001b[0m         \u001b[0;32melse\u001b[0m\u001b[0;34m:\u001b[0m\u001b[0;34m\u001b[0m\u001b[0m\n\u001b[1;32m    331\u001b[0m             \u001b[0mjdstream\u001b[0m \u001b[0;34m=\u001b[0m \u001b[0mself\u001b[0m\u001b[0;34m.\u001b[0m\u001b[0m_jssc\u001b[0m\u001b[0;34m.\u001b[0m\u001b[0mqueueStream\u001b[0m\u001b[0;34m(\u001b[0m\u001b[0mqueue\u001b[0m\u001b[0;34m,\u001b[0m \u001b[0moneAtATime\u001b[0m\u001b[0;34m)\u001b[0m\u001b[0;34m\u001b[0m\u001b[0m\n\u001b[0;32m--> 332\u001b[0;31m         \u001b[0;32mreturn\u001b[0m \u001b[0mDStream\u001b[0m\u001b[0;34m(\u001b[0m\u001b[0mjdstream\u001b[0m\u001b[0;34m,\u001b[0m \u001b[0mself\u001b[0m\u001b[0;34m,\u001b[0m \u001b[0mrdds\u001b[0m\u001b[0;34m[\u001b[0m\u001b[0;36m0\u001b[0m\u001b[0;34m]\u001b[0m\u001b[0;34m.\u001b[0m\u001b[0m_jrdd_deserializer\u001b[0m\u001b[0;34m)\u001b[0m\u001b[0;34m\u001b[0m\u001b[0m\n\u001b[0m\u001b[1;32m    333\u001b[0m \u001b[0;34m\u001b[0m\u001b[0m\n\u001b[1;32m    334\u001b[0m     \u001b[0;32mdef\u001b[0m \u001b[0mtransform\u001b[0m\u001b[0;34m(\u001b[0m\u001b[0mself\u001b[0m\u001b[0;34m,\u001b[0m \u001b[0mdstreams\u001b[0m\u001b[0;34m,\u001b[0m \u001b[0mtransformFunc\u001b[0m\u001b[0;34m)\u001b[0m\u001b[0;34m:\u001b[0m\u001b[0;34m\u001b[0m\u001b[0m\n",
      "\u001b[0;31mIndexError\u001b[0m: list index out of range"
     ]
    }
   ],
   "source": [
    "scc.queueStream(list(crimes))"
   ]
  },
  {
   "cell_type": "markdown",
   "metadata": {},
   "source": [
    "### Example Tweet"
   ]
  },
  {
   "cell_type": "code",
   "execution_count": 3,
   "metadata": {
    "collapsed": true
   },
   "outputs": [],
   "source": [
    "null = None\n",
    "false = False\n",
    "true = True"
   ]
  },
  {
   "cell_type": "code",
   "execution_count": 4,
   "metadata": {
    "collapsed": false
   },
   "outputs": [],
   "source": [
    "d = {\"created_at\":\"Thu Feb 25 06:56:39 +0000 2016\",\n",
    "     \"id\":702749026899386368,\n",
    "     \"id_str\":\"702749026899386368\",\n",
    "     \"text\":\"\\u0642\\u0631\\u0631\\u062a \\u0634\\u0627\\u0647\\u062f\\u0647 \\u0645\\u0633\\u0644\\u0633\\u0644 \\n\\nAmerican Crime Story\\n\\n\\u0645\\u0627\\u0627\\u0639\\u0631\\u0641 \\u0625\\u0646 \\u0643\\u0627\\u0646 \\u064a\\u0633\\u062a\\u062d\\u0642 \\u0627\\u0644\\u0645\\u062a\\u0627\\u0628\\u0639\\u0647 \\u0627\\u0648\\u0644\\u0627\",\n",
    "     \"source\":\"\\u003ca href=\\\"http:\\/\\/twitter.com\\/download\\/android\\\" rel=\\\"nofollow\\\"\\u003eTwitter for Android\\u003c\\/a\\u003e\",\n",
    "     \"truncated\":false,\n",
    "     \"in_reply_to_status_id\":null,\n",
    "     \"in_reply_to_status_id_str\":null,\n",
    "     \"in_reply_to_user_id\":null,\n",
    "     \"in_reply_to_user_id_str\":null,\n",
    "     \"in_reply_to_screen_name\":null,\n",
    "     \"user\":{\"id\":702736480322588672,\"id_str\":\"702736480322588672\",\n",
    "             \"name\":\"Ayar\",\"screen_name\":\"Elegant_ayar\",\n",
    "             \"location\":null,\"url\":null,\n",
    "             \"description\":\"#ittihad \\u0627\\u0644\\u0627\\u062a\\u062d\\u0627\\u062f \\u0644\\u064a\\u0633 \\u0645\\u064a\\u0648\\u0644 \\u0627\\u0646\\u0645\\u0627 \\u0647\\u0648 \\u0627\\u0633\\u062a\\u0642\\u0627\\u0645\\u0629\",\n",
    "             \"protected\":false,\n",
    "             \"verified\":false,\n",
    "             \"followers_count\":1,\n",
    "             \"friends_count\":14,\n",
    "             \"listed_count\":0,\n",
    "             \"favourites_count\":0,\n",
    "             \"statuses_count\":3,\n",
    "             \"created_at\":\"Thu Feb 25 06:06:47 +0000 2016\",\n",
    "             \"utc_offset\":-28800,\n",
    "             \"time_zone\":\"Pacific Time (US & Canada)\",\n",
    "             \"geo_enabled\":false,\"lang\":\"ar\",\n",
    "             \"contributors_enabled\":false,\n",
    "             \"is_translator\":false,\n",
    "             \"profile_background_color\":\"F5F8FA\",\n",
    "             \"profile_background_image_url\":\"\",\n",
    "             \"profile_background_image_url_https\":\"\",\n",
    "             \"profile_background_tile\":false,\n",
    "             \"profile_link_color\":\"2B7BB9\",\n",
    "             \"profile_sidebar_border_color\":\"C0DEED\",\n",
    "             \"profile_sidebar_fill_color\":\"DDEEF6\",\n",
    "             \"profile_text_color\":\"333333\",\n",
    "             \"profile_use_background_image\":true,\n",
    "             \"profile_image_url\":\"http:\\/\\/pbs.twimg.com\\/profile_images\\/702737851755184128\\/XadozgSJ_normal.png\",\n",
    "             \"profile_image_url_https\":\"https:\\/\\/pbs.twimg.com\\/profile_images\\/702737851755184128\\/XadozgSJ_normal.png\",\n",
    "             \"profile_banner_url\":\"https:\\/\\/pbs.twimg.com\\/profile_banners\\/702736480322588672\\/1456381968\",\n",
    "             \"default_profile\":true,\n",
    "             \"default_profile_image\":false,\n",
    "             \"following\":null,\n",
    "             \"follow_request_sent\":null,\n",
    "             \"notifications\":null},\n",
    "     \"geo\":null,\n",
    "     \"coordinates\":null,\n",
    "     \"place\":null,\n",
    "     \"contributors\":null,\n",
    "     \"is_quote_status\":false,\n",
    "     \"retweet_count\":0,\n",
    "     \"favorite_count\":0,\n",
    "     \"entities\":{\"hashtags\":[],\n",
    "                 \"urls\":[],\n",
    "                 \"user_mentions\":[],\n",
    "                 \"symbols\":[]},\n",
    "     \"favorited\":false,\n",
    "     \"retweeted\":false,\n",
    "     \"filter_level\":\"low\",\n",
    "     \"lang\":\"ar\",\n",
    "     \"timestamp_ms\":\"1456383399115\"}"
   ]
  },
  {
   "cell_type": "markdown",
   "metadata": {},
   "source": [
    "### Making up some shit"
   ]
  },
  {
   "cell_type": "code",
   "execution_count": 1,
   "metadata": {
    "collapsed": true
   },
   "outputs": [],
   "source": [
    "import csv\n",
    "import pandas as pd"
   ]
  },
  {
   "cell_type": "code",
   "execution_count": 2,
   "metadata": {
    "collapsed": false
   },
   "outputs": [],
   "source": [
    "data = pd.read_csv('data/SFPD_Incidents_-_from_1_January_2003.csv')"
   ]
  },
  {
   "cell_type": "code",
   "execution_count": 3,
   "metadata": {
    "collapsed": false
   },
   "outputs": [
    {
     "data": {
      "text/html": [
       "<div>\n",
       "<table border=\"1\" class=\"dataframe\">\n",
       "  <thead>\n",
       "    <tr style=\"text-align: right;\">\n",
       "      <th></th>\n",
       "      <th>IncidntNum</th>\n",
       "      <th>Category</th>\n",
       "      <th>Descript</th>\n",
       "      <th>DayOfWeek</th>\n",
       "      <th>Date</th>\n",
       "      <th>Time</th>\n",
       "      <th>PdDistrict</th>\n",
       "      <th>Resolution</th>\n",
       "      <th>Address</th>\n",
       "      <th>X</th>\n",
       "      <th>Y</th>\n",
       "      <th>Location</th>\n",
       "      <th>PdId</th>\n",
       "    </tr>\n",
       "  </thead>\n",
       "  <tbody>\n",
       "    <tr>\n",
       "      <th>0</th>\n",
       "      <td>160117098</td>\n",
       "      <td>DRIVING UNDER THE INFLUENCE</td>\n",
       "      <td>DRIVING WHILE UNDER THE INFLUENCE OF ALCOHOL</td>\n",
       "      <td>Monday</td>\n",
       "      <td>02/08/2016</td>\n",
       "      <td>23:55</td>\n",
       "      <td>CENTRAL</td>\n",
       "      <td>ARREST, BOOKED</td>\n",
       "      <td>PINE ST / MONTGOMERY ST</td>\n",
       "      <td>-122.402574</td>\n",
       "      <td>37.791898</td>\n",
       "      <td>(37.7918981438883, -122.402573952339)</td>\n",
       "      <td>1.601171e+13</td>\n",
       "    </tr>\n",
       "    <tr>\n",
       "      <th>1</th>\n",
       "      <td>160117098</td>\n",
       "      <td>OTHER OFFENSES</td>\n",
       "      <td>TRAFFIC VIOLATION ARREST</td>\n",
       "      <td>Monday</td>\n",
       "      <td>02/08/2016</td>\n",
       "      <td>23:55</td>\n",
       "      <td>CENTRAL</td>\n",
       "      <td>ARREST, BOOKED</td>\n",
       "      <td>PINE ST / MONTGOMERY ST</td>\n",
       "      <td>-122.402574</td>\n",
       "      <td>37.791898</td>\n",
       "      <td>(37.7918981438883, -122.402573952339)</td>\n",
       "      <td>1.601171e+13</td>\n",
       "    </tr>\n",
       "    <tr>\n",
       "      <th>2</th>\n",
       "      <td>160117010</td>\n",
       "      <td>OTHER OFFENSES</td>\n",
       "      <td>DRIVERS LICENSE, SUSPENDED OR REVOKED</td>\n",
       "      <td>Monday</td>\n",
       "      <td>02/08/2016</td>\n",
       "      <td>23:50</td>\n",
       "      <td>MISSION</td>\n",
       "      <td>ARREST, BOOKED</td>\n",
       "      <td>20TH ST / CHURCH ST</td>\n",
       "      <td>-122.428052</td>\n",
       "      <td>37.758090</td>\n",
       "      <td>(37.7580899767786, -122.428051707644)</td>\n",
       "      <td>1.601170e+13</td>\n",
       "    </tr>\n",
       "    <tr>\n",
       "      <th>3</th>\n",
       "      <td>160117060</td>\n",
       "      <td>ASSAULT</td>\n",
       "      <td>AGGRAVATED ASSAULT ON POLICE OFFICER WITH A KNIFE</td>\n",
       "      <td>Monday</td>\n",
       "      <td>02/08/2016</td>\n",
       "      <td>23:50</td>\n",
       "      <td>BAYVIEW</td>\n",
       "      <td>ARREST, BOOKED</td>\n",
       "      <td>1200 Block of 4TH ST</td>\n",
       "      <td>-122.391397</td>\n",
       "      <td>37.772351</td>\n",
       "      <td>(37.7723509714232, -122.391397033631)</td>\n",
       "      <td>1.601171e+13</td>\n",
       "    </tr>\n",
       "    <tr>\n",
       "      <th>4</th>\n",
       "      <td>160117060</td>\n",
       "      <td>OTHER OFFENSES</td>\n",
       "      <td>RESISTING ARREST</td>\n",
       "      <td>Monday</td>\n",
       "      <td>02/08/2016</td>\n",
       "      <td>23:50</td>\n",
       "      <td>BAYVIEW</td>\n",
       "      <td>ARREST, BOOKED</td>\n",
       "      <td>1200 Block of 4TH ST</td>\n",
       "      <td>-122.391397</td>\n",
       "      <td>37.772351</td>\n",
       "      <td>(37.7723509714232, -122.391397033631)</td>\n",
       "      <td>1.601171e+13</td>\n",
       "    </tr>\n",
       "  </tbody>\n",
       "</table>\n",
       "</div>"
      ],
      "text/plain": [
       "   IncidntNum                     Category  \\\n",
       "0   160117098  DRIVING UNDER THE INFLUENCE   \n",
       "1   160117098               OTHER OFFENSES   \n",
       "2   160117010               OTHER OFFENSES   \n",
       "3   160117060                      ASSAULT   \n",
       "4   160117060               OTHER OFFENSES   \n",
       "\n",
       "                                            Descript DayOfWeek        Date  \\\n",
       "0       DRIVING WHILE UNDER THE INFLUENCE OF ALCOHOL    Monday  02/08/2016   \n",
       "1                           TRAFFIC VIOLATION ARREST    Monday  02/08/2016   \n",
       "2              DRIVERS LICENSE, SUSPENDED OR REVOKED    Monday  02/08/2016   \n",
       "3  AGGRAVATED ASSAULT ON POLICE OFFICER WITH A KNIFE    Monday  02/08/2016   \n",
       "4                                   RESISTING ARREST    Monday  02/08/2016   \n",
       "\n",
       "    Time PdDistrict      Resolution                  Address           X  \\\n",
       "0  23:55    CENTRAL  ARREST, BOOKED  PINE ST / MONTGOMERY ST -122.402574   \n",
       "1  23:55    CENTRAL  ARREST, BOOKED  PINE ST / MONTGOMERY ST -122.402574   \n",
       "2  23:50    MISSION  ARREST, BOOKED      20TH ST / CHURCH ST -122.428052   \n",
       "3  23:50    BAYVIEW  ARREST, BOOKED     1200 Block of 4TH ST -122.391397   \n",
       "4  23:50    BAYVIEW  ARREST, BOOKED     1200 Block of 4TH ST -122.391397   \n",
       "\n",
       "           Y                               Location          PdId  \n",
       "0  37.791898  (37.7918981438883, -122.402573952339)  1.601171e+13  \n",
       "1  37.791898  (37.7918981438883, -122.402573952339)  1.601171e+13  \n",
       "2  37.758090  (37.7580899767786, -122.428051707644)  1.601170e+13  \n",
       "3  37.772351  (37.7723509714232, -122.391397033631)  1.601171e+13  \n",
       "4  37.772351  (37.7723509714232, -122.391397033631)  1.601171e+13  "
      ]
     },
     "execution_count": 3,
     "metadata": {},
     "output_type": "execute_result"
    }
   ],
   "source": [
    "data.head()"
   ]
  },
  {
   "cell_type": "markdown",
   "metadata": {},
   "source": [
    "### Going to have to fudge the Police Datetimes"
   ]
  },
  {
   "cell_type": "code",
   "execution_count": 25,
   "metadata": {
    "collapsed": false
   },
   "outputs": [],
   "source": [
    "import datetime\n",
    "\n",
    "today = datetime.datetime.now()"
   ]
  },
  {
   "cell_type": "code",
   "execution_count": 33,
   "metadata": {
    "collapsed": false
   },
   "outputs": [
    {
     "name": "stdout",
     "output_type": "stream",
     "text": [
      "['2016', '02', '28'] ['10', '50', '39.527769']\n"
     ]
    }
   ],
   "source": [
    "raw = str(today)\n",
    "# Year Month Day, Hour, Minute, Second\n",
    "print raw.split()[0].split('-'), raw.split()[1].split(':')"
   ]
  },
  {
   "cell_type": "markdown",
   "metadata": {},
   "source": [
    "### Will want to make the Police data have up to date time stamps, with some random variation of seconds?"
   ]
  },
  {
   "cell_type": "code",
   "execution_count": 4,
   "metadata": {
    "collapsed": false
   },
   "outputs": [],
   "source": [
    "binned_time = [t.split(':')[0] for t in data['Time']]"
   ]
  },
  {
   "cell_type": "code",
   "execution_count": 5,
   "metadata": {
    "collapsed": true
   },
   "outputs": [],
   "source": [
    "df = data[['Descript', 'Time']]"
   ]
  },
  {
   "cell_type": "code",
   "execution_count": 6,
   "metadata": {
    "collapsed": false
   },
   "outputs": [
    {
     "name": "stderr",
     "output_type": "stream",
     "text": [
      "/Users/LucasRamadan/anaconda/lib/python2.7/site-packages/ipykernel/__main__.py:1: SettingWithCopyWarning: \n",
      "A value is trying to be set on a copy of a slice from a DataFrame.\n",
      "Try using .loc[row_indexer,col_indexer] = value instead\n",
      "\n",
      "See the caveats in the documentation: http://pandas.pydata.org/pandas-docs/stable/indexing.html#indexing-view-versus-copy\n",
      "  if __name__ == '__main__':\n"
     ]
    }
   ],
   "source": [
    "df['Time'] = binned_time"
   ]
  },
  {
   "cell_type": "code",
   "execution_count": 43,
   "metadata": {
    "collapsed": false
   },
   "outputs": [
    {
     "data": {
      "text/html": [
       "<div>\n",
       "<table border=\"1\" class=\"dataframe\">\n",
       "  <thead>\n",
       "    <tr style=\"text-align: right;\">\n",
       "      <th></th>\n",
       "      <th>Descript</th>\n",
       "      <th>Time</th>\n",
       "    </tr>\n",
       "  </thead>\n",
       "  <tbody>\n",
       "    <tr>\n",
       "      <th>0</th>\n",
       "      <td>DRIVING WHILE UNDER THE INFLUENCE OF ALCOHOL</td>\n",
       "      <td>23</td>\n",
       "    </tr>\n",
       "    <tr>\n",
       "      <th>1</th>\n",
       "      <td>TRAFFIC VIOLATION ARREST</td>\n",
       "      <td>23</td>\n",
       "    </tr>\n",
       "    <tr>\n",
       "      <th>2</th>\n",
       "      <td>DRIVERS LICENSE, SUSPENDED OR REVOKED</td>\n",
       "      <td>23</td>\n",
       "    </tr>\n",
       "    <tr>\n",
       "      <th>3</th>\n",
       "      <td>AGGRAVATED ASSAULT ON POLICE OFFICER WITH A KNIFE</td>\n",
       "      <td>23</td>\n",
       "    </tr>\n",
       "    <tr>\n",
       "      <th>4</th>\n",
       "      <td>RESISTING ARREST</td>\n",
       "      <td>23</td>\n",
       "    </tr>\n",
       "  </tbody>\n",
       "</table>\n",
       "</div>"
      ],
      "text/plain": [
       "                                            Descript Time\n",
       "0       DRIVING WHILE UNDER THE INFLUENCE OF ALCOHOL   23\n",
       "1                           TRAFFIC VIOLATION ARREST   23\n",
       "2              DRIVERS LICENSE, SUSPENDED OR REVOKED   23\n",
       "3  AGGRAVATED ASSAULT ON POLICE OFFICER WITH A KNIFE   23\n",
       "4                                   RESISTING ARREST   23"
      ]
     },
     "execution_count": 43,
     "metadata": {},
     "output_type": "execute_result"
    }
   ],
   "source": [
    "df.head()"
   ]
  },
  {
   "cell_type": "code",
   "execution_count": 8,
   "metadata": {
    "collapsed": true
   },
   "outputs": [],
   "source": [
    "with open('data/SFPD_Incidents_-_from_1_January_2003.csv') as f:\n",
    "    data = [row for row in csv.reader(f.read().splitlines())]"
   ]
  },
  {
   "cell_type": "code",
   "execution_count": 9,
   "metadata": {
    "collapsed": false
   },
   "outputs": [
    {
     "data": {
      "text/plain": [
       "['IncidntNum',\n",
       " 'Category',\n",
       " 'Descript',\n",
       " 'DayOfWeek',\n",
       " 'Date',\n",
       " 'Time',\n",
       " 'PdDistrict',\n",
       " 'Resolution',\n",
       " 'Address',\n",
       " 'X',\n",
       " 'Y',\n",
       " 'Location',\n",
       " 'PdId']"
      ]
     },
     "execution_count": 9,
     "metadata": {},
     "output_type": "execute_result"
    }
   ],
   "source": [
    "data[0]"
   ]
  },
  {
   "cell_type": "code",
   "execution_count": 18,
   "metadata": {
    "collapsed": true
   },
   "outputs": [],
   "source": [
    "crimes = ((r[2].lower(), int(r[5].split(':')[0])) for r in data[1:])"
   ]
  },
  {
   "cell_type": "code",
   "execution_count": 19,
   "metadata": {
    "collapsed": false
   },
   "outputs": [
    {
     "data": {
      "text/plain": [
       "generator"
      ]
     },
     "execution_count": 19,
     "metadata": {},
     "output_type": "execute_result"
    }
   ],
   "source": [
    "type(crimes)"
   ]
  },
  {
   "cell_type": "code",
   "execution_count": 20,
   "metadata": {
    "collapsed": false
   },
   "outputs": [
    {
     "data": {
      "text/plain": [
       "('driving while under the influence of alcohol', 23)"
      ]
     },
     "execution_count": 20,
     "metadata": {},
     "output_type": "execute_result"
    }
   ],
   "source": [
    "crimes.next()"
   ]
  },
  {
   "cell_type": "code",
   "execution_count": null,
   "metadata": {
    "collapsed": true
   },
   "outputs": [],
   "source": [
    "# example match\n",
    "'@joeimel updated pic of truck in Drakes Creek @ Barnes School Rd, \\\n",
    "spoke with the owner &amp; his friend was DUI https:\\\\/\\\\/t.co\\\\/sLaek2NyZC'"
   ]
  },
  {
   "cell_type": "code",
   "execution_count": 29,
   "metadata": {
    "collapsed": false
   },
   "outputs": [
    {
     "name": "stdout",
     "output_type": "stream",
     "text": [
      "{\"created_at\":\"Sun Feb 28 19:43:13 +0000 2016\",\"id\":704029106321690624,\"id_str\":\"704029106321690624\",\"text\":\"RT @plfd_driver30: @joeimel updated pic of truck in Drakes Creek @ Barnes School Rd, spoke with the owner &amp; his friend was DUI https:\\/\\/t.co\\u2026\",\"source\":\"\\u003ca href=\\\"http:\\/\\/twitter.com\\/download\\/iphone\\\" rel=\\\"nofollow\\\"\\u003eTwitter for iPhone\\u003c\\/a\\u003e\",\"truncated\":false,\"in_reply_to_status_id\":null,\"in_reply_to_status_id_str\":null,\"in_reply_to_user_id\":null,\"in_reply_to_user_id_str\":null,\"in_reply_to_screen_name\":null,\"user\":{\"id\":862427413,\"id_str\":\"862427413\",\"name\":\"Taylar Epley\",\"screen_name\":\"taylarshea\",\"location\":\"earth\",\"url\":null,\"description\":null,\"protected\":false,\"verified\":false,\"followers_count\":110,\"friends_count\":187,\"listed_count\":1,\"favourites_count\":468,\"statuses_count\":789,\"created_at\":\"Fri Oct 05 03:00:22 +0000 2012\",\"utc_offset\":-18000,\"time_zone\":\"Eastern Time (US & Canada)\",\"geo_enabled\":false,\"lang\":\"en\",\"contributors_enabled\":false,\"is_translator\":false,\"profile_background_color\":\"C0DEED\",\"profile_background_image_url\":\"http:\\/\\/abs.twimg.com\\/images\\/themes\\/theme1\\/bg.png\",\"profile_background_image_url_https\":\"https:\\/\\/abs.twimg.com\\/images\\/themes\\/theme1\\/bg.png\",\"profile_background_tile\":false,\"profile_link_color\":\"0084B4\",\"profile_sidebar_border_color\":\"C0DEED\",\"profile_sidebar_fill_color\":\"DDEEF6\",\"profile_text_color\":\"333333\",\"profile_use_background_image\":true,\"profile_image_url\":\"http:\\/\\/pbs.twimg.com\\/profile_images\\/667112163987824642\\/5XZwrZ7Y_normal.jpg\",\"profile_image_url_https\":\"https:\\/\\/pbs.twimg.com\\/profile_images\\/667112163987824642\\/5XZwrZ7Y_normal.jpg\",\"profile_banner_url\":\"https:\\/\\/pbs.twimg.com\\/profile_banners\\/862427413\\/1444885931\",\"default_profile\":true,\"default_profile_image\":false,\"following\":null,\"follow_request_sent\":null,\"notifications\":null},\"geo\":null,\"coordinates\":null,\"place\":null,\"contributors\":null,\"retweeted_status\":{\"created_at\":\"Sun Feb 28 18:06:25 +0000 2016\",\"id\":704004742503006209,\"id_str\":\"704004742503006209\",\"text\":\"@joeimel updated pic of truck in Drakes Creek @ Barnes School Rd, spoke with the owner &amp; his friend was DUI https:\\/\\/t.co\\/sLaek2NyZC\",\"source\":\"\\u003ca href=\\\"http:\\/\\/twitter.com\\/download\\/android\\\" rel=\\\"nofollow\\\"\\u003eTwitter for Android\\u003c\\/a\\u003e\",\"truncated\":false,\"in_reply_to_status_id\":null,\"in_reply_to_status_id_str\":null,\"in_reply_to_user_id\":14324209,\"in_reply_to_user_id_str\":\"14324209\",\"in_reply_to_screen_name\":\"joeimel\",\"user\":{\"id\":114002010,\"id_str\":\"114002010\",\"name\":\"Richard Enlow Jr\",\"screen_name\":\"plfd_driver30\",\"location\":\"Smiths Grove, KY\",\"url\":null,\"description\":\"Freight Relocation Specialist At Cowan Systems Proud Father, Loving Husband\",\"protected\":false,\"verified\":false,\"followers_count\":190,\"friends_count\":552,\"listed_count\":1,\"favourites_count\":54,\"statuses_count\":1223,\"created_at\":\"Sat Feb 13 19:20:36 +0000 2010\",\"utc_offset\":-18000,\"time_zone\":\"Eastern Time (US & Canada)\",\"geo_enabled\":true,\"lang\":\"en\",\"contributors_enabled\":false,\"is_translator\":false,\"profile_background_color\":\"FFF04D\",\"profile_background_image_url\":\"http:\\/\\/pbs.twimg.com\\/profile_background_images\\/75275170\\/22737_1330547897099_1033048156_996407_4766795_n.jpg\",\"profile_background_image_url_https\":\"https:\\/\\/pbs.twimg.com\\/profile_background_images\\/75275170\\/22737_1330547897099_1033048156_996407_4766795_n.jpg\",\"profile_background_tile\":true,\"profile_link_color\":\"0099CC\",\"profile_sidebar_border_color\":\"FFF8AD\",\"profile_sidebar_fill_color\":\"F6FFD1\",\"profile_text_color\":\"333333\",\"profile_use_background_image\":true,\"profile_image_url\":\"http:\\/\\/pbs.twimg.com\\/profile_images\\/622449105189642240\\/Jw0Zop2l_normal.jpg\",\"profile_image_url_https\":\"https:\\/\\/pbs.twimg.com\\/profile_images\\/622449105189642240\\/Jw0Zop2l_normal.jpg\",\"default_profile\":false,\"default_profile_image\":false,\"following\":null,\"follow_request_sent\":null,\"notifications\":null},\"geo\":null,\"coordinates\":null,\"place\":null,\"contributors\":null,\"is_quote_status\":false,\"retweet_count\":10,\"favorite_count\":5,\"entities\":{\"hashtags\":[],\"urls\":[],\"user_mentions\":[{\"screen_name\":\"joeimel\",\"name\":\"joeimel\",\"id\":14324209,\"id_str\":\"14324209\",\"indices\":[0,8]}],\"symbols\":[],\"media\":[{\"id\":704004563737522176,\"id_str\":\"704004563737522176\",\"indices\":[112,135],\"media_url\":\"http:\\/\\/pbs.twimg.com\\/media\\/CcUga7XUMAAV-xE.jpg\",\"media_url_https\":\"https:\\/\\/pbs.twimg.com\\/media\\/CcUga7XUMAAV-xE.jpg\",\"url\":\"https:\\/\\/t.co\\/sLaek2NyZC\",\"display_url\":\"pic.twitter.com\\/sLaek2NyZC\",\"expanded_url\":\"http:\\/\\/twitter.com\\/plfd_driver30\\/status\\/704004742503006209\\/photo\\/1\",\"type\":\"photo\",\"sizes\":{\"medium\":{\"w\":600,\"h\":1067,\"resize\":\"fit\"},\"thumb\":{\"w\":150,\"h\":150,\"resize\":\"crop\"},\"small\":{\"w\":340,\"h\":604,\"resize\":\"fit\"},\"large\":{\"w\":1024,\"h\":1820,\"resize\":\"fit\"}}}]},\"extended_entities\":{\"media\":[{\"id\":704004563737522176,\"id_str\":\"704004563737522176\",\"indices\":[112,135],\"media_url\":\"http:\\/\\/pbs.twimg.com\\/media\\/CcUga7XUMAAV-xE.jpg\",\"media_url_https\":\"https:\\/\\/pbs.twimg.com\\/media\\/CcUga7XUMAAV-xE.jpg\",\"url\":\"https:\\/\\/t.co\\/sLaek2NyZC\",\"display_url\":\"pic.twitter.com\\/sLaek2NyZC\",\"expanded_url\":\"http:\\/\\/twitter.com\\/plfd_driver30\\/status\\/704004742503006209\\/photo\\/1\",\"type\":\"photo\",\"sizes\":{\"medium\":{\"w\":600,\"h\":1067,\"resize\":\"fit\"},\"thumb\":{\"w\":150,\"h\":150,\"resize\":\"crop\"},\"small\":{\"w\":340,\"h\":604,\"resize\":\"fit\"},\"large\":{\"w\":1024,\"h\":1820,\"resize\":\"fit\"}}}]},\"favorited\":false,\"retweeted\":false,\"possibly_sensitive\":false,\"filter_level\":\"low\",\"lang\":\"en\"},\"is_quote_status\":false,\"retweet_count\":0,\"favorite_count\":0,\"entities\":{\"hashtags\":[],\"urls\":[],\"user_mentions\":[{\"screen_name\":\"plfd_driver30\",\"name\":\"Richard Enlow Jr\",\"id\":114002010,\"id_str\":\"114002010\",\"indices\":[3,17]},{\"screen_name\":\"joeimel\",\"name\":\"joeimel\",\"id\":14324209,\"id_str\":\"14324209\",\"indices\":[19,27]}],\"symbols\":[],\"media\":[{\"id\":704004563737522176,\"id_str\":\"704004563737522176\",\"indices\":[143,144],\"media_url\":\"http:\\/\\/pbs.twimg.com\\/media\\/CcUga7XUMAAV-xE.jpg\",\"media_url_https\":\"https:\\/\\/pbs.twimg.com\\/media\\/CcUga7XUMAAV-xE.jpg\",\"url\":\"https:\\/\\/t.co\\/sLaek2NyZC\",\"display_url\":\"pic.twitter.com\\/sLaek2NyZC\",\"expanded_url\":\"http:\\/\\/twitter.com\\/plfd_driver30\\/status\\/704004742503006209\\/photo\\/1\",\"type\":\"photo\",\"sizes\":{\"medium\":{\"w\":600,\"h\":1067,\"resize\":\"fit\"},\"thumb\":{\"w\":150,\"h\":150,\"resize\":\"crop\"},\"small\":{\"w\":340,\"h\":604,\"resize\":\"fit\"},\"large\":{\"w\":1024,\"h\":1820,\"resize\":\"fit\"}},\"source_status_id\":704004742503006209,\"source_status_id_str\":\"704004742503006209\",\"source_user_id\":114002010,\"source_user_id_str\":\"114002010\"}]},\"extended_entities\":{\"media\":[{\"id\":704004563737522176,\"id_str\":\"704004563737522176\",\"indices\":[143,144],\"media_url\":\"http:\\/\\/pbs.twimg.com\\/media\\/CcUga7XUMAAV-xE.jpg\",\"media_url_https\":\"https:\\/\\/pbs.twimg.com\\/media\\/CcUga7XUMAAV-xE.jpg\",\"url\":\"https:\\/\\/t.co\\/sLaek2NyZC\",\"display_url\":\"pic.twitter.com\\/sLaek2NyZC\",\"expanded_url\":\"http:\\/\\/twitter.com\\/plfd_driver30\\/status\\/704004742503006209\\/photo\\/1\",\"type\":\"photo\",\"sizes\":{\"medium\":{\"w\":600,\"h\":1067,\"resize\":\"fit\"},\"thumb\":{\"w\":150,\"h\":150,\"resize\":\"crop\"},\"small\":{\"w\":340,\"h\":604,\"resize\":\"fit\"},\"large\":{\"w\":1024,\"h\":1820,\"resize\":\"fit\"}},\"source_status_id\":704004742503006209,\"source_status_id_str\":\"704004742503006209\",\"source_user_id\":114002010,\"source_user_id_str\":\"114002010\"}]},\"favorited\":false,\"retweeted\":false,\"possibly_sensitive\":false,\"filter_level\":\"low\",\"lang\":\"en\",\"timestamp_ms\":\"1456688593832\"}\r\n",
      "\n"
     ]
    },
    {
     "ename": "KeyboardInterrupt",
     "evalue": "",
     "output_type": "error",
     "traceback": [
      "\u001b[0;31m---------------------------------------------------------------------------\u001b[0m",
      "\u001b[0;31mKeyboardInterrupt\u001b[0m                         Traceback (most recent call last)",
      "\u001b[0;32m<ipython-input-29-ea323f97c148>\u001b[0m in \u001b[0;36m<module>\u001b[0;34m()\u001b[0m\n\u001b[0;32m----> 1\u001b[0;31m \u001b[0mstream\u001b[0m\u001b[0;34m.\u001b[0m\u001b[0mfilter\u001b[0m\u001b[0;34m(\u001b[0m\u001b[0mtrack\u001b[0m\u001b[0;34m=\u001b[0m\u001b[0;34m[\u001b[0m\u001b[0;34m'DUI'\u001b[0m\u001b[0;34m]\u001b[0m\u001b[0;34m)\u001b[0m\u001b[0;34m\u001b[0m\u001b[0m\n\u001b[0m",
      "\u001b[0;32m/Users/LucasRamadan/anaconda/lib/python2.7/site-packages/tweepy/streaming.pyc\u001b[0m in \u001b[0;36mfilter\u001b[0;34m(self, follow, track, async, locations, stall_warnings, languages, encoding, filter_level)\u001b[0m\n\u001b[1;32m    443\u001b[0m         \u001b[0mself\u001b[0m\u001b[0;34m.\u001b[0m\u001b[0msession\u001b[0m\u001b[0;34m.\u001b[0m\u001b[0mparams\u001b[0m \u001b[0;34m=\u001b[0m \u001b[0;34m{\u001b[0m\u001b[0;34m'delimited'\u001b[0m\u001b[0;34m:\u001b[0m \u001b[0;34m'length'\u001b[0m\u001b[0;34m}\u001b[0m\u001b[0;34m\u001b[0m\u001b[0m\n\u001b[1;32m    444\u001b[0m         \u001b[0mself\u001b[0m\u001b[0;34m.\u001b[0m\u001b[0mhost\u001b[0m \u001b[0;34m=\u001b[0m \u001b[0;34m'stream.twitter.com'\u001b[0m\u001b[0;34m\u001b[0m\u001b[0m\n\u001b[0;32m--> 445\u001b[0;31m         \u001b[0mself\u001b[0m\u001b[0;34m.\u001b[0m\u001b[0m_start\u001b[0m\u001b[0;34m(\u001b[0m\u001b[0masync\u001b[0m\u001b[0;34m)\u001b[0m\u001b[0;34m\u001b[0m\u001b[0m\n\u001b[0m\u001b[1;32m    446\u001b[0m \u001b[0;34m\u001b[0m\u001b[0m\n\u001b[1;32m    447\u001b[0m     def sitestream(self, follow, stall_warnings=False,\n",
      "\u001b[0;32m/Users/LucasRamadan/anaconda/lib/python2.7/site-packages/tweepy/streaming.pyc\u001b[0m in \u001b[0;36m_start\u001b[0;34m(self, async)\u001b[0m\n\u001b[1;32m    359\u001b[0m             \u001b[0mself\u001b[0m\u001b[0;34m.\u001b[0m\u001b[0m_thread\u001b[0m\u001b[0;34m.\u001b[0m\u001b[0mstart\u001b[0m\u001b[0;34m(\u001b[0m\u001b[0;34m)\u001b[0m\u001b[0;34m\u001b[0m\u001b[0m\n\u001b[1;32m    360\u001b[0m         \u001b[0;32melse\u001b[0m\u001b[0;34m:\u001b[0m\u001b[0;34m\u001b[0m\u001b[0m\n\u001b[0;32m--> 361\u001b[0;31m             \u001b[0mself\u001b[0m\u001b[0;34m.\u001b[0m\u001b[0m_run\u001b[0m\u001b[0;34m(\u001b[0m\u001b[0;34m)\u001b[0m\u001b[0;34m\u001b[0m\u001b[0m\n\u001b[0m\u001b[1;32m    362\u001b[0m \u001b[0;34m\u001b[0m\u001b[0m\n\u001b[1;32m    363\u001b[0m     \u001b[0;32mdef\u001b[0m \u001b[0mon_closed\u001b[0m\u001b[0;34m(\u001b[0m\u001b[0mself\u001b[0m\u001b[0;34m,\u001b[0m \u001b[0mresp\u001b[0m\u001b[0;34m)\u001b[0m\u001b[0;34m:\u001b[0m\u001b[0;34m\u001b[0m\u001b[0m\n",
      "\u001b[0;32m/Users/LucasRamadan/anaconda/lib/python2.7/site-packages/tweepy/streaming.pyc\u001b[0m in \u001b[0;36m_run\u001b[0;34m(self)\u001b[0m\n\u001b[1;32m    261\u001b[0m                     \u001b[0mself\u001b[0m\u001b[0;34m.\u001b[0m\u001b[0msnooze_time\u001b[0m \u001b[0;34m=\u001b[0m \u001b[0mself\u001b[0m\u001b[0;34m.\u001b[0m\u001b[0msnooze_time_step\u001b[0m\u001b[0;34m\u001b[0m\u001b[0m\n\u001b[1;32m    262\u001b[0m                     \u001b[0mself\u001b[0m\u001b[0;34m.\u001b[0m\u001b[0mlistener\u001b[0m\u001b[0;34m.\u001b[0m\u001b[0mon_connect\u001b[0m\u001b[0;34m(\u001b[0m\u001b[0;34m)\u001b[0m\u001b[0;34m\u001b[0m\u001b[0m\n\u001b[0;32m--> 263\u001b[0;31m                     \u001b[0mself\u001b[0m\u001b[0;34m.\u001b[0m\u001b[0m_read_loop\u001b[0m\u001b[0;34m(\u001b[0m\u001b[0mresp\u001b[0m\u001b[0;34m)\u001b[0m\u001b[0;34m\u001b[0m\u001b[0m\n\u001b[0m\u001b[1;32m    264\u001b[0m             \u001b[0;32mexcept\u001b[0m \u001b[0;34m(\u001b[0m\u001b[0mTimeout\u001b[0m\u001b[0;34m,\u001b[0m \u001b[0mssl\u001b[0m\u001b[0;34m.\u001b[0m\u001b[0mSSLError\u001b[0m\u001b[0;34m)\u001b[0m \u001b[0;32mas\u001b[0m \u001b[0mexc\u001b[0m\u001b[0;34m:\u001b[0m\u001b[0;34m\u001b[0m\u001b[0m\n\u001b[1;32m    265\u001b[0m                 \u001b[0;31m# This is still necessary, as a SSLError can actually be\u001b[0m\u001b[0;34m\u001b[0m\u001b[0;34m\u001b[0m\u001b[0m\n",
      "\u001b[0;32m/Users/LucasRamadan/anaconda/lib/python2.7/site-packages/tweepy/streaming.pyc\u001b[0m in \u001b[0;36m_read_loop\u001b[0;34m(self, resp)\u001b[0m\n\u001b[1;32m    311\u001b[0m             \u001b[0mlength\u001b[0m \u001b[0;34m=\u001b[0m \u001b[0;36m0\u001b[0m\u001b[0;34m\u001b[0m\u001b[0m\n\u001b[1;32m    312\u001b[0m             \u001b[0;32mwhile\u001b[0m \u001b[0;32mnot\u001b[0m \u001b[0mresp\u001b[0m\u001b[0;34m.\u001b[0m\u001b[0mraw\u001b[0m\u001b[0;34m.\u001b[0m\u001b[0mclosed\u001b[0m\u001b[0;34m:\u001b[0m\u001b[0;34m\u001b[0m\u001b[0m\n\u001b[0;32m--> 313\u001b[0;31m                 \u001b[0mline\u001b[0m \u001b[0;34m=\u001b[0m \u001b[0mbuf\u001b[0m\u001b[0;34m.\u001b[0m\u001b[0mread_line\u001b[0m\u001b[0;34m(\u001b[0m\u001b[0;34m)\u001b[0m\u001b[0;34m.\u001b[0m\u001b[0mstrip\u001b[0m\u001b[0;34m(\u001b[0m\u001b[0;34m)\u001b[0m\u001b[0;34m\u001b[0m\u001b[0m\n\u001b[0m\u001b[1;32m    314\u001b[0m                 \u001b[0;32mif\u001b[0m \u001b[0;32mnot\u001b[0m \u001b[0mline\u001b[0m\u001b[0;34m:\u001b[0m\u001b[0;34m\u001b[0m\u001b[0m\n\u001b[1;32m    315\u001b[0m                     \u001b[0mself\u001b[0m\u001b[0;34m.\u001b[0m\u001b[0mlistener\u001b[0m\u001b[0;34m.\u001b[0m\u001b[0mkeep_alive\u001b[0m\u001b[0;34m(\u001b[0m\u001b[0;34m)\u001b[0m  \u001b[0;31m# keep-alive new lines are expected\u001b[0m\u001b[0;34m\u001b[0m\u001b[0m\n",
      "\u001b[0;32m/Users/LucasRamadan/anaconda/lib/python2.7/site-packages/tweepy/streaming.pyc\u001b[0m in \u001b[0;36mread_line\u001b[0;34m(self, sep)\u001b[0m\n\u001b[1;32m    177\u001b[0m             \u001b[0;32melse\u001b[0m\u001b[0;34m:\u001b[0m\u001b[0;34m\u001b[0m\u001b[0m\n\u001b[1;32m    178\u001b[0m                 \u001b[0mstart\u001b[0m \u001b[0;34m=\u001b[0m \u001b[0mlen\u001b[0m\u001b[0;34m(\u001b[0m\u001b[0mself\u001b[0m\u001b[0;34m.\u001b[0m\u001b[0m_buffer\u001b[0m\u001b[0;34m)\u001b[0m\u001b[0;34m\u001b[0m\u001b[0m\n\u001b[0;32m--> 179\u001b[0;31m             \u001b[0mself\u001b[0m\u001b[0;34m.\u001b[0m\u001b[0m_buffer\u001b[0m \u001b[0;34m+=\u001b[0m \u001b[0mself\u001b[0m\u001b[0;34m.\u001b[0m\u001b[0m_stream\u001b[0m\u001b[0;34m.\u001b[0m\u001b[0mread\u001b[0m\u001b[0;34m(\u001b[0m\u001b[0mself\u001b[0m\u001b[0;34m.\u001b[0m\u001b[0m_chunk_size\u001b[0m\u001b[0;34m)\u001b[0m\u001b[0;34m\u001b[0m\u001b[0m\n\u001b[0m\u001b[1;32m    180\u001b[0m \u001b[0;34m\u001b[0m\u001b[0m\n\u001b[1;32m    181\u001b[0m     \u001b[0;32mdef\u001b[0m \u001b[0m_pop\u001b[0m\u001b[0;34m(\u001b[0m\u001b[0mself\u001b[0m\u001b[0;34m,\u001b[0m \u001b[0mlength\u001b[0m\u001b[0;34m)\u001b[0m\u001b[0;34m:\u001b[0m\u001b[0;34m\u001b[0m\u001b[0m\n",
      "\u001b[0;32m/Users/LucasRamadan/anaconda/lib/python2.7/site-packages/requests/packages/urllib3/response.pyc\u001b[0m in \u001b[0;36mread\u001b[0;34m(self, amt, decode_content, cache_content)\u001b[0m\n\u001b[1;32m    241\u001b[0m                 \u001b[0;32melse\u001b[0m\u001b[0;34m:\u001b[0m\u001b[0;34m\u001b[0m\u001b[0m\n\u001b[1;32m    242\u001b[0m                     \u001b[0mcache_content\u001b[0m \u001b[0;34m=\u001b[0m \u001b[0mFalse\u001b[0m\u001b[0;34m\u001b[0m\u001b[0m\n\u001b[0;32m--> 243\u001b[0;31m                     \u001b[0mdata\u001b[0m \u001b[0;34m=\u001b[0m \u001b[0mself\u001b[0m\u001b[0;34m.\u001b[0m\u001b[0m_fp\u001b[0m\u001b[0;34m.\u001b[0m\u001b[0mread\u001b[0m\u001b[0;34m(\u001b[0m\u001b[0mamt\u001b[0m\u001b[0;34m)\u001b[0m\u001b[0;34m\u001b[0m\u001b[0m\n\u001b[0m\u001b[1;32m    244\u001b[0m                     \u001b[0;32mif\u001b[0m \u001b[0mamt\u001b[0m \u001b[0;34m!=\u001b[0m \u001b[0;36m0\u001b[0m \u001b[0;32mand\u001b[0m \u001b[0;32mnot\u001b[0m \u001b[0mdata\u001b[0m\u001b[0;34m:\u001b[0m  \u001b[0;31m# Platform-specific: Buggy versions of Python.\u001b[0m\u001b[0;34m\u001b[0m\u001b[0m\n\u001b[1;32m    245\u001b[0m                         \u001b[0;31m# Close the connection when no data is returned\u001b[0m\u001b[0;34m\u001b[0m\u001b[0;34m\u001b[0m\u001b[0m\n",
      "\u001b[0;32m/Users/LucasRamadan/anaconda/lib/python2.7/httplib.pyc\u001b[0m in \u001b[0;36mread\u001b[0;34m(self, amt)\u001b[0m\n\u001b[1;32m    586\u001b[0m \u001b[0;34m\u001b[0m\u001b[0m\n\u001b[1;32m    587\u001b[0m         \u001b[0;32mif\u001b[0m \u001b[0mself\u001b[0m\u001b[0;34m.\u001b[0m\u001b[0mchunked\u001b[0m\u001b[0;34m:\u001b[0m\u001b[0;34m\u001b[0m\u001b[0m\n\u001b[0;32m--> 588\u001b[0;31m             \u001b[0;32mreturn\u001b[0m \u001b[0mself\u001b[0m\u001b[0;34m.\u001b[0m\u001b[0m_read_chunked\u001b[0m\u001b[0;34m(\u001b[0m\u001b[0mamt\u001b[0m\u001b[0;34m)\u001b[0m\u001b[0;34m\u001b[0m\u001b[0m\n\u001b[0m\u001b[1;32m    589\u001b[0m \u001b[0;34m\u001b[0m\u001b[0m\n\u001b[1;32m    590\u001b[0m         \u001b[0;32mif\u001b[0m \u001b[0mamt\u001b[0m \u001b[0;32mis\u001b[0m \u001b[0mNone\u001b[0m\u001b[0;34m:\u001b[0m\u001b[0;34m\u001b[0m\u001b[0m\n",
      "\u001b[0;32m/Users/LucasRamadan/anaconda/lib/python2.7/httplib.pyc\u001b[0m in \u001b[0;36m_read_chunked\u001b[0;34m(self, amt)\u001b[0m\n\u001b[1;32m    628\u001b[0m         \u001b[0;32mwhile\u001b[0m \u001b[0mTrue\u001b[0m\u001b[0;34m:\u001b[0m\u001b[0;34m\u001b[0m\u001b[0m\n\u001b[1;32m    629\u001b[0m             \u001b[0;32mif\u001b[0m \u001b[0mchunk_left\u001b[0m \u001b[0;32mis\u001b[0m \u001b[0mNone\u001b[0m\u001b[0;34m:\u001b[0m\u001b[0;34m\u001b[0m\u001b[0m\n\u001b[0;32m--> 630\u001b[0;31m                 \u001b[0mline\u001b[0m \u001b[0;34m=\u001b[0m \u001b[0mself\u001b[0m\u001b[0;34m.\u001b[0m\u001b[0mfp\u001b[0m\u001b[0;34m.\u001b[0m\u001b[0mreadline\u001b[0m\u001b[0;34m(\u001b[0m\u001b[0m_MAXLINE\u001b[0m \u001b[0;34m+\u001b[0m \u001b[0;36m1\u001b[0m\u001b[0;34m)\u001b[0m\u001b[0;34m\u001b[0m\u001b[0m\n\u001b[0m\u001b[1;32m    631\u001b[0m                 \u001b[0;32mif\u001b[0m \u001b[0mlen\u001b[0m\u001b[0;34m(\u001b[0m\u001b[0mline\u001b[0m\u001b[0;34m)\u001b[0m \u001b[0;34m>\u001b[0m \u001b[0m_MAXLINE\u001b[0m\u001b[0;34m:\u001b[0m\u001b[0;34m\u001b[0m\u001b[0m\n\u001b[1;32m    632\u001b[0m                     \u001b[0;32mraise\u001b[0m \u001b[0mLineTooLong\u001b[0m\u001b[0;34m(\u001b[0m\u001b[0;34m\"chunk size\"\u001b[0m\u001b[0;34m)\u001b[0m\u001b[0;34m\u001b[0m\u001b[0m\n",
      "\u001b[0;32m/Users/LucasRamadan/anaconda/lib/python2.7/socket.pyc\u001b[0m in \u001b[0;36mreadline\u001b[0;34m(self, size)\u001b[0m\n\u001b[1;32m    478\u001b[0m             \u001b[0;32mwhile\u001b[0m \u001b[0mTrue\u001b[0m\u001b[0;34m:\u001b[0m\u001b[0;34m\u001b[0m\u001b[0m\n\u001b[1;32m    479\u001b[0m                 \u001b[0;32mtry\u001b[0m\u001b[0;34m:\u001b[0m\u001b[0;34m\u001b[0m\u001b[0m\n\u001b[0;32m--> 480\u001b[0;31m                     \u001b[0mdata\u001b[0m \u001b[0;34m=\u001b[0m \u001b[0mself\u001b[0m\u001b[0;34m.\u001b[0m\u001b[0m_sock\u001b[0m\u001b[0;34m.\u001b[0m\u001b[0mrecv\u001b[0m\u001b[0;34m(\u001b[0m\u001b[0mself\u001b[0m\u001b[0;34m.\u001b[0m\u001b[0m_rbufsize\u001b[0m\u001b[0;34m)\u001b[0m\u001b[0;34m\u001b[0m\u001b[0m\n\u001b[0m\u001b[1;32m    481\u001b[0m                 \u001b[0;32mexcept\u001b[0m \u001b[0merror\u001b[0m\u001b[0;34m,\u001b[0m \u001b[0me\u001b[0m\u001b[0;34m:\u001b[0m\u001b[0;34m\u001b[0m\u001b[0m\n\u001b[1;32m    482\u001b[0m                     \u001b[0;32mif\u001b[0m \u001b[0me\u001b[0m\u001b[0;34m.\u001b[0m\u001b[0margs\u001b[0m\u001b[0;34m[\u001b[0m\u001b[0;36m0\u001b[0m\u001b[0;34m]\u001b[0m \u001b[0;34m==\u001b[0m \u001b[0mEINTR\u001b[0m\u001b[0;34m:\u001b[0m\u001b[0;34m\u001b[0m\u001b[0m\n",
      "\u001b[0;32m/Users/LucasRamadan/anaconda/lib/python2.7/ssl.pyc\u001b[0m in \u001b[0;36mrecv\u001b[0;34m(self, buflen, flags)\u001b[0m\n\u001b[1;32m    732\u001b[0m                     \u001b[0;34m\"non-zero flags not allowed in calls to recv() on %s\"\u001b[0m \u001b[0;34m%\u001b[0m\u001b[0;34m\u001b[0m\u001b[0m\n\u001b[1;32m    733\u001b[0m                     self.__class__)\n\u001b[0;32m--> 734\u001b[0;31m             \u001b[0;32mreturn\u001b[0m \u001b[0mself\u001b[0m\u001b[0;34m.\u001b[0m\u001b[0mread\u001b[0m\u001b[0;34m(\u001b[0m\u001b[0mbuflen\u001b[0m\u001b[0;34m)\u001b[0m\u001b[0;34m\u001b[0m\u001b[0m\n\u001b[0m\u001b[1;32m    735\u001b[0m         \u001b[0;32melse\u001b[0m\u001b[0;34m:\u001b[0m\u001b[0;34m\u001b[0m\u001b[0m\n\u001b[1;32m    736\u001b[0m             \u001b[0;32mreturn\u001b[0m \u001b[0mself\u001b[0m\u001b[0;34m.\u001b[0m\u001b[0m_sock\u001b[0m\u001b[0;34m.\u001b[0m\u001b[0mrecv\u001b[0m\u001b[0;34m(\u001b[0m\u001b[0mbuflen\u001b[0m\u001b[0;34m,\u001b[0m \u001b[0mflags\u001b[0m\u001b[0;34m)\u001b[0m\u001b[0;34m\u001b[0m\u001b[0m\n",
      "\u001b[0;32m/Users/LucasRamadan/anaconda/lib/python2.7/ssl.pyc\u001b[0m in \u001b[0;36mread\u001b[0;34m(self, len, buffer)\u001b[0m\n\u001b[1;32m    619\u001b[0m                 \u001b[0mv\u001b[0m \u001b[0;34m=\u001b[0m \u001b[0mself\u001b[0m\u001b[0;34m.\u001b[0m\u001b[0m_sslobj\u001b[0m\u001b[0;34m.\u001b[0m\u001b[0mread\u001b[0m\u001b[0;34m(\u001b[0m\u001b[0mlen\u001b[0m\u001b[0;34m,\u001b[0m \u001b[0mbuffer\u001b[0m\u001b[0;34m)\u001b[0m\u001b[0;34m\u001b[0m\u001b[0m\n\u001b[1;32m    620\u001b[0m             \u001b[0;32melse\u001b[0m\u001b[0;34m:\u001b[0m\u001b[0;34m\u001b[0m\u001b[0m\n\u001b[0;32m--> 621\u001b[0;31m                 \u001b[0mv\u001b[0m \u001b[0;34m=\u001b[0m \u001b[0mself\u001b[0m\u001b[0;34m.\u001b[0m\u001b[0m_sslobj\u001b[0m\u001b[0;34m.\u001b[0m\u001b[0mread\u001b[0m\u001b[0;34m(\u001b[0m\u001b[0mlen\u001b[0m \u001b[0;32mor\u001b[0m \u001b[0;36m1024\u001b[0m\u001b[0;34m)\u001b[0m\u001b[0;34m\u001b[0m\u001b[0m\n\u001b[0m\u001b[1;32m    622\u001b[0m             \u001b[0;32mreturn\u001b[0m \u001b[0mv\u001b[0m\u001b[0;34m\u001b[0m\u001b[0m\n\u001b[1;32m    623\u001b[0m         \u001b[0;32mexcept\u001b[0m \u001b[0mSSLError\u001b[0m \u001b[0;32mas\u001b[0m \u001b[0mx\u001b[0m\u001b[0;34m:\u001b[0m\u001b[0;34m\u001b[0m\u001b[0m\n",
      "\u001b[0;31mKeyboardInterrupt\u001b[0m: "
     ]
    }
   ],
   "source": [
    "stream.filter(track=['DUI'])"
   ]
  },
  {
   "cell_type": "code",
   "execution_count": null,
   "metadata": {
    "collapsed": true
   },
   "outputs": [],
   "source": [
    "stream.disconnect()"
   ]
  },
  {
   "cell_type": "code",
   "execution_count": 30,
   "metadata": {
    "collapsed": true
   },
   "outputs": [],
   "source": [
    "from pprint import pprint"
   ]
  },
  {
   "cell_type": "code",
   "execution_count": 33,
   "metadata": {
    "collapsed": true
   },
   "outputs": [],
   "source": [
    "false = False\n",
    "true = True\n",
    "null = None"
   ]
  },
  {
   "cell_type": "code",
   "execution_count": 34,
   "metadata": {
    "collapsed": false
   },
   "outputs": [
    {
     "name": "stdout",
     "output_type": "stream",
     "text": [
      "{'contributors': None,\n",
      " 'coordinates': None,\n",
      " 'created_at': 'Sun Feb 28 19:43:13 +0000 2016',\n",
      " 'entities': {'hashtags': [],\n",
      "              'media': [{'display_url': 'pic.twitter.com\\\\/sLaek2NyZC',\n",
      "                         'expanded_url': 'http:\\\\/\\\\/twitter.com\\\\/plfd_driver30\\\\/status\\\\/704004742503006209\\\\/photo\\\\/1',\n",
      "                         'id': 704004563737522176,\n",
      "                         'id_str': '704004563737522176',\n",
      "                         'indices': [143, 144],\n",
      "                         'media_url': 'http:\\\\/\\\\/pbs.twimg.com\\\\/media\\\\/CcUga7XUMAAV-xE.jpg',\n",
      "                         'media_url_https': 'https:\\\\/\\\\/pbs.twimg.com\\\\/media\\\\/CcUga7XUMAAV-xE.jpg',\n",
      "                         'sizes': {'large': {'h': 1820,\n",
      "                                             'resize': 'fit',\n",
      "                                             'w': 1024},\n",
      "                                   'medium': {'h': 1067,\n",
      "                                              'resize': 'fit',\n",
      "                                              'w': 600},\n",
      "                                   'small': {'h': 604,\n",
      "                                             'resize': 'fit',\n",
      "                                             'w': 340},\n",
      "                                   'thumb': {'h': 150,\n",
      "                                             'resize': 'crop',\n",
      "                                             'w': 150}},\n",
      "                         'source_status_id': 704004742503006209,\n",
      "                         'source_status_id_str': '704004742503006209',\n",
      "                         'source_user_id': 114002010,\n",
      "                         'source_user_id_str': '114002010',\n",
      "                         'type': 'photo',\n",
      "                         'url': 'https:\\\\/\\\\/t.co\\\\/sLaek2NyZC'}],\n",
      "              'symbols': [],\n",
      "              'urls': [],\n",
      "              'user_mentions': [{'id': 114002010,\n",
      "                                 'id_str': '114002010',\n",
      "                                 'indices': [3, 17],\n",
      "                                 'name': 'Richard Enlow Jr',\n",
      "                                 'screen_name': 'plfd_driver30'},\n",
      "                                {'id': 14324209,\n",
      "                                 'id_str': '14324209',\n",
      "                                 'indices': [19, 27],\n",
      "                                 'name': 'joeimel',\n",
      "                                 'screen_name': 'joeimel'}]},\n",
      " 'extended_entities': {'media': [{'display_url': 'pic.twitter.com\\\\/sLaek2NyZC',\n",
      "                                  'expanded_url': 'http:\\\\/\\\\/twitter.com\\\\/plfd_driver30\\\\/status\\\\/704004742503006209\\\\/photo\\\\/1',\n",
      "                                  'id': 704004563737522176,\n",
      "                                  'id_str': '704004563737522176',\n",
      "                                  'indices': [143, 144],\n",
      "                                  'media_url': 'http:\\\\/\\\\/pbs.twimg.com\\\\/media\\\\/CcUga7XUMAAV-xE.jpg',\n",
      "                                  'media_url_https': 'https:\\\\/\\\\/pbs.twimg.com\\\\/media\\\\/CcUga7XUMAAV-xE.jpg',\n",
      "                                  'sizes': {'large': {'h': 1820,\n",
      "                                                      'resize': 'fit',\n",
      "                                                      'w': 1024},\n",
      "                                            'medium': {'h': 1067,\n",
      "                                                       'resize': 'fit',\n",
      "                                                       'w': 600},\n",
      "                                            'small': {'h': 604,\n",
      "                                                      'resize': 'fit',\n",
      "                                                      'w': 340},\n",
      "                                            'thumb': {'h': 150,\n",
      "                                                      'resize': 'crop',\n",
      "                                                      'w': 150}},\n",
      "                                  'source_status_id': 704004742503006209,\n",
      "                                  'source_status_id_str': '704004742503006209',\n",
      "                                  'source_user_id': 114002010,\n",
      "                                  'source_user_id_str': '114002010',\n",
      "                                  'type': 'photo',\n",
      "                                  'url': 'https:\\\\/\\\\/t.co\\\\/sLaek2NyZC'}]},\n",
      " 'favorite_count': 0,\n",
      " 'favorited': False,\n",
      " 'filter_level': 'low',\n",
      " 'geo': None,\n",
      " 'id': 704029106321690624,\n",
      " 'id_str': '704029106321690624',\n",
      " 'in_reply_to_screen_name': None,\n",
      " 'in_reply_to_status_id': None,\n",
      " 'in_reply_to_status_id_str': None,\n",
      " 'in_reply_to_user_id': None,\n",
      " 'in_reply_to_user_id_str': None,\n",
      " 'is_quote_status': False,\n",
      " 'lang': 'en',\n",
      " 'place': None,\n",
      " 'possibly_sensitive': False,\n",
      " 'retweet_count': 0,\n",
      " 'retweeted': False,\n",
      " 'retweeted_status': {'contributors': None,\n",
      "                      'coordinates': None,\n",
      "                      'created_at': 'Sun Feb 28 18:06:25 +0000 2016',\n",
      "                      'entities': {'hashtags': [],\n",
      "                                   'media': [{'display_url': 'pic.twitter.com\\\\/sLaek2NyZC',\n",
      "                                              'expanded_url': 'http:\\\\/\\\\/twitter.com\\\\/plfd_driver30\\\\/status\\\\/704004742503006209\\\\/photo\\\\/1',\n",
      "                                              'id': 704004563737522176,\n",
      "                                              'id_str': '704004563737522176',\n",
      "                                              'indices': [112, 135],\n",
      "                                              'media_url': 'http:\\\\/\\\\/pbs.twimg.com\\\\/media\\\\/CcUga7XUMAAV-xE.jpg',\n",
      "                                              'media_url_https': 'https:\\\\/\\\\/pbs.twimg.com\\\\/media\\\\/CcUga7XUMAAV-xE.jpg',\n",
      "                                              'sizes': {'large': {'h': 1820,\n",
      "                                                                  'resize': 'fit',\n",
      "                                                                  'w': 1024},\n",
      "                                                        'medium': {'h': 1067,\n",
      "                                                                   'resize': 'fit',\n",
      "                                                                   'w': 600},\n",
      "                                                        'small': {'h': 604,\n",
      "                                                                  'resize': 'fit',\n",
      "                                                                  'w': 340},\n",
      "                                                        'thumb': {'h': 150,\n",
      "                                                                  'resize': 'crop',\n",
      "                                                                  'w': 150}},\n",
      "                                              'type': 'photo',\n",
      "                                              'url': 'https:\\\\/\\\\/t.co\\\\/sLaek2NyZC'}],\n",
      "                                   'symbols': [],\n",
      "                                   'urls': [],\n",
      "                                   'user_mentions': [{'id': 14324209,\n",
      "                                                      'id_str': '14324209',\n",
      "                                                      'indices': [0, 8],\n",
      "                                                      'name': 'joeimel',\n",
      "                                                      'screen_name': 'joeimel'}]},\n",
      "                      'extended_entities': {'media': [{'display_url': 'pic.twitter.com\\\\/sLaek2NyZC',\n",
      "                                                       'expanded_url': 'http:\\\\/\\\\/twitter.com\\\\/plfd_driver30\\\\/status\\\\/704004742503006209\\\\/photo\\\\/1',\n",
      "                                                       'id': 704004563737522176,\n",
      "                                                       'id_str': '704004563737522176',\n",
      "                                                       'indices': [112,\n",
      "                                                                   135],\n",
      "                                                       'media_url': 'http:\\\\/\\\\/pbs.twimg.com\\\\/media\\\\/CcUga7XUMAAV-xE.jpg',\n",
      "                                                       'media_url_https': 'https:\\\\/\\\\/pbs.twimg.com\\\\/media\\\\/CcUga7XUMAAV-xE.jpg',\n",
      "                                                       'sizes': {'large': {'h': 1820,\n",
      "                                                                           'resize': 'fit',\n",
      "                                                                           'w': 1024},\n",
      "                                                                 'medium': {'h': 1067,\n",
      "                                                                            'resize': 'fit',\n",
      "                                                                            'w': 600},\n",
      "                                                                 'small': {'h': 604,\n",
      "                                                                           'resize': 'fit',\n",
      "                                                                           'w': 340},\n",
      "                                                                 'thumb': {'h': 150,\n",
      "                                                                           'resize': 'crop',\n",
      "                                                                           'w': 150}},\n",
      "                                                       'type': 'photo',\n",
      "                                                       'url': 'https:\\\\/\\\\/t.co\\\\/sLaek2NyZC'}]},\n",
      "                      'favorite_count': 5,\n",
      "                      'favorited': False,\n",
      "                      'filter_level': 'low',\n",
      "                      'geo': None,\n",
      "                      'id': 704004742503006209,\n",
      "                      'id_str': '704004742503006209',\n",
      "                      'in_reply_to_screen_name': 'joeimel',\n",
      "                      'in_reply_to_status_id': None,\n",
      "                      'in_reply_to_status_id_str': None,\n",
      "                      'in_reply_to_user_id': 14324209,\n",
      "                      'in_reply_to_user_id_str': '14324209',\n",
      "                      'is_quote_status': False,\n",
      "                      'lang': 'en',\n",
      "                      'place': None,\n",
      "                      'possibly_sensitive': False,\n",
      "                      'retweet_count': 10,\n",
      "                      'retweeted': False,\n",
      "                      'source': '\\\\u003ca href=\"http:\\\\/\\\\/twitter.com\\\\/download\\\\/android\" rel=\"nofollow\"\\\\u003eTwitter for Android\\\\u003c\\\\/a\\\\u003e',\n",
      "                      'text': '@joeimel updated pic of truck in Drakes Creek @ Barnes School Rd, spoke with the owner &amp; his friend was DUI https:\\\\/\\\\/t.co\\\\/sLaek2NyZC',\n",
      "                      'truncated': False,\n",
      "                      'user': {'contributors_enabled': False,\n",
      "                               'created_at': 'Sat Feb 13 19:20:36 +0000 2010',\n",
      "                               'default_profile': False,\n",
      "                               'default_profile_image': False,\n",
      "                               'description': 'Freight Relocation Specialist At Cowan Systems Proud Father, Loving Husband',\n",
      "                               'favourites_count': 54,\n",
      "                               'follow_request_sent': None,\n",
      "                               'followers_count': 190,\n",
      "                               'following': None,\n",
      "                               'friends_count': 552,\n",
      "                               'geo_enabled': True,\n",
      "                               'id': 114002010,\n",
      "                               'id_str': '114002010',\n",
      "                               'is_translator': False,\n",
      "                               'lang': 'en',\n",
      "                               'listed_count': 1,\n",
      "                               'location': 'Smiths Grove, KY',\n",
      "                               'name': 'Richard Enlow Jr',\n",
      "                               'notifications': None,\n",
      "                               'profile_background_color': 'FFF04D',\n",
      "                               'profile_background_image_url': 'http:\\\\/\\\\/pbs.twimg.com\\\\/profile_background_images\\\\/75275170\\\\/22737_1330547897099_1033048156_996407_4766795_n.jpg',\n",
      "                               'profile_background_image_url_https': 'https:\\\\/\\\\/pbs.twimg.com\\\\/profile_background_images\\\\/75275170\\\\/22737_1330547897099_1033048156_996407_4766795_n.jpg',\n",
      "                               'profile_background_tile': True,\n",
      "                               'profile_image_url': 'http:\\\\/\\\\/pbs.twimg.com\\\\/profile_images\\\\/622449105189642240\\\\/Jw0Zop2l_normal.jpg',\n",
      "                               'profile_image_url_https': 'https:\\\\/\\\\/pbs.twimg.com\\\\/profile_images\\\\/622449105189642240\\\\/Jw0Zop2l_normal.jpg',\n",
      "                               'profile_link_color': '0099CC',\n",
      "                               'profile_sidebar_border_color': 'FFF8AD',\n",
      "                               'profile_sidebar_fill_color': 'F6FFD1',\n",
      "                               'profile_text_color': '333333',\n",
      "                               'profile_use_background_image': True,\n",
      "                               'protected': False,\n",
      "                               'screen_name': 'plfd_driver30',\n",
      "                               'statuses_count': 1223,\n",
      "                               'time_zone': 'Eastern Time (US & Canada)',\n",
      "                               'url': None,\n",
      "                               'utc_offset': -18000,\n",
      "                               'verified': False}},\n",
      " 'source': '\\\\u003ca href=\"http:\\\\/\\\\/twitter.com\\\\/download\\\\/iphone\" rel=\"nofollow\"\\\\u003eTwitter for iPhone\\\\u003c\\\\/a\\\\u003e',\n",
      " 'text': 'RT @plfd_driver30: @joeimel updated pic of truck in Drakes Creek @ Barnes School Rd, spoke with the owner &amp; his friend was DUI https:\\\\/\\\\/t.co\\\\u2026',\n",
      " 'timestamp_ms': '1456688593832',\n",
      " 'truncated': False,\n",
      " 'user': {'contributors_enabled': False,\n",
      "          'created_at': 'Fri Oct 05 03:00:22 +0000 2012',\n",
      "          'default_profile': True,\n",
      "          'default_profile_image': False,\n",
      "          'description': None,\n",
      "          'favourites_count': 468,\n",
      "          'follow_request_sent': None,\n",
      "          'followers_count': 110,\n",
      "          'following': None,\n",
      "          'friends_count': 187,\n",
      "          'geo_enabled': False,\n",
      "          'id': 862427413,\n",
      "          'id_str': '862427413',\n",
      "          'is_translator': False,\n",
      "          'lang': 'en',\n",
      "          'listed_count': 1,\n",
      "          'location': 'earth',\n",
      "          'name': 'Taylar Epley',\n",
      "          'notifications': None,\n",
      "          'profile_background_color': 'C0DEED',\n",
      "          'profile_background_image_url': 'http:\\\\/\\\\/abs.twimg.com\\\\/images\\\\/themes\\\\/theme1\\\\/bg.png',\n",
      "          'profile_background_image_url_https': 'https:\\\\/\\\\/abs.twimg.com\\\\/images\\\\/themes\\\\/theme1\\\\/bg.png',\n",
      "          'profile_background_tile': False,\n",
      "          'profile_banner_url': 'https:\\\\/\\\\/pbs.twimg.com\\\\/profile_banners\\\\/862427413\\\\/1444885931',\n",
      "          'profile_image_url': 'http:\\\\/\\\\/pbs.twimg.com\\\\/profile_images\\\\/667112163987824642\\\\/5XZwrZ7Y_normal.jpg',\n",
      "          'profile_image_url_https': 'https:\\\\/\\\\/pbs.twimg.com\\\\/profile_images\\\\/667112163987824642\\\\/5XZwrZ7Y_normal.jpg',\n",
      "          'profile_link_color': '0084B4',\n",
      "          'profile_sidebar_border_color': 'C0DEED',\n",
      "          'profile_sidebar_fill_color': 'DDEEF6',\n",
      "          'profile_text_color': '333333',\n",
      "          'profile_use_background_image': True,\n",
      "          'protected': False,\n",
      "          'screen_name': 'taylarshea',\n",
      "          'statuses_count': 789,\n",
      "          'time_zone': 'Eastern Time (US & Canada)',\n",
      "          'url': None,\n",
      "          'utc_offset': -18000,\n",
      "          'verified': False}}\n"
     ]
    }
   ],
   "source": [
    "pprint({\"created_at\":\"Sun Feb 28 19:43:13 +0000 2016\",\"id\":704029106321690624,\"id_str\":\"704029106321690624\",\"text\":\"RT @plfd_driver30: @joeimel updated pic of truck in Drakes Creek @ Barnes School Rd, spoke with the owner &amp; his friend was DUI https:\\/\\/t.co\\u2026\",\"source\":\"\\u003ca href=\\\"http:\\/\\/twitter.com\\/download\\/iphone\\\" rel=\\\"nofollow\\\"\\u003eTwitter for iPhone\\u003c\\/a\\u003e\",\"truncated\":false,\"in_reply_to_status_id\":null,\"in_reply_to_status_id_str\":null,\"in_reply_to_user_id\":null,\"in_reply_to_user_id_str\":null,\"in_reply_to_screen_name\":null,\"user\":{\"id\":862427413,\"id_str\":\"862427413\",\"name\":\"Taylar Epley\",\"screen_name\":\"taylarshea\",\"location\":\"earth\",\"url\":null,\"description\":null,\"protected\":false,\"verified\":false,\"followers_count\":110,\"friends_count\":187,\"listed_count\":1,\"favourites_count\":468,\"statuses_count\":789,\"created_at\":\"Fri Oct 05 03:00:22 +0000 2012\",\"utc_offset\":-18000,\"time_zone\":\"Eastern Time (US & Canada)\",\"geo_enabled\":false,\"lang\":\"en\",\"contributors_enabled\":false,\"is_translator\":false,\"profile_background_color\":\"C0DEED\",\"profile_background_image_url\":\"http:\\/\\/abs.twimg.com\\/images\\/themes\\/theme1\\/bg.png\",\"profile_background_image_url_https\":\"https:\\/\\/abs.twimg.com\\/images\\/themes\\/theme1\\/bg.png\",\"profile_background_tile\":false,\"profile_link_color\":\"0084B4\",\"profile_sidebar_border_color\":\"C0DEED\",\"profile_sidebar_fill_color\":\"DDEEF6\",\"profile_text_color\":\"333333\",\"profile_use_background_image\":true,\"profile_image_url\":\"http:\\/\\/pbs.twimg.com\\/profile_images\\/667112163987824642\\/5XZwrZ7Y_normal.jpg\",\"profile_image_url_https\":\"https:\\/\\/pbs.twimg.com\\/profile_images\\/667112163987824642\\/5XZwrZ7Y_normal.jpg\",\"profile_banner_url\":\"https:\\/\\/pbs.twimg.com\\/profile_banners\\/862427413\\/1444885931\",\"default_profile\":true,\"default_profile_image\":false,\"following\":null,\"follow_request_sent\":null,\"notifications\":null},\"geo\":null,\"coordinates\":null,\"place\":null,\"contributors\":null,\"retweeted_status\":{\"created_at\":\"Sun Feb 28 18:06:25 +0000 2016\",\"id\":704004742503006209,\"id_str\":\"704004742503006209\",\"text\":\"@joeimel updated pic of truck in Drakes Creek @ Barnes School Rd, spoke with the owner &amp; his friend was DUI https:\\/\\/t.co\\/sLaek2NyZC\",\"source\":\"\\u003ca href=\\\"http:\\/\\/twitter.com\\/download\\/android\\\" rel=\\\"nofollow\\\"\\u003eTwitter for Android\\u003c\\/a\\u003e\",\"truncated\":false,\"in_reply_to_status_id\":null,\"in_reply_to_status_id_str\":null,\"in_reply_to_user_id\":14324209,\"in_reply_to_user_id_str\":\"14324209\",\"in_reply_to_screen_name\":\"joeimel\",\"user\":{\"id\":114002010,\"id_str\":\"114002010\",\"name\":\"Richard Enlow Jr\",\"screen_name\":\"plfd_driver30\",\"location\":\"Smiths Grove, KY\",\"url\":null,\"description\":\"Freight Relocation Specialist At Cowan Systems Proud Father, Loving Husband\",\"protected\":false,\"verified\":false,\"followers_count\":190,\"friends_count\":552,\"listed_count\":1,\"favourites_count\":54,\"statuses_count\":1223,\"created_at\":\"Sat Feb 13 19:20:36 +0000 2010\",\"utc_offset\":-18000,\"time_zone\":\"Eastern Time (US & Canada)\",\"geo_enabled\":true,\"lang\":\"en\",\"contributors_enabled\":false,\"is_translator\":false,\"profile_background_color\":\"FFF04D\",\"profile_background_image_url\":\"http:\\/\\/pbs.twimg.com\\/profile_background_images\\/75275170\\/22737_1330547897099_1033048156_996407_4766795_n.jpg\",\"profile_background_image_url_https\":\"https:\\/\\/pbs.twimg.com\\/profile_background_images\\/75275170\\/22737_1330547897099_1033048156_996407_4766795_n.jpg\",\"profile_background_tile\":true,\"profile_link_color\":\"0099CC\",\"profile_sidebar_border_color\":\"FFF8AD\",\"profile_sidebar_fill_color\":\"F6FFD1\",\"profile_text_color\":\"333333\",\"profile_use_background_image\":true,\"profile_image_url\":\"http:\\/\\/pbs.twimg.com\\/profile_images\\/622449105189642240\\/Jw0Zop2l_normal.jpg\",\"profile_image_url_https\":\"https:\\/\\/pbs.twimg.com\\/profile_images\\/622449105189642240\\/Jw0Zop2l_normal.jpg\",\"default_profile\":false,\"default_profile_image\":false,\"following\":null,\"follow_request_sent\":null,\"notifications\":null},\"geo\":null,\"coordinates\":null,\"place\":null,\"contributors\":null,\"is_quote_status\":false,\"retweet_count\":10,\"favorite_count\":5,\"entities\":{\"hashtags\":[],\"urls\":[],\"user_mentions\":[{\"screen_name\":\"joeimel\",\"name\":\"joeimel\",\"id\":14324209,\"id_str\":\"14324209\",\"indices\":[0,8]}],\"symbols\":[],\"media\":[{\"id\":704004563737522176,\"id_str\":\"704004563737522176\",\"indices\":[112,135],\"media_url\":\"http:\\/\\/pbs.twimg.com\\/media\\/CcUga7XUMAAV-xE.jpg\",\"media_url_https\":\"https:\\/\\/pbs.twimg.com\\/media\\/CcUga7XUMAAV-xE.jpg\",\"url\":\"https:\\/\\/t.co\\/sLaek2NyZC\",\"display_url\":\"pic.twitter.com\\/sLaek2NyZC\",\"expanded_url\":\"http:\\/\\/twitter.com\\/plfd_driver30\\/status\\/704004742503006209\\/photo\\/1\",\"type\":\"photo\",\"sizes\":{\"medium\":{\"w\":600,\"h\":1067,\"resize\":\"fit\"},\"thumb\":{\"w\":150,\"h\":150,\"resize\":\"crop\"},\"small\":{\"w\":340,\"h\":604,\"resize\":\"fit\"},\"large\":{\"w\":1024,\"h\":1820,\"resize\":\"fit\"}}}]},\"extended_entities\":{\"media\":[{\"id\":704004563737522176,\"id_str\":\"704004563737522176\",\"indices\":[112,135],\"media_url\":\"http:\\/\\/pbs.twimg.com\\/media\\/CcUga7XUMAAV-xE.jpg\",\"media_url_https\":\"https:\\/\\/pbs.twimg.com\\/media\\/CcUga7XUMAAV-xE.jpg\",\"url\":\"https:\\/\\/t.co\\/sLaek2NyZC\",\"display_url\":\"pic.twitter.com\\/sLaek2NyZC\",\"expanded_url\":\"http:\\/\\/twitter.com\\/plfd_driver30\\/status\\/704004742503006209\\/photo\\/1\",\"type\":\"photo\",\"sizes\":{\"medium\":{\"w\":600,\"h\":1067,\"resize\":\"fit\"},\"thumb\":{\"w\":150,\"h\":150,\"resize\":\"crop\"},\"small\":{\"w\":340,\"h\":604,\"resize\":\"fit\"},\"large\":{\"w\":1024,\"h\":1820,\"resize\":\"fit\"}}}]},\"favorited\":false,\"retweeted\":false,\"possibly_sensitive\":false,\"filter_level\":\"low\",\"lang\":\"en\"},\"is_quote_status\":false,\"retweet_count\":0,\"favorite_count\":0,\"entities\":{\"hashtags\":[],\"urls\":[],\"user_mentions\":[{\"screen_name\":\"plfd_driver30\",\"name\":\"Richard Enlow Jr\",\"id\":114002010,\"id_str\":\"114002010\",\"indices\":[3,17]},{\"screen_name\":\"joeimel\",\"name\":\"joeimel\",\"id\":14324209,\"id_str\":\"14324209\",\"indices\":[19,27]}],\"symbols\":[],\"media\":[{\"id\":704004563737522176,\"id_str\":\"704004563737522176\",\"indices\":[143,144],\"media_url\":\"http:\\/\\/pbs.twimg.com\\/media\\/CcUga7XUMAAV-xE.jpg\",\"media_url_https\":\"https:\\/\\/pbs.twimg.com\\/media\\/CcUga7XUMAAV-xE.jpg\",\"url\":\"https:\\/\\/t.co\\/sLaek2NyZC\",\"display_url\":\"pic.twitter.com\\/sLaek2NyZC\",\"expanded_url\":\"http:\\/\\/twitter.com\\/plfd_driver30\\/status\\/704004742503006209\\/photo\\/1\",\"type\":\"photo\",\"sizes\":{\"medium\":{\"w\":600,\"h\":1067,\"resize\":\"fit\"},\"thumb\":{\"w\":150,\"h\":150,\"resize\":\"crop\"},\"small\":{\"w\":340,\"h\":604,\"resize\":\"fit\"},\"large\":{\"w\":1024,\"h\":1820,\"resize\":\"fit\"}},\"source_status_id\":704004742503006209,\"source_status_id_str\":\"704004742503006209\",\"source_user_id\":114002010,\"source_user_id_str\":\"114002010\"}]},\"extended_entities\":{\"media\":[{\"id\":704004563737522176,\"id_str\":\"704004563737522176\",\"indices\":[143,144],\"media_url\":\"http:\\/\\/pbs.twimg.com\\/media\\/CcUga7XUMAAV-xE.jpg\",\"media_url_https\":\"https:\\/\\/pbs.twimg.com\\/media\\/CcUga7XUMAAV-xE.jpg\",\"url\":\"https:\\/\\/t.co\\/sLaek2NyZC\",\"display_url\":\"pic.twitter.com\\/sLaek2NyZC\",\"expanded_url\":\"http:\\/\\/twitter.com\\/plfd_driver30\\/status\\/704004742503006209\\/photo\\/1\",\"type\":\"photo\",\"sizes\":{\"medium\":{\"w\":600,\"h\":1067,\"resize\":\"fit\"},\"thumb\":{\"w\":150,\"h\":150,\"resize\":\"crop\"},\"small\":{\"w\":340,\"h\":604,\"resize\":\"fit\"},\"large\":{\"w\":1024,\"h\":1820,\"resize\":\"fit\"}},\"source_status_id\":704004742503006209,\"source_status_id_str\":\"704004742503006209\",\"source_user_id\":114002010,\"source_user_id_str\":\"114002010\"}]},\"favorited\":false,\"retweeted\":false,\"possibly_sensitive\":false,\"filter_level\":\"low\",\"lang\":\"en\",\"timestamp_ms\":\"1456688593832\"})"
   ]
  },
  {
   "cell_type": "code",
   "execution_count": 47,
   "metadata": {
    "collapsed": false
   },
   "outputs": [],
   "source": [
    "import numpy"
   ]
  },
  {
   "cell_type": "code",
   "execution_count": 50,
   "metadata": {
    "collapsed": true
   },
   "outputs": [],
   "source": [
    "crime = [(r[2].lower(), int(r[5].split(':')[0])) for r in data[1:]]"
   ]
  },
  {
   "cell_type": "code",
   "execution_count": 54,
   "metadata": {
    "collapsed": false
   },
   "outputs": [
    {
     "name": "stdout",
     "output_type": "stream",
     "text": [
      "('enroute to outside jurisdiction', 8)\n"
     ]
    }
   ],
   "source": [
    "print crime[numpy.random.randint(0, len(crime))]"
   ]
  },
  {
   "cell_type": "code",
   "execution_count": null,
   "metadata": {
    "collapsed": true
   },
   "outputs": [],
   "source": []
  }
 ],
 "metadata": {
  "kernelspec": {
   "display_name": "Python 2",
   "language": "python",
   "name": "python2"
  },
  "language_info": {
   "codemirror_mode": {
    "name": "ipython",
    "version": 2
   },
   "file_extension": ".py",
   "mimetype": "text/x-python",
   "name": "python",
   "nbconvert_exporter": "python",
   "pygments_lexer": "ipython2",
   "version": "2.7.11"
  }
 },
 "nbformat": 4,
 "nbformat_minor": 0
}
