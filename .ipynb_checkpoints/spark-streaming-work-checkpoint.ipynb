{
 "cells": [
  {
   "cell_type": "code",
   "execution_count": 1,
   "metadata": {
    "collapsed": false
   },
   "outputs": [
    {
     "data": {
      "text/plain": [
       "<pyspark.context.SparkContext at 0x10900a090>"
      ]
     },
     "execution_count": 1,
     "metadata": {},
     "output_type": "execute_result"
    }
   ],
   "source": [
    "sc"
   ]
  },
  {
   "cell_type": "code",
   "execution_count": 13,
   "metadata": {
    "collapsed": false
   },
   "outputs": [],
   "source": [
    "import os\n",
    "import json\n",
    "from pyspark.streaming import StreamingContext"
   ]
  },
  {
   "cell_type": "code",
   "execution_count": 9,
   "metadata": {
    "collapsed": true
   },
   "outputs": [],
   "source": [
    "tweets = []"
   ]
  },
  {
   "cell_type": "code",
   "execution_count": 10,
   "metadata": {
    "collapsed": true
   },
   "outputs": [],
   "source": [
    "rootdir = '/Users/LucasRamadan/DSCI6007-student/Final-Project/tweets/'"
   ]
  },
  {
   "cell_type": "code",
   "execution_count": 11,
   "metadata": {
    "collapsed": false
   },
   "outputs": [],
   "source": [
    "for subdir, dirs, files in os.walk(rootdir):\n",
    "    # skip the .DS_store\n",
    "    for f in files[1:]:\n",
    "        with open(subdir+f, 'r') as t:\n",
    "            data = json.load(t)\n",
    "            tweet = data.replace('\\n', '').replace('\\r', '').replace('false', 'False').replace('true', 'True').replace('null', 'None')\n",
    "            tweets.append(eval(tweet))"
   ]
  },
  {
   "cell_type": "markdown",
   "metadata": {},
   "source": [
    "### Example work of a tweet on RDD"
   ]
  },
  {
   "cell_type": "code",
   "execution_count": 24,
   "metadata": {
    "collapsed": false
   },
   "outputs": [],
   "source": [
    "tweet_rdd = sc.parallelize(tweets)"
   ]
  },
  {
   "cell_type": "code",
   "execution_count": 37,
   "metadata": {
    "collapsed": false,
    "scrolled": true
   },
   "outputs": [
    {
     "data": {
      "text/plain": [
       "[{'contributors': None,\n",
       "  'coordinates': None,\n",
       "  'created_at': 'Wed Mar 02 20:17:02 +0000 2016',\n",
       "  'entities': {'hashtags': [{'indices': [109, 115], 'text': '7News'}],\n",
       "   'media': [{'display_url': 'pic.twitter.com\\\\/630Wujra1e',\n",
       "     'expanded_url': 'http:\\\\/\\\\/twitter.com\\\\/7NewsAdelaide\\\\/status\\\\/705124779842383872\\\\/photo\\\\/1',\n",
       "     'id': 705124465869348864,\n",
       "     'id_str': '705124465869348864',\n",
       "     'indices': [116, 139],\n",
       "     'media_url': 'http:\\\\/\\\\/pbs.twimg.com\\\\/media\\\\/Ccka9z6UYAAq--D.jpg',\n",
       "     'media_url_https': 'https:\\\\/\\\\/pbs.twimg.com\\\\/media\\\\/Ccka9z6UYAAq--D.jpg',\n",
       "     'sizes': {'large': {'h': 492, 'resize': 'fit', 'w': 1024},\n",
       "      'medium': {'h': 288, 'resize': 'fit', 'w': 600},\n",
       "      'small': {'h': 163, 'resize': 'fit', 'w': 340},\n",
       "      'thumb': {'h': 150, 'resize': 'crop', 'w': 150}},\n",
       "     'type': 'photo',\n",
       "     'url': 'https:\\\\/\\\\/t.co\\\\/630Wujra1e'}],\n",
       "   'symbols': [],\n",
       "   'urls': [],\n",
       "   'user_mentions': []},\n",
       "  'extended_entities': {'media': [{'display_url': 'pic.twitter.com\\\\/630Wujra1e',\n",
       "     'expanded_url': 'http:\\\\/\\\\/twitter.com\\\\/7NewsAdelaide\\\\/status\\\\/705124779842383872\\\\/photo\\\\/1',\n",
       "     'id': 705124465869348864,\n",
       "     'id_str': '705124465869348864',\n",
       "     'indices': [116, 139],\n",
       "     'media_url': 'http:\\\\/\\\\/pbs.twimg.com\\\\/media\\\\/Ccka9z6UYAAq--D.jpg',\n",
       "     'media_url_https': 'https:\\\\/\\\\/pbs.twimg.com\\\\/media\\\\/Ccka9z6UYAAq--D.jpg',\n",
       "     'sizes': {'large': {'h': 492, 'resize': 'fit', 'w': 1024},\n",
       "      'medium': {'h': 288, 'resize': 'fit', 'w': 600},\n",
       "      'small': {'h': 163, 'resize': 'fit', 'w': 340},\n",
       "      'thumb': {'h': 150, 'resize': 'crop', 'w': 150}},\n",
       "     'type': 'photo',\n",
       "     'url': 'https:\\\\/\\\\/t.co\\\\/630Wujra1e'}]},\n",
       "  'favorite_count': 0,\n",
       "  'favorited': False,\n",
       "  'filter_level': 'low',\n",
       "  'geo': None,\n",
       "  'id': 705124779842383872,\n",
       "  'id_str': '705124779842383872',\n",
       "  'in_reply_to_screen_name': None,\n",
       "  'in_reply_to_status_id': None,\n",
       "  'in_reply_to_status_id_str': None,\n",
       "  'in_reply_to_user_id': None,\n",
       "  'in_reply_to_user_id_str': None,\n",
       "  'is_quote_status': False,\n",
       "  'lang': 'en',\n",
       "  'place': None,\n",
       "  'possibly_sensitive': False,\n",
       "  'retweet_count': 0,\n",
       "  'retweeted': False,\n",
       "  'source': '\\\\u003ca href=\"https:\\\\/\\\\/about.twitter.com\\\\/products\\\\/tweetdeck\" rel=\"nofollow\"\\\\u003eTweetDeck\\\\u003c\\\\/a\\\\u003e',\n",
       "  'text': 'Klemzig: Police have arrested a 33y\\\\/o man after an attempted robbery at a service station on OG Rd overnight #7News https:\\\\/\\\\/t.co\\\\/630Wujra1e',\n",
       "  'timestamp_ms': '1456949822756',\n",
       "  'truncated': False,\n",
       "  'user': {'contributors_enabled': False,\n",
       "   'created_at': 'Mon Mar 21 02:16:21 +0000 2011',\n",
       "   'default_profile': False,\n",
       "   'default_profile_image': False,\n",
       "   'description': \"Seven News is Adelaide's leading news service, put together by a team of award winning journalists and cameramen.\\nhttps:\\\\/\\\\/www.facebook.com\\\\/7NewsAdelaide\",\n",
       "   'favourites_count': 5490,\n",
       "   'follow_request_sent': None,\n",
       "   'followers_count': 25105,\n",
       "   'following': None,\n",
       "   'friends_count': 1531,\n",
       "   'geo_enabled': False,\n",
       "   'id': 269581619,\n",
       "   'id_str': '269581619',\n",
       "   'is_translator': False,\n",
       "   'lang': 'en',\n",
       "   'listed_count': 310,\n",
       "   'location': 'Adelaide, South Australia',\n",
       "   'name': '7 News Adelaide',\n",
       "   'notifications': None,\n",
       "   'profile_background_color': 'C0DEED',\n",
       "   'profile_background_image_url': 'http:\\\\/\\\\/pbs.twimg.com\\\\/profile_background_images\\\\/690478587\\\\/ac47d972d68a2b30c30ff5ec376ce553.png',\n",
       "   'profile_background_image_url_https': 'https:\\\\/\\\\/pbs.twimg.com\\\\/profile_background_images\\\\/690478587\\\\/ac47d972d68a2b30c30ff5ec376ce553.png',\n",
       "   'profile_background_tile': True,\n",
       "   'profile_banner_url': 'https:\\\\/\\\\/pbs.twimg.com\\\\/profile_banners\\\\/269581619\\\\/1404366477',\n",
       "   'profile_image_url': 'http:\\\\/\\\\/pbs.twimg.com\\\\/profile_images\\\\/609213140614549504\\\\/IqYQFQTq_normal.jpg',\n",
       "   'profile_image_url_https': 'https:\\\\/\\\\/pbs.twimg.com\\\\/profile_images\\\\/609213140614549504\\\\/IqYQFQTq_normal.jpg',\n",
       "   'profile_link_color': '0084B4',\n",
       "   'profile_sidebar_border_color': 'FFFFFF',\n",
       "   'profile_sidebar_fill_color': 'DDEEF6',\n",
       "   'profile_text_color': '333333',\n",
       "   'profile_use_background_image': True,\n",
       "   'protected': False,\n",
       "   'screen_name': '7NewsAdelaide',\n",
       "   'statuses_count': 46277,\n",
       "   'time_zone': 'Adelaide',\n",
       "   'url': 'http:\\\\/\\\\/www.7news.com.au\\\\/Adelaide',\n",
       "   'utc_offset': 37800,\n",
       "   'verified': True}}]"
      ]
     },
     "execution_count": 37,
     "metadata": {},
     "output_type": "execute_result"
    }
   ],
   "source": [
    "tweet_rdd.take(1)"
   ]
  },
  {
   "cell_type": "code",
   "execution_count": 36,
   "metadata": {
    "collapsed": false
   },
   "outputs": [
    {
     "data": {
      "text/plain": [
       "[[705124782358994945,\n",
       "  'Come to #MobileMakers Demo Day tomorrow 5\\\\u20138pm at 180 Montgomery St, SF. Food, drinks, and launching new apps! https:\\\\/\\\\/t.co\\\\/rTmN7acSsL',\n",
       "  34693158,\n",
       "  'Steve Uffelman',\n",
       "  'San Francisco, CA',\n",
       "  'Wed Mar 02 20:17:03 +0000 2016']]"
      ]
     },
     "execution_count": 36,
     "metadata": {},
     "output_type": "execute_result"
    }
   ],
   "source": [
    "tweet_rdd.map(lambda t: [t['id'], t['text'], t['user']['id'], t['user']['name'], t['user']['location'], t['created_at']]) \\\n",
    "         .filter(lambda (t_id, text, user_id, user_name, user_loc, datetime): 'San Fran' in user_loc) \\\n",
    "         .take(1)"
   ]
  },
  {
   "cell_type": "code",
   "execution_count": null,
   "metadata": {
    "collapsed": true
   },
   "outputs": [],
   "source": []
  },
  {
   "cell_type": "markdown",
   "metadata": {},
   "source": [
    "### Get the SFPD Data in RDD"
   ]
  },
  {
   "cell_type": "code",
   "execution_count": null,
   "metadata": {
    "collapsed": true
   },
   "outputs": [],
   "source": []
  },
  {
   "cell_type": "markdown",
   "metadata": {},
   "source": [
    "### Trying Streaming"
   ]
  },
  {
   "cell_type": "code",
   "execution_count": 14,
   "metadata": {
    "collapsed": true
   },
   "outputs": [],
   "source": [
    "ssc = StreamingContext(sc, 1)"
   ]
  },
  {
   "cell_type": "code",
   "execution_count": 17,
   "metadata": {
    "collapsed": false
   },
   "outputs": [],
   "source": [
    "tweet_stream = ssc.queueStream(tweets)"
   ]
  },
  {
   "cell_type": "code",
   "execution_count": 18,
   "metadata": {
    "collapsed": false
   },
   "outputs": [
    {
     "data": {
      "text/plain": [
       "<pyspark.streaming.dstream.DStream at 0x114402e50>"
      ]
     },
     "execution_count": 18,
     "metadata": {},
     "output_type": "execute_result"
    }
   ],
   "source": [
    "tweet_stream"
   ]
  },
  {
   "cell_type": "code",
   "execution_count": 19,
   "metadata": {
    "collapsed": true
   },
   "outputs": [],
   "source": [
    "tweet_stream."
   ]
  },
  {
   "cell_type": "code",
   "execution_count": null,
   "metadata": {
    "collapsed": true
   },
   "outputs": [],
   "source": []
  }
 ],
 "metadata": {
  "kernelspec": {
   "display_name": "Python 2",
   "language": "python",
   "name": "python2"
  },
  "language_info": {
   "codemirror_mode": {
    "name": "ipython",
    "version": 2
   },
   "file_extension": ".py",
   "mimetype": "text/x-python",
   "name": "python",
   "nbconvert_exporter": "python",
   "pygments_lexer": "ipython2",
   "version": "2.7.11"
  }
 },
 "nbformat": 4,
 "nbformat_minor": 0
}
