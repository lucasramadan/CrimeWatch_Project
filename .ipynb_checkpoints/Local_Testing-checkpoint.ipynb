{
 "cells": [
  {
   "cell_type": "markdown",
   "metadata": {},
   "source": [
    "## Imports"
   ]
  },
  {
   "cell_type": "code",
   "execution_count": 1,
   "metadata": {
    "collapsed": true
   },
   "outputs": [],
   "source": [
    "import pandas as pd\n",
    "import json\n",
    "import os\n",
    "from pprint import pprint\n",
    "from ftfy import ftfy\n",
    "import datetime\n",
    "import time\n",
    "import matplotlib.pyplot as plt\n",
    "%matplotlib inline"
   ]
  },
  {
   "cell_type": "markdown",
   "metadata": {},
   "source": [
    "# BATCH DATA"
   ]
  },
  {
   "cell_type": "markdown",
   "metadata": {},
   "source": [
    "### Read in SFPD Crime Data"
   ]
  },
  {
   "cell_type": "code",
   "execution_count": 2,
   "metadata": {
    "collapsed": true
   },
   "outputs": [],
   "source": [
    "police = pd.read_csv('data/SFPD_Incidents_-_from_1_January_2003.csv')"
   ]
  },
  {
   "cell_type": "code",
   "execution_count": 3,
   "metadata": {
    "collapsed": false
   },
   "outputs": [
    {
     "data": {
      "text/html": [
       "<div>\n",
       "<table border=\"1\" class=\"dataframe\">\n",
       "  <thead>\n",
       "    <tr style=\"text-align: right;\">\n",
       "      <th></th>\n",
       "      <th>IncidntNum</th>\n",
       "      <th>Category</th>\n",
       "      <th>Descript</th>\n",
       "      <th>DayOfWeek</th>\n",
       "      <th>Date</th>\n",
       "      <th>Time</th>\n",
       "      <th>PdDistrict</th>\n",
       "      <th>Resolution</th>\n",
       "      <th>Address</th>\n",
       "      <th>X</th>\n",
       "      <th>Y</th>\n",
       "      <th>Location</th>\n",
       "      <th>PdId</th>\n",
       "    </tr>\n",
       "  </thead>\n",
       "  <tbody>\n",
       "    <tr>\n",
       "      <th>0</th>\n",
       "      <td>160117098</td>\n",
       "      <td>DRIVING UNDER THE INFLUENCE</td>\n",
       "      <td>DRIVING WHILE UNDER THE INFLUENCE OF ALCOHOL</td>\n",
       "      <td>Monday</td>\n",
       "      <td>02/08/2016</td>\n",
       "      <td>23:55</td>\n",
       "      <td>CENTRAL</td>\n",
       "      <td>ARREST, BOOKED</td>\n",
       "      <td>PINE ST / MONTGOMERY ST</td>\n",
       "      <td>-122.402574</td>\n",
       "      <td>37.791898</td>\n",
       "      <td>(37.7918981438883, -122.402573952339)</td>\n",
       "      <td>1.601171e+13</td>\n",
       "    </tr>\n",
       "    <tr>\n",
       "      <th>1</th>\n",
       "      <td>160117098</td>\n",
       "      <td>OTHER OFFENSES</td>\n",
       "      <td>TRAFFIC VIOLATION ARREST</td>\n",
       "      <td>Monday</td>\n",
       "      <td>02/08/2016</td>\n",
       "      <td>23:55</td>\n",
       "      <td>CENTRAL</td>\n",
       "      <td>ARREST, BOOKED</td>\n",
       "      <td>PINE ST / MONTGOMERY ST</td>\n",
       "      <td>-122.402574</td>\n",
       "      <td>37.791898</td>\n",
       "      <td>(37.7918981438883, -122.402573952339)</td>\n",
       "      <td>1.601171e+13</td>\n",
       "    </tr>\n",
       "    <tr>\n",
       "      <th>2</th>\n",
       "      <td>160117010</td>\n",
       "      <td>OTHER OFFENSES</td>\n",
       "      <td>DRIVERS LICENSE, SUSPENDED OR REVOKED</td>\n",
       "      <td>Monday</td>\n",
       "      <td>02/08/2016</td>\n",
       "      <td>23:50</td>\n",
       "      <td>MISSION</td>\n",
       "      <td>ARREST, BOOKED</td>\n",
       "      <td>20TH ST / CHURCH ST</td>\n",
       "      <td>-122.428052</td>\n",
       "      <td>37.758090</td>\n",
       "      <td>(37.7580899767786, -122.428051707644)</td>\n",
       "      <td>1.601170e+13</td>\n",
       "    </tr>\n",
       "    <tr>\n",
       "      <th>3</th>\n",
       "      <td>160117060</td>\n",
       "      <td>ASSAULT</td>\n",
       "      <td>AGGRAVATED ASSAULT ON POLICE OFFICER WITH A KNIFE</td>\n",
       "      <td>Monday</td>\n",
       "      <td>02/08/2016</td>\n",
       "      <td>23:50</td>\n",
       "      <td>BAYVIEW</td>\n",
       "      <td>ARREST, BOOKED</td>\n",
       "      <td>1200 Block of 4TH ST</td>\n",
       "      <td>-122.391397</td>\n",
       "      <td>37.772351</td>\n",
       "      <td>(37.7723509714232, -122.391397033631)</td>\n",
       "      <td>1.601171e+13</td>\n",
       "    </tr>\n",
       "    <tr>\n",
       "      <th>4</th>\n",
       "      <td>160117060</td>\n",
       "      <td>OTHER OFFENSES</td>\n",
       "      <td>RESISTING ARREST</td>\n",
       "      <td>Monday</td>\n",
       "      <td>02/08/2016</td>\n",
       "      <td>23:50</td>\n",
       "      <td>BAYVIEW</td>\n",
       "      <td>ARREST, BOOKED</td>\n",
       "      <td>1200 Block of 4TH ST</td>\n",
       "      <td>-122.391397</td>\n",
       "      <td>37.772351</td>\n",
       "      <td>(37.7723509714232, -122.391397033631)</td>\n",
       "      <td>1.601171e+13</td>\n",
       "    </tr>\n",
       "  </tbody>\n",
       "</table>\n",
       "</div>"
      ],
      "text/plain": [
       "   IncidntNum                     Category  \\\n",
       "0   160117098  DRIVING UNDER THE INFLUENCE   \n",
       "1   160117098               OTHER OFFENSES   \n",
       "2   160117010               OTHER OFFENSES   \n",
       "3   160117060                      ASSAULT   \n",
       "4   160117060               OTHER OFFENSES   \n",
       "\n",
       "                                            Descript DayOfWeek        Date  \\\n",
       "0       DRIVING WHILE UNDER THE INFLUENCE OF ALCOHOL    Monday  02/08/2016   \n",
       "1                           TRAFFIC VIOLATION ARREST    Monday  02/08/2016   \n",
       "2              DRIVERS LICENSE, SUSPENDED OR REVOKED    Monday  02/08/2016   \n",
       "3  AGGRAVATED ASSAULT ON POLICE OFFICER WITH A KNIFE    Monday  02/08/2016   \n",
       "4                                   RESISTING ARREST    Monday  02/08/2016   \n",
       "\n",
       "    Time PdDistrict      Resolution                  Address           X  \\\n",
       "0  23:55    CENTRAL  ARREST, BOOKED  PINE ST / MONTGOMERY ST -122.402574   \n",
       "1  23:55    CENTRAL  ARREST, BOOKED  PINE ST / MONTGOMERY ST -122.402574   \n",
       "2  23:50    MISSION  ARREST, BOOKED      20TH ST / CHURCH ST -122.428052   \n",
       "3  23:50    BAYVIEW  ARREST, BOOKED     1200 Block of 4TH ST -122.391397   \n",
       "4  23:50    BAYVIEW  ARREST, BOOKED     1200 Block of 4TH ST -122.391397   \n",
       "\n",
       "           Y                               Location          PdId  \n",
       "0  37.791898  (37.7918981438883, -122.402573952339)  1.601171e+13  \n",
       "1  37.791898  (37.7918981438883, -122.402573952339)  1.601171e+13  \n",
       "2  37.758090  (37.7580899767786, -122.428051707644)  1.601170e+13  \n",
       "3  37.772351  (37.7723509714232, -122.391397033631)  1.601171e+13  \n",
       "4  37.772351  (37.7723509714232, -122.391397033631)  1.601171e+13  "
      ]
     },
     "execution_count": 3,
     "metadata": {},
     "output_type": "execute_result"
    }
   ],
   "source": [
    "police.head()"
   ]
  },
  {
   "cell_type": "code",
   "execution_count": 4,
   "metadata": {
    "collapsed": false
   },
   "outputs": [
    {
     "name": "stdout",
     "output_type": "stream",
     "text": [
      "<class 'pandas.core.frame.DataFrame'>\n",
      "Int64Index: 1407904 entries, 0 to 1407903\n",
      "Data columns (total 13 columns):\n",
      "IncidntNum    1407904 non-null int64\n",
      "Category      1407904 non-null object\n",
      "Descript      1407904 non-null object\n",
      "DayOfWeek     1407904 non-null object\n",
      "Date          1407904 non-null object\n",
      "Time          1407904 non-null object\n",
      "PdDistrict    1407903 non-null object\n",
      "Resolution    1407904 non-null object\n",
      "Address       1407904 non-null object\n",
      "X             1407903 non-null float64\n",
      "Y             1407903 non-null float64\n",
      "Location      1407903 non-null object\n",
      "PdId          1407903 non-null float64\n",
      "dtypes: float64(3), int64(1), object(9)\n",
      "memory usage: 150.4+ MB\n"
     ]
    }
   ],
   "source": [
    "police.info()"
   ]
  },
  {
   "cell_type": "code",
   "execution_count": 5,
   "metadata": {
    "collapsed": true
   },
   "outputs": [],
   "source": [
    "def conv_hours(s):\n",
    "    hour, mins = map(float, s.split(':'))\n",
    "    return hour + mins/60.0"
   ]
  },
  {
   "cell_type": "code",
   "execution_count": 6,
   "metadata": {
    "collapsed": false
   },
   "outputs": [],
   "source": [
    "times = police['Time'].apply(conv_hours)"
   ]
  },
  {
   "cell_type": "code",
   "execution_count": 7,
   "metadata": {
    "collapsed": false
   },
   "outputs": [
    {
     "data": {
      "image/png": "[encoded data removed]",
      "text/plain": [
       "<matplotlib.figure.Figure at 0x122659e10>"
      ]
     },
     "metadata": {},
     "output_type": "display_data"
    }
   ],
   "source": [
    "# Distribution of the times\n",
    "plt.hist(times)\n",
    "plt.title('Crime by Hour')\n",
    "plt.xlabel('Hour')\n",
    "plt.ylabel('Counts');"
   ]
  },
  {
   "cell_type": "markdown",
   "metadata": {},
   "source": [
    "### Reading in the captured Tweets"
   ]
  },
  {
   "cell_type": "code",
   "execution_count": 8,
   "metadata": {
    "collapsed": true
   },
   "outputs": [],
   "source": [
    "tweets = []\n",
    "rootdir = '/Users/LucasRamadan/DSCI6007-student/Final-Project/tweets/'"
   ]
  },
  {
   "cell_type": "code",
   "execution_count": 9,
   "metadata": {
    "collapsed": true
   },
   "outputs": [],
   "source": [
    "for subdir, dirs, files in os.walk(rootdir):\n",
    "    # skip the .DS_store\n",
    "    for f in files[1:]:\n",
    "        with open(subdir+f, 'r') as t:\n",
    "            data = json.load(t)\n",
    "            tweet = data.replace('\\n', '').replace('\\r', '').replace('false', 'False').replace('true', 'True').replace('null', 'None')\n",
    "            tweets.append(eval(tweet))"
   ]
  },
  {
   "cell_type": "code",
   "execution_count": 10,
   "metadata": {
    "collapsed": true
   },
   "outputs": [],
   "source": [
    "clean_data = []"
   ]
  },
  {
   "cell_type": "code",
   "execution_count": 11,
   "metadata": {
    "collapsed": true
   },
   "outputs": [],
   "source": [
    "for tweet in tweets:\n",
    "    clean_data.append((tweet['created_at'], tweet['id'], tweet['text'], tweet['user']['name'], tweet['user']['location']))"
   ]
  },
  {
   "cell_type": "code",
   "execution_count": 12,
   "metadata": {
    "collapsed": false
   },
   "outputs": [],
   "source": [
    "twitter = pd.DataFrame(clean_data, columns=['Date', 'Tweet_ID', 'Content', 'Username', 'Location'])"
   ]
  },
  {
   "cell_type": "code",
   "execution_count": 13,
   "metadata": {
    "collapsed": false
   },
   "outputs": [
    {
     "data": {
      "text/html": [
       "<div>\n",
       "<table border=\"1\" class=\"dataframe\">\n",
       "  <thead>\n",
       "    <tr style=\"text-align: right;\">\n",
       "      <th></th>\n",
       "      <th>Date</th>\n",
       "      <th>Tweet_ID</th>\n",
       "      <th>Content</th>\n",
       "      <th>Username</th>\n",
       "      <th>Location</th>\n",
       "    </tr>\n",
       "  </thead>\n",
       "  <tbody>\n",
       "    <tr>\n",
       "      <th>0</th>\n",
       "      <td>Wed Mar 02 20:17:02 +0000 2016</td>\n",
       "      <td>705124779842383872</td>\n",
       "      <td>Klemzig: Police have arrested a 33y\\/o man aft...</td>\n",
       "      <td>7 News Adelaide</td>\n",
       "      <td>Adelaide, South Australia</td>\n",
       "    </tr>\n",
       "    <tr>\n",
       "      <th>1</th>\n",
       "      <td>Wed Mar 02 20:17:03 +0000 2016</td>\n",
       "      <td>705124782358994945</td>\n",
       "      <td>Come to #MobileMakers Demo Day tomorrow 5\\u201...</td>\n",
       "      <td>Steve Uffelman</td>\n",
       "      <td>San Francisco, CA</td>\n",
       "    </tr>\n",
       "    <tr>\n",
       "      <th>2</th>\n",
       "      <td>Wed Mar 02 20:17:03 +0000 2016</td>\n",
       "      <td>705124782522630145</td>\n",
       "      <td>RT @BeardedBearce: My mind is dangerous so don...</td>\n",
       "      <td>Candi</td>\n",
       "      <td>in a world of my own</td>\n",
       "    </tr>\n",
       "    <tr>\n",
       "      <th>3</th>\n",
       "      <td>Wed Mar 02 20:17:03 +0000 2016</td>\n",
       "      <td>705124783072092160</td>\n",
       "      <td>RT @WSJ: Indicted ex-CEO Aubrey McClendon foun...</td>\n",
       "      <td>CG</td>\n",
       "      <td>None</td>\n",
       "    </tr>\n",
       "    <tr>\n",
       "      <th>4</th>\n",
       "      <td>Wed Mar 02 20:17:03 +0000 2016</td>\n",
       "      <td>705124783114100737</td>\n",
       "      <td>RT @WritersofColour: .@1500ANDcounting is an u...</td>\n",
       "      <td>1500ANDcounting.</td>\n",
       "      <td>Very Much Outside the Box.</td>\n",
       "    </tr>\n",
       "  </tbody>\n",
       "</table>\n",
       "</div>"
      ],
      "text/plain": [
       "                             Date            Tweet_ID  \\\n",
       "0  Wed Mar 02 20:17:02 +0000 2016  705124779842383872   \n",
       "1  Wed Mar 02 20:17:03 +0000 2016  705124782358994945   \n",
       "2  Wed Mar 02 20:17:03 +0000 2016  705124782522630145   \n",
       "3  Wed Mar 02 20:17:03 +0000 2016  705124783072092160   \n",
       "4  Wed Mar 02 20:17:03 +0000 2016  705124783114100737   \n",
       "\n",
       "                                             Content          Username  \\\n",
       "0  Klemzig: Police have arrested a 33y\\/o man aft...   7 News Adelaide   \n",
       "1  Come to #MobileMakers Demo Day tomorrow 5\\u201...    Steve Uffelman   \n",
       "2  RT @BeardedBearce: My mind is dangerous so don...             Candi   \n",
       "3  RT @WSJ: Indicted ex-CEO Aubrey McClendon foun...                CG   \n",
       "4  RT @WritersofColour: .@1500ANDcounting is an u...  1500ANDcounting.   \n",
       "\n",
       "                     Location  \n",
       "0   Adelaide, South Australia  \n",
       "1           San Francisco, CA  \n",
       "2       in a world of my own   \n",
       "3                        None  \n",
       "4  Very Much Outside the Box.  "
      ]
     },
     "execution_count": 13,
     "metadata": {},
     "output_type": "execute_result"
    }
   ],
   "source": [
    "twitter.head()"
   ]
  },
  {
   "cell_type": "code",
   "execution_count": 14,
   "metadata": {
    "collapsed": false
   },
   "outputs": [
    {
     "name": "stdout",
     "output_type": "stream",
     "text": [
      "<class 'pandas.core.frame.DataFrame'>\n",
      "Int64Index: 4416 entries, 0 to 4415\n",
      "Data columns (total 5 columns):\n",
      "Date        4416 non-null object\n",
      "Tweet_ID    4416 non-null int64\n",
      "Content     4416 non-null object\n",
      "Username    4416 non-null object\n",
      "Location    2977 non-null object\n",
      "dtypes: int64(1), object(4)\n",
      "memory usage: 207.0+ KB\n"
     ]
    }
   ],
   "source": [
    "twitter.info()"
   ]
  },
  {
   "cell_type": "markdown",
   "metadata": {},
   "source": [
    "### Fix the Twitter DT"
   ]
  },
  {
   "cell_type": "code",
   "execution_count": 15,
   "metadata": {
    "collapsed": true
   },
   "outputs": [],
   "source": [
    "import calendar"
   ]
  },
  {
   "cell_type": "code",
   "execution_count": 16,
   "metadata": {
    "collapsed": true
   },
   "outputs": [],
   "source": [
    "month_abbr = {month: i for i, month in enumerate(calendar.month_abbr)}"
   ]
  },
  {
   "cell_type": "code",
   "execution_count": 17,
   "metadata": {
    "collapsed": false
   },
   "outputs": [],
   "source": [
    "def twitter_datetime(s):\n",
    "    dow, month, day, time, _, year = s.split()\n",
    "    hour, mins, sec = map(int, time.split(':'))\n",
    "    return datetime.datetime(int(year), month_abbr[month], int(day),  hour, mins, sec, 0)"
   ]
  },
  {
   "cell_type": "code",
   "execution_count": 18,
   "metadata": {
    "collapsed": false,
    "scrolled": true
   },
   "outputs": [],
   "source": [
    "twitter['datetime'] = twitter['Date'].apply(twitter_datetime)\n",
    "twitter.drop(\"Date\", axis=1, inplace=True);"
   ]
  },
  {
   "cell_type": "code",
   "execution_count": 19,
   "metadata": {
    "collapsed": false
   },
   "outputs": [
    {
     "data": {
      "text/html": [
       "<div>\n",
       "<table border=\"1\" class=\"dataframe\">\n",
       "  <thead>\n",
       "    <tr style=\"text-align: right;\">\n",
       "      <th></th>\n",
       "      <th>Tweet_ID</th>\n",
       "      <th>Content</th>\n",
       "      <th>Username</th>\n",
       "      <th>Location</th>\n",
       "      <th>datetime</th>\n",
       "    </tr>\n",
       "  </thead>\n",
       "  <tbody>\n",
       "    <tr>\n",
       "      <th>0</th>\n",
       "      <td>705124779842383872</td>\n",
       "      <td>Klemzig: Police have arrested a 33y\\/o man aft...</td>\n",
       "      <td>7 News Adelaide</td>\n",
       "      <td>Adelaide, South Australia</td>\n",
       "      <td>2016-03-02 20:17:02</td>\n",
       "    </tr>\n",
       "    <tr>\n",
       "      <th>1</th>\n",
       "      <td>705124782358994945</td>\n",
       "      <td>Come to #MobileMakers Demo Day tomorrow 5\\u201...</td>\n",
       "      <td>Steve Uffelman</td>\n",
       "      <td>San Francisco, CA</td>\n",
       "      <td>2016-03-02 20:17:03</td>\n",
       "    </tr>\n",
       "    <tr>\n",
       "      <th>2</th>\n",
       "      <td>705124782522630145</td>\n",
       "      <td>RT @BeardedBearce: My mind is dangerous so don...</td>\n",
       "      <td>Candi</td>\n",
       "      <td>in a world of my own</td>\n",
       "      <td>2016-03-02 20:17:03</td>\n",
       "    </tr>\n",
       "    <tr>\n",
       "      <th>3</th>\n",
       "      <td>705124783072092160</td>\n",
       "      <td>RT @WSJ: Indicted ex-CEO Aubrey McClendon foun...</td>\n",
       "      <td>CG</td>\n",
       "      <td>None</td>\n",
       "      <td>2016-03-02 20:17:03</td>\n",
       "    </tr>\n",
       "    <tr>\n",
       "      <th>4</th>\n",
       "      <td>705124783114100737</td>\n",
       "      <td>RT @WritersofColour: .@1500ANDcounting is an u...</td>\n",
       "      <td>1500ANDcounting.</td>\n",
       "      <td>Very Much Outside the Box.</td>\n",
       "      <td>2016-03-02 20:17:03</td>\n",
       "    </tr>\n",
       "  </tbody>\n",
       "</table>\n",
       "</div>"
      ],
      "text/plain": [
       "             Tweet_ID                                            Content  \\\n",
       "0  705124779842383872  Klemzig: Police have arrested a 33y\\/o man aft...   \n",
       "1  705124782358994945  Come to #MobileMakers Demo Day tomorrow 5\\u201...   \n",
       "2  705124782522630145  RT @BeardedBearce: My mind is dangerous so don...   \n",
       "3  705124783072092160  RT @WSJ: Indicted ex-CEO Aubrey McClendon foun...   \n",
       "4  705124783114100737  RT @WritersofColour: .@1500ANDcounting is an u...   \n",
       "\n",
       "           Username                    Location            datetime  \n",
       "0   7 News Adelaide   Adelaide, South Australia 2016-03-02 20:17:02  \n",
       "1    Steve Uffelman           San Francisco, CA 2016-03-02 20:17:03  \n",
       "2             Candi       in a world of my own  2016-03-02 20:17:03  \n",
       "3                CG                        None 2016-03-02 20:17:03  \n",
       "4  1500ANDcounting.  Very Much Outside the Box. 2016-03-02 20:17:03  "
      ]
     },
     "execution_count": 19,
     "metadata": {},
     "output_type": "execute_result"
    }
   ],
   "source": [
    "twitter.head()"
   ]
  },
  {
   "cell_type": "markdown",
   "metadata": {},
   "source": [
    "### Need to only take Tweets from San Francisco"
   ]
  },
  {
   "cell_type": "markdown",
   "metadata": {},
   "source": [
    "Possible Locations:\n",
    "    - San Fran\n",
    "    - San Francisco\n",
    "    - San Francisco, CA"
   ]
  },
  {
   "cell_type": "code",
   "execution_count": 20,
   "metadata": {
    "collapsed": true
   },
   "outputs": [],
   "source": [
    "def in_sf(s):\n",
    "    if s != None:\n",
    "        if 'San Fran' in s:\n",
    "            return 1\n",
    "        else: \n",
    "            return 0\n",
    "    else:\n",
    "        return 0"
   ]
  },
  {
   "cell_type": "code",
   "execution_count": 21,
   "metadata": {
    "collapsed": false
   },
   "outputs": [],
   "source": [
    "twitter['In_SF'] = twitter['Location'].apply(in_sf)"
   ]
  },
  {
   "cell_type": "code",
   "execution_count": 22,
   "metadata": {
    "collapsed": true
   },
   "outputs": [],
   "source": [
    "twitter_sf = twitter.loc[twitter.In_SF==1]"
   ]
  },
  {
   "cell_type": "code",
   "execution_count": 23,
   "metadata": {
    "collapsed": false
   },
   "outputs": [
    {
     "name": "stdout",
     "output_type": "stream",
     "text": [
      "<class 'pandas.core.frame.DataFrame'>\n",
      "Int64Index: 42 entries, 1 to 4331\n",
      "Data columns (total 6 columns):\n",
      "Tweet_ID    42 non-null int64\n",
      "Content     42 non-null object\n",
      "Username    42 non-null object\n",
      "Location    42 non-null object\n",
      "datetime    42 non-null datetime64[ns]\n",
      "In_SF       42 non-null int64\n",
      "dtypes: datetime64[ns](1), int64(2), object(3)\n",
      "memory usage: 2.3+ KB\n"
     ]
    }
   ],
   "source": [
    "twitter_sf.info()"
   ]
  },
  {
   "cell_type": "markdown",
   "metadata": {},
   "source": [
    "### Now fix the Police DT"
   ]
  },
  {
   "cell_type": "code",
   "execution_count": 24,
   "metadata": {
    "collapsed": false
   },
   "outputs": [],
   "source": [
    "def sfpd_datetime(t):\n",
    "    hour, mins = map(int, t.split(':'))\n",
    "    year, month, day = datetime.date.today().timetuple()[:3]\n",
    "    return datetime.datetime(year, month, day, hour, mins)"
   ]
  },
  {
   "cell_type": "code",
   "execution_count": 25,
   "metadata": {
    "collapsed": false
   },
   "outputs": [],
   "source": [
    "police['datetime'] = police['Time'].apply(sfpd_datetime)\n",
    "police.drop(['Date', 'Time'], axis=1, inplace=True)"
   ]
  },
  {
   "cell_type": "code",
   "execution_count": 26,
   "metadata": {
    "collapsed": false
   },
   "outputs": [
    {
     "data": {
      "text/html": [
       "<div>\n",
       "<table border=\"1\" class=\"dataframe\">\n",
       "  <thead>\n",
       "    <tr style=\"text-align: right;\">\n",
       "      <th></th>\n",
       "      <th>IncidntNum</th>\n",
       "      <th>Category</th>\n",
       "      <th>Descript</th>\n",
       "      <th>DayOfWeek</th>\n",
       "      <th>PdDistrict</th>\n",
       "      <th>Resolution</th>\n",
       "      <th>Address</th>\n",
       "      <th>X</th>\n",
       "      <th>Y</th>\n",
       "      <th>Location</th>\n",
       "      <th>PdId</th>\n",
       "      <th>datetime</th>\n",
       "    </tr>\n",
       "  </thead>\n",
       "  <tbody>\n",
       "    <tr>\n",
       "      <th>0</th>\n",
       "      <td>160117098</td>\n",
       "      <td>DRIVING UNDER THE INFLUENCE</td>\n",
       "      <td>DRIVING WHILE UNDER THE INFLUENCE OF ALCOHOL</td>\n",
       "      <td>Monday</td>\n",
       "      <td>CENTRAL</td>\n",
       "      <td>ARREST, BOOKED</td>\n",
       "      <td>PINE ST / MONTGOMERY ST</td>\n",
       "      <td>-122.402574</td>\n",
       "      <td>37.791898</td>\n",
       "      <td>(37.7918981438883, -122.402573952339)</td>\n",
       "      <td>1.601171e+13</td>\n",
       "      <td>2016-03-02 23:55:00</td>\n",
       "    </tr>\n",
       "    <tr>\n",
       "      <th>1</th>\n",
       "      <td>160117098</td>\n",
       "      <td>OTHER OFFENSES</td>\n",
       "      <td>TRAFFIC VIOLATION ARREST</td>\n",
       "      <td>Monday</td>\n",
       "      <td>CENTRAL</td>\n",
       "      <td>ARREST, BOOKED</td>\n",
       "      <td>PINE ST / MONTGOMERY ST</td>\n",
       "      <td>-122.402574</td>\n",
       "      <td>37.791898</td>\n",
       "      <td>(37.7918981438883, -122.402573952339)</td>\n",
       "      <td>1.601171e+13</td>\n",
       "      <td>2016-03-02 23:55:00</td>\n",
       "    </tr>\n",
       "    <tr>\n",
       "      <th>2</th>\n",
       "      <td>160117010</td>\n",
       "      <td>OTHER OFFENSES</td>\n",
       "      <td>DRIVERS LICENSE, SUSPENDED OR REVOKED</td>\n",
       "      <td>Monday</td>\n",
       "      <td>MISSION</td>\n",
       "      <td>ARREST, BOOKED</td>\n",
       "      <td>20TH ST / CHURCH ST</td>\n",
       "      <td>-122.428052</td>\n",
       "      <td>37.758090</td>\n",
       "      <td>(37.7580899767786, -122.428051707644)</td>\n",
       "      <td>1.601170e+13</td>\n",
       "      <td>2016-03-02 23:50:00</td>\n",
       "    </tr>\n",
       "    <tr>\n",
       "      <th>3</th>\n",
       "      <td>160117060</td>\n",
       "      <td>ASSAULT</td>\n",
       "      <td>AGGRAVATED ASSAULT ON POLICE OFFICER WITH A KNIFE</td>\n",
       "      <td>Monday</td>\n",
       "      <td>BAYVIEW</td>\n",
       "      <td>ARREST, BOOKED</td>\n",
       "      <td>1200 Block of 4TH ST</td>\n",
       "      <td>-122.391397</td>\n",
       "      <td>37.772351</td>\n",
       "      <td>(37.7723509714232, -122.391397033631)</td>\n",
       "      <td>1.601171e+13</td>\n",
       "      <td>2016-03-02 23:50:00</td>\n",
       "    </tr>\n",
       "    <tr>\n",
       "      <th>4</th>\n",
       "      <td>160117060</td>\n",
       "      <td>OTHER OFFENSES</td>\n",
       "      <td>RESISTING ARREST</td>\n",
       "      <td>Monday</td>\n",
       "      <td>BAYVIEW</td>\n",
       "      <td>ARREST, BOOKED</td>\n",
       "      <td>1200 Block of 4TH ST</td>\n",
       "      <td>-122.391397</td>\n",
       "      <td>37.772351</td>\n",
       "      <td>(37.7723509714232, -122.391397033631)</td>\n",
       "      <td>1.601171e+13</td>\n",
       "      <td>2016-03-02 23:50:00</td>\n",
       "    </tr>\n",
       "  </tbody>\n",
       "</table>\n",
       "</div>"
      ],
      "text/plain": [
       "   IncidntNum                     Category  \\\n",
       "0   160117098  DRIVING UNDER THE INFLUENCE   \n",
       "1   160117098               OTHER OFFENSES   \n",
       "2   160117010               OTHER OFFENSES   \n",
       "3   160117060                      ASSAULT   \n",
       "4   160117060               OTHER OFFENSES   \n",
       "\n",
       "                                            Descript DayOfWeek PdDistrict  \\\n",
       "0       DRIVING WHILE UNDER THE INFLUENCE OF ALCOHOL    Monday    CENTRAL   \n",
       "1                           TRAFFIC VIOLATION ARREST    Monday    CENTRAL   \n",
       "2              DRIVERS LICENSE, SUSPENDED OR REVOKED    Monday    MISSION   \n",
       "3  AGGRAVATED ASSAULT ON POLICE OFFICER WITH A KNIFE    Monday    BAYVIEW   \n",
       "4                                   RESISTING ARREST    Monday    BAYVIEW   \n",
       "\n",
       "       Resolution                  Address           X          Y  \\\n",
       "0  ARREST, BOOKED  PINE ST / MONTGOMERY ST -122.402574  37.791898   \n",
       "1  ARREST, BOOKED  PINE ST / MONTGOMERY ST -122.402574  37.791898   \n",
       "2  ARREST, BOOKED      20TH ST / CHURCH ST -122.428052  37.758090   \n",
       "3  ARREST, BOOKED     1200 Block of 4TH ST -122.391397  37.772351   \n",
       "4  ARREST, BOOKED     1200 Block of 4TH ST -122.391397  37.772351   \n",
       "\n",
       "                                Location          PdId            datetime  \n",
       "0  (37.7918981438883, -122.402573952339)  1.601171e+13 2016-03-02 23:55:00  \n",
       "1  (37.7918981438883, -122.402573952339)  1.601171e+13 2016-03-02 23:55:00  \n",
       "2  (37.7580899767786, -122.428051707644)  1.601170e+13 2016-03-02 23:50:00  \n",
       "3  (37.7723509714232, -122.391397033631)  1.601171e+13 2016-03-02 23:50:00  \n",
       "4  (37.7723509714232, -122.391397033631)  1.601171e+13 2016-03-02 23:50:00  "
      ]
     },
     "execution_count": 26,
     "metadata": {},
     "output_type": "execute_result"
    }
   ],
   "source": [
    "police.head()"
   ]
  },
  {
   "cell_type": "markdown",
   "metadata": {},
   "source": [
    "### Now we can compare the Date and Times and match"
   ]
  },
  {
   "cell_type": "code",
   "execution_count": 27,
   "metadata": {
    "collapsed": false
   },
   "outputs": [],
   "source": [
    "# example of taking difference of datetimes\n",
    "tweet_ex = twitter_sf.ix[1092]['datetime']"
   ]
  },
  {
   "cell_type": "code",
   "execution_count": 28,
   "metadata": {
    "collapsed": false
   },
   "outputs": [
    {
     "name": "stdout",
     "output_type": "stream",
     "text": [
      "RT @AP: BREAKING: Oklahoma police: Ex-Chesapeake CEO Aubrey McClendon has died in a car wreck after indictment.\n",
      "2016-03-02 20:19:18\n"
     ]
    }
   ],
   "source": [
    "print twitter_sf.ix[1092][\"Content\"]\n",
    "print twitter_sf.ix[1092]['datetime']"
   ]
  },
  {
   "cell_type": "code",
   "execution_count": 30,
   "metadata": {
    "collapsed": false,
    "scrolled": true
   },
   "outputs": [
    {
     "name": "stdout",
     "output_type": "stream",
     "text": [
      "160116761\n",
      "160116761\n",
      "160116705\n",
      "166033838\n",
      "160118632\n",
      "166033509\n",
      "160116664\n",
      "160118369\n",
      "160116595\n",
      "160116614\n",
      "160116620\n",
      "160116620\n",
      "160116620\n",
      "160116589\n",
      "160116608\n",
      "160117139\n",
      "166032476\n",
      "166036531\n",
      "160121691\n",
      "166033991\n",
      "166032539\n",
      "160118121\n",
      "160117678\n",
      "160116636\n",
      "160116686\n",
      "160116686\n",
      "160116545\n",
      "160113529\n",
      "160113450\n",
      "160123722\n",
      "166034892\n",
      "160113369\n",
      "160113400\n",
      "160114210\n",
      "166034438\n",
      "160113466\n",
      "160118353\n",
      "166032244\n",
      "166037523\n",
      "160113701\n",
      "160114179\n",
      "160115321\n",
      "160110995\n",
      "160113193\n",
      "160108031\n",
      "160117189\n",
      "166034381\n",
      "166034604\n",
      "160128982\n",
      "160110967\n",
      "160112264\n",
      "160110569\n",
      "166032341\n",
      "160110860\n",
      "160112929\n",
      "166031434\n",
      "160110519\n"
     ]
    }
   ],
   "source": [
    "# only look at the 1000 most recent incidents\n",
    "\n",
    "for i in xrange(1000):\n",
    "    time_diff = police.ix[i]['datetime'] - tweet_ex\n",
    "    # ie the tweet was within an hour of the crime\n",
    "    if time_diff.seconds <= 3600:\n",
    "        print police.ix[i]['IncidntNum']"
   ]
  },
  {
   "cell_type": "markdown",
   "metadata": {
    "collapsed": true
   },
   "source": [
    "### Make Tweet Generator and then match with a example police incident"
   ]
  },
  {
   "cell_type": "code",
   "execution_count": null,
   "metadata": {
    "collapsed": true
   },
   "outputs": [],
   "source": []
  }
 ],
 "metadata": {
  "kernelspec": {
   "display_name": "Python 2",
   "language": "python",
   "name": "python2"
  },
  "language_info": {
   "codemirror_mode": {
    "name": "ipython",
    "version": 2
   },
   "file_extension": ".py",
   "mimetype": "text/x-python",
   "name": "python",
   "nbconvert_exporter": "python",
   "pygments_lexer": "ipython2",
   "version": "2.7.11"
  }
 },
 "nbformat": 4,
 "nbformat_minor": 0
}
